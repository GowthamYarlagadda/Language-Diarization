{
 "cells": [
  {
   "cell_type": "markdown",
   "metadata": {
    "id": "CNqCpJpCBfbY"
   },
   "source": [
    "Mounting Google Drive Storage"
   ]
  },
  {
   "cell_type": "code",
   "execution_count": null,
   "metadata": {
    "colab": {
     "base_uri": "https://localhost:8080/"
    },
    "executionInfo": {
     "elapsed": 100329,
     "status": "ok",
     "timestamp": 1619171595438,
     "user": {
      "displayName": "Rushikesh Dixit",
      "photoUrl": "https://lh3.googleusercontent.com/a-/AOh14Gg4PGST5zJVgz3ysS7EfSVnOzHpIUCy6u7HGIJoug=s64",
      "userId": "01124894738038503111"
     },
     "user_tz": -330
    },
    "id": "gVyvreixas5E",
    "outputId": "ffed9ed4-c2df-4643-ae20-dd54fca09843"
   },
   "outputs": [
    {
     "name": "stdout",
     "output_type": "stream",
     "text": [
      "Mounted at /content/drive\n"
     ]
    }
   ],
   "source": [
    "from google.colab import drive\n",
    "drive.mount('/content/drive')"
   ]
  },
  {
   "cell_type": "markdown",
   "metadata": {
    "id": "PuqWcR1NBmLP"
   },
   "source": [
    "Changing to Working Directory"
   ]
  },
  {
   "cell_type": "code",
   "execution_count": null,
   "metadata": {
    "colab": {
     "base_uri": "https://localhost:8080/"
    },
    "executionInfo": {
     "elapsed": 3638,
     "status": "ok",
     "timestamp": 1619171600454,
     "user": {
      "displayName": "Rushikesh Dixit",
      "photoUrl": "https://lh3.googleusercontent.com/a-/AOh14Gg4PGST5zJVgz3ysS7EfSVnOzHpIUCy6u7HGIJoug=s64",
      "userId": "01124894738038503111"
     },
     "user_tz": -330
    },
    "id": "YSXf8t8UZDtt",
    "outputId": "b4ef96d3-56dd-4588-c12f-bbb0c12bdd97"
   },
   "outputs": [
    {
     "name": "stdout",
     "output_type": "stream",
     "text": [
      "Current Directory : /content/drive/Shareddrives/SP'21 : Course Project : SLR/Notebooks/Datasets/VoxLingua107 \n",
      "Directory Contents:\n",
      " ['ab.zip', 'af.zip', 'am.zip', 'ar.zip', 'as.zip', 'az.zip', 'ba.zip', 'be.zip', 'bg.zip', 'bn.zip', 'bo.zip', 'br.zip', 'bs.zip', 'ca.zip', 'ceb.zip', 'cs.zip', 'cy.zip', 'da.zip', 'de.zip', 'el.zip', 'en.zip', 'eo.zip', 'es.zip', 'et.zip', 'eu.zip', 'fa.zip', 'fi.zip', 'fo.zip', 'fr.zip', 'gl.zip', 'gn.zip', 'gu.zip', 'gv.zip', 'ha.zip', 'haw.zip', 'hi.zip', 'hr.zip', 'ht.zip', 'hu.zip', 'hy.zip', 'ia.zip', 'id.zip', 'is.zip', 'it.zip', 'iw.zip', 'ja.zip', 'jw.zip', 'ka.zip', 'kk.zip', 'km.zip', 'kn.zip', 'ko.zip', 'la.zip', 'lb.zip', 'ln.zip', 'lo.zip', 'lt.zip', 'lv.zip', 'mg.zip', 'mi.zip', 'mk.zip', 'ml.zip', 'mn.zip', 'mr.zip', 'ms.zip', 'mt.zip', 'my.zip', 'ne.zip', 'nl.zip', 'nn.zip', 'no.zip', 'oc.zip', 'pa.zip', 'pl.zip', 'ps.zip', 'pt.zip', 'ro.zip', 'ru.zip', 'sa.zip', 'sco.zip', 'sd.zip', 'si.zip', 'sk.zip', 'sl.zip', 'sn.zip', 'so.zip', 'sq.zip', 'sr.zip', 'su.zip', 'sv.zip', 'sw.zip', 'zh.zip', 'ta.zip', 'te.zip', 'tg.zip', 'th.zip', 'tk.zip', 'tl.zip', 'tr.zip', 'tt.zip', 'uk.zip', 'ur.zip', 'uz.zip', 'war.zip', 'vi.zip', 'yi.zip', 'yo.zip', 'zip_urls.txt', 'VoxLingua107_download.ipynb', 'Extracted Datasets', '.ipynb_checkpoints', 'Feature Files']\n"
     ]
    }
   ],
   "source": [
    "import os\n",
    "os.chdir('/content/drive/Shareddrives/SP\\'21 : Course Project : SLR/Notebooks/Datasets/VoxLingua107')\n",
    "print('Current Directory :', os.getcwd(), '\\nDirectory Contents:\\n', os.listdir())"
   ]
  },
  {
   "cell_type": "code",
   "execution_count": null,
   "metadata": {
    "id": "qKKJ9sHsZjcW"
   },
   "outputs": [],
   "source": [
    "#Extracting Language Archives\n",
    "#!unzip 'en.zip' -d 'Extracted Datasets' #English\n",
    "#!unzip 'hi.zip' -d 'Extracted Datasets' #Hindi\n",
    "#!unzip 'ta.zip' -d 'Extracted Datasets' #Tamil\n",
    "#!unzip 'bn.zip' -d 'Extracted Datasets' #Bengali\n",
    "#!unzip 'gu.zip' -d 'Extracted Datasets' #Gujarati\n",
    "#!unzip 'ml.zip' -d 'Extracted Datasets' #Malayalam\n",
    "#!unzip 'ne.zip' -d 'Extracted Datasets' #Nepali\n",
    "#!unzip 'kn.zip' -d 'Extracted Datasets' #Kannada"
   ]
  },
  {
   "cell_type": "markdown",
   "metadata": {
    "id": "NN3bcerJBvL4"
   },
   "source": [
    "Required Imports"
   ]
  },
  {
   "cell_type": "code",
   "execution_count": null,
   "metadata": {},
   "outputs": [],
   "source": []
  },
  {
   "cell_type": "code",
   "execution_count": 13,
   "metadata": {},
   "outputs": [
    {
     "name": "stdout",
     "output_type": "stream",
     "text": [
      "Requirement already satisfied: SoundFile in c:\\users\\gowth\\appdata\\roaming\\python\\python39\\site-packages (0.11.0)\n",
      "Requirement already satisfied: cffi>=1.0 in c:\\users\\gowth\\appdata\\roaming\\python\\python39\\site-packages (from SoundFile) (1.15.1)\n",
      "Requirement already satisfied: pycparser in c:\\users\\gowth\\appdata\\roaming\\python\\python39\\site-packages (from cffi>=1.0->SoundFile) (2.21)\n",
      "Note: you may need to restart the kernel to use updated packages.\n"
     ]
    }
   ],
   "source": [
    "pip install SoundFile"
   ]
  },
  {
   "cell_type": "code",
   "execution_count": 3,
   "metadata": {},
   "outputs": [
    {
     "name": "stdout",
     "output_type": "stream",
     "text": [
      "Collecting fabric\n",
      "  Downloading fabric-3.0.0-py3-none-any.whl (53 kB)\n",
      "     -------------------------------------- 53.3/53.3 kB 131.2 kB/s eta 0:00:00\n",
      "Collecting invoke>=2.0\n",
      "  Downloading invoke-2.0.0-py3-none-any.whl (162 kB)\n",
      "     ------------------------------------- 162.2/162.2 kB 31.4 kB/s eta 0:00:00\n",
      "Requirement already satisfied: paramiko>=2.4 in c:\\users\\gowth\\anaconda3\\lib\\site-packages (from fabric) (2.8.1)\n",
      "Requirement already satisfied: bcrypt>=3.1.3 in c:\\users\\gowth\\anaconda3\\lib\\site-packages (from paramiko>=2.4->fabric) (3.2.0)\n",
      "Requirement already satisfied: cryptography>=2.5 in c:\\users\\gowth\\anaconda3\\lib\\site-packages (from paramiko>=2.4->fabric) (37.0.1)\n",
      "Requirement already satisfied: pynacl>=1.0.1 in c:\\users\\gowth\\anaconda3\\lib\\site-packages (from paramiko>=2.4->fabric) (1.5.0)\n",
      "Requirement already satisfied: cffi>=1.1 in c:\\users\\gowth\\anaconda3\\lib\\site-packages (from bcrypt>=3.1.3->paramiko>=2.4->fabric) (1.15.1)\n",
      "Requirement already satisfied: six>=1.4.1 in c:\\users\\gowth\\appdata\\roaming\\python\\python39\\site-packages (from bcrypt>=3.1.3->paramiko>=2.4->fabric) (1.16.0)\n",
      "Requirement already satisfied: pycparser in c:\\users\\gowth\\anaconda3\\lib\\site-packages (from cffi>=1.1->bcrypt>=3.1.3->paramiko>=2.4->fabric) (2.21)\n",
      "Installing collected packages: invoke, fabric\n",
      "Successfully installed fabric-3.0.0 invoke-2.0.0\n",
      "Note: you may need to restart the kernel to use updated packages.\n"
     ]
    }
   ],
   "source": [
    "pip install fabric"
   ]
  },
  {
   "cell_type": "code",
   "execution_count": 5,
   "metadata": {},
   "outputs": [
    {
     "name": "stdout",
     "output_type": "stream",
     "text": [
      "Found existing installation: cryptography 37.0.1\n",
      "Uninstalling cryptography-37.0.1:\n",
      "  Successfully uninstalled cryptography-37.0.1\n",
      "Note: you may need to restart the kernel to use updated packages.\n"
     ]
    },
    {
     "name": "stderr",
     "output_type": "stream",
     "text": [
      "ERROR: Exception:\n",
      "Traceback (most recent call last):\n",
      "  File \"C:\\Users\\gowth\\AppData\\Roaming\\Python\\Python39\\site-packages\\pip\\_internal\\cli\\base_command.py\", line 160, in exc_logging_wrapper\n",
      "    status = run_func(*args)\n",
      "  File \"C:\\Users\\gowth\\AppData\\Roaming\\Python\\Python39\\site-packages\\pip\\_internal\\commands\\uninstall.py\", line 108, in run\n",
      "    uninstall_pathset.commit()\n",
      "  File \"C:\\Users\\gowth\\AppData\\Roaming\\Python\\Python39\\site-packages\\pip\\_internal\\req\\req_uninstall.py\", line 424, in commit\n",
      "    self._moved_paths.commit()\n",
      "  File \"C:\\Users\\gowth\\AppData\\Roaming\\Python\\Python39\\site-packages\\pip\\_internal\\req\\req_uninstall.py\", line 277, in commit\n",
      "    save_dir.cleanup()\n",
      "  File \"C:\\Users\\gowth\\AppData\\Roaming\\Python\\Python39\\site-packages\\pip\\_internal\\utils\\temp_dir.py\", line 173, in cleanup\n",
      "    rmtree(self._path)\n",
      "  File \"C:\\Users\\gowth\\AppData\\Roaming\\Python\\Python39\\site-packages\\pip\\_vendor\\tenacity\\__init__.py\", line 328, in wrapped_f\n",
      "    return self(f, *args, **kw)\n",
      "  File \"C:\\Users\\gowth\\AppData\\Roaming\\Python\\Python39\\site-packages\\pip\\_vendor\\tenacity\\__init__.py\", line 408, in __call__\n",
      "    do = self.iter(retry_state=retry_state)\n",
      "  File \"C:\\Users\\gowth\\AppData\\Roaming\\Python\\Python39\\site-packages\\pip\\_vendor\\tenacity\\__init__.py\", line 364, in iter\n",
      "    raise retry_exc.reraise()\n",
      "  File \"C:\\Users\\gowth\\AppData\\Roaming\\Python\\Python39\\site-packages\\pip\\_vendor\\tenacity\\__init__.py\", line 197, in reraise\n",
      "    raise self.last_attempt.result()\n",
      "  File \"C:\\Users\\gowth\\anaconda3\\lib\\concurrent\\futures\\_base.py\", line 439, in result\n",
      "    return self.__get_result()\n",
      "  File \"C:\\Users\\gowth\\anaconda3\\lib\\concurrent\\futures\\_base.py\", line 391, in __get_result\n",
      "    raise self._exception\n",
      "  File \"C:\\Users\\gowth\\AppData\\Roaming\\Python\\Python39\\site-packages\\pip\\_vendor\\tenacity\\__init__.py\", line 411, in __call__\n",
      "    result = fn(*args, **kwargs)\n",
      "  File \"C:\\Users\\gowth\\AppData\\Roaming\\Python\\Python39\\site-packages\\pip\\_internal\\utils\\misc.py\", line 129, in rmtree\n",
      "    shutil.rmtree(dir, ignore_errors=ignore_errors, onerror=rmtree_errorhandler)\n",
      "  File \"C:\\Users\\gowth\\anaconda3\\lib\\shutil.py\", line 759, in rmtree\n",
      "    return _rmtree_unsafe(path, onerror)\n",
      "  File \"C:\\Users\\gowth\\anaconda3\\lib\\shutil.py\", line 624, in _rmtree_unsafe\n",
      "    _rmtree_unsafe(fullname, onerror)\n",
      "  File \"C:\\Users\\gowth\\anaconda3\\lib\\shutil.py\", line 624, in _rmtree_unsafe\n",
      "    _rmtree_unsafe(fullname, onerror)\n",
      "  File \"C:\\Users\\gowth\\anaconda3\\lib\\shutil.py\", line 629, in _rmtree_unsafe\n",
      "    onerror(os.unlink, fullname, sys.exc_info())\n",
      "  File \"C:\\Users\\gowth\\anaconda3\\lib\\shutil.py\", line 627, in _rmtree_unsafe\n",
      "    os.unlink(fullname)\n",
      "PermissionError: [WinError 5] Access is denied: 'C:\\\\Users\\\\gowth\\\\anaconda3\\\\Lib\\\\site-packages\\\\~ryptography\\\\hazmat\\\\bindings\\\\_openssl.pyd'\n"
     ]
    }
   ],
   "source": [
    "pip uninstall -y cryptography"
   ]
  },
  {
   "cell_type": "code",
   "execution_count": 7,
   "metadata": {},
   "outputs": [
    {
     "name": "stdout",
     "output_type": "stream",
     "text": [
      "Requirement already satisfied: cryptography==36.0.2 in c:\\users\\gowth\\anaconda3\\lib\\site-packages (36.0.2)\n",
      "Requirement already satisfied: cffi>=1.12 in c:\\users\\gowth\\anaconda3\\lib\\site-packages (from cryptography==36.0.2) (1.15.1)\n",
      "Requirement already satisfied: pycparser in c:\\users\\gowth\\anaconda3\\lib\\site-packages (from cffi>=1.12->cryptography==36.0.2) (2.21)\n",
      "Note: you may need to restart the kernel to use updated packages.\n"
     ]
    }
   ],
   "source": [
    "pip install cryptography==36.0.2"
   ]
  },
  {
   "cell_type": "code",
   "execution_count": 1,
   "metadata": {},
   "outputs": [
    {
     "name": "stdout",
     "output_type": "stream",
     "text": [
      "Requirement already satisfied: ffmpeg in c:\\users\\gowth\\anaconda3\\lib\\site-packages (1.4)Note: you may need to restart the kernel to use updated packages.\n",
      "\n"
     ]
    }
   ],
   "source": [
    "pip install ffmpeg"
   ]
  },
  {
   "cell_type": "code",
   "execution_count": 1,
   "metadata": {
    "id": "u3rpysQ4foPj"
   },
   "outputs": [],
   "source": [
    "import librosa\n",
    "import numpy as np\n",
    "import time\n",
    "import matplotlib.pyplot as plt\n",
    "from librosa.display import specshow"
   ]
  },
  {
   "cell_type": "markdown",
   "metadata": {
    "id": "nJ_TLdhMBzmP"
   },
   "source": [
    "Parameters"
   ]
  },
  {
   "cell_type": "code",
   "execution_count": 2,
   "metadata": {
    "id": "e4StRgqSB055"
   },
   "outputs": [],
   "source": [
    "samplingRate = 22050"
   ]
  },
  {
   "cell_type": "code",
   "execution_count": 3,
   "metadata": {
    "colab": {
     "base_uri": "https://localhost:8080/"
    },
    "executionInfo": {
     "elapsed": 1293,
     "status": "ok",
     "timestamp": 1619171613516,
     "user": {
      "displayName": "Rushikesh Dixit",
      "photoUrl": "https://lh3.googleusercontent.com/a-/AOh14Gg4PGST5zJVgz3ysS7EfSVnOzHpIUCy6u7HGIJoug=s64",
      "userId": "01124894738038503111"
     },
     "user_tz": -330
    },
    "id": "o0YfoPy8pcxF",
    "outputId": "00d6c35c-c4a7-46f0-e2b4-76d5bb357999"
   },
   "outputs": [
    {
     "name": "stdout",
     "output_type": "stream",
     "text": [
      "Current Directory : D:\\Major \n",
      "Directory Contents: ['en', 'gu', 'hi', 'kn']\n"
     ]
    }
   ],
   "source": [
    "import os\n",
    "os.chdir('D:/Major')\n",
    "languages = sorted(os.listdir())\n",
    "print('Current Directory :', os.getcwd(), '\\nDirectory Contents:', languages)\n",
    "nLanguages = len(languages)"
   ]
  },
  {
   "cell_type": "markdown",
   "metadata": {
    "id": "aKAvj2KmSnBk"
   },
   "source": [
    "Feature Extraction"
   ]
  },
  {
   "cell_type": "code",
   "execution_count": 4,
   "metadata": {
    "colab": {
     "base_uri": "https://localhost:8080/"
    },
    "executionInfo": {
     "elapsed": 4251843,
     "status": "ok",
     "timestamp": 1619163963971,
     "user": {
      "displayName": "Rushikesh Dixit",
      "photoUrl": "https://lh3.googleusercontent.com/a-/AOh14Gg4PGST5zJVgz3ysS7EfSVnOzHpIUCy6u7HGIJoug=s64",
      "userId": "01124894738038503111"
     },
     "user_tz": -330
    },
    "id": "kZY1MkvvC0pN",
    "outputId": "b6f5adc2-bb9a-4624-9078-d0052a1a3a2f"
   },
   "outputs": [
    {
     "name": "stdout",
     "output_type": "stream",
     "text": [
      "Current Directory : D:\\Major\\en \n",
      "Number of Files: 15860\n",
      "Average Time Taken per File =  0.16300353121757508 s\n",
      "Total Time Taken =  163.00353121757507 s\n",
      "Current Directory : D:\\Major\\gu \n",
      "Number of Files: 17896\n",
      "Average Time Taken per File =  0.1760926971435547 s\n",
      "Total Time Taken =  176.0926971435547 s\n",
      "Current Directory : D:\\Major\\hi \n",
      "Number of Files: 29968\n",
      "Average Time Taken per File =  0.16374500012397766 s\n",
      "Total Time Taken =  163.74500012397766 s\n",
      "Current Directory : D:\\Major\\kn \n",
      "Number of Files: 17272\n",
      "Average Time Taken per File =  0.17436006259918213 s\n",
      "Total Time Taken =  174.36006259918213 s\n"
     ]
    }
   ],
   "source": [
    "maxFiles = 1000\n",
    "\n",
    "for lanIndex in range(nLanguages):\n",
    "    os.chdir('D:/Major')\n",
    "    os.chdir(languages[lanIndex])\n",
    "    audioFilenames = os.listdir()\n",
    "    print('Current Directory :', os.getcwd(), '\\nNumber of Files:', len(audioFilenames))\n",
    "\n",
    "    startTime = time.time()\n",
    "    audioFeatures = {}\n",
    "  \n",
    "    for fileIndex in range(maxFiles):\n",
    "        audioFile = audioFilenames[fileIndex]\n",
    "        audioSignal = librosa.load(audioFile)[0]\n",
    "        mfcc = librosa.feature.mfcc(y=audioSignal, sr=samplingRate, n_mfcc = 13)\n",
    "        delta = librosa.feature.delta(mfcc, order = 1)\n",
    "        deltaDelta = librosa.feature.delta(mfcc, order = 2)\n",
    "        audioFeatures[fileIndex] = np.concatenate((mfcc, delta, deltaDelta))\n",
    "\n",
    "    os.chdir('D:/Major')\n",
    "    np.save('{0}AudioFeatures.npy'.format(languages[lanIndex]), audioFeatures, allow_pickle = True)\n",
    "    totalTime = time.time() - startTime\n",
    "    print('Average Time Taken per File = ', totalTime/maxFiles, 's\\nTotal Time Taken = ', totalTime, 's')"
   ]
  },
  {
   "cell_type": "markdown",
   "metadata": {
    "id": "2LASfGh-pPny"
   },
   "source": [
    "Feature Padding"
   ]
  },
  {
   "cell_type": "code",
   "execution_count": 5,
   "metadata": {
    "colab": {
     "base_uri": "https://localhost:8080/"
    },
    "executionInfo": {
     "elapsed": 33420,
     "status": "ok",
     "timestamp": 1619171659431,
     "user": {
      "displayName": "Rushikesh Dixit",
      "photoUrl": "https://lh3.googleusercontent.com/a-/AOh14Gg4PGST5zJVgz3ysS7EfSVnOzHpIUCy6u7HGIJoug=s64",
      "userId": "01124894738038503111"
     },
     "user_tz": -330
    },
    "id": "7WMntc_4pV9Q",
    "outputId": "0f912922-1d4d-464e-eab0-2d07c4411b21"
   },
   "outputs": [
    {
     "name": "stdout",
     "output_type": "stream",
     "text": [
      "(4, 1000) (4, 1000, 39, 862) (4, 1000)\n"
     ]
    }
   ],
   "source": [
    "os.chdir('D:/Major')\n",
    "maxDim = np.NINF\n",
    "\n",
    "for lanIndex in range(nLanguages):\n",
    "    audioFeatures = np.load('{0}AudioFeatures.npy'.format(languages[lanIndex]), allow_pickle = True)[()]\n",
    "    for fileIndex in range(len(audioFeatures)):\n",
    "        nFrames = audioFeatures[fileIndex].shape[1]\n",
    "        if maxDim < audioFeatures[fileIndex].shape[1]:\n",
    "            maxDim = nFrames\n",
    "\n",
    "padInfoMatrix = []\n",
    "outputLabelMatrix = []\n",
    "featureMatrix = []\n",
    "\n",
    "for lanIndex in range(nLanguages):\n",
    "    lanPadInfoList = []\n",
    "    audioFeatures = np.load('{0}AudioFeatures.npy'.format(languages[lanIndex]), allow_pickle = True)[()]\n",
    "    outputLabelList = []\n",
    "    featureList = []\n",
    "\n",
    "    for fileIndex in range(len(audioFeatures)):\n",
    "        audioFile = audioFeatures[fileIndex]\n",
    "        lanPadInfoList.append(maxDim - audioFile.shape[1])\n",
    "        audioFeatures[fileIndex] = np.pad(audioFile, ((0, 0), (0, maxDim - audioFile.shape[1])), 'constant', constant_values = 0)\n",
    "        featureList.append(audioFeatures[fileIndex])\n",
    "\n",
    "    #sampleLabel = audioFile.shape[1]*[lanIndex + 1]\n",
    "    #padRegionLabel = (maxDim - audioFile.shape[1])*[0]\n",
    "    #sampleLabel.extend(padRegionLabel)\n",
    "    #outputLabelList.append(np.array(sampleLabel))\n",
    "        outputLabelList.append(lanIndex + 1)\n",
    "\n",
    "    padInfoMatrix.append(np.array(lanPadInfoList))\n",
    "    outputLabelMatrix.append(np.array(outputLabelList))\n",
    "    featureMatrix.append(np.array(featureList))\n",
    "\n",
    "padInfoMatrix = np.array(padInfoMatrix)\n",
    "outputLabelMatrix = np.array(outputLabelMatrix)\n",
    "featureMatrix = np.array(featureMatrix)\n",
    "\n",
    "np.save('outputLabels.npy', outputLabelMatrix, allow_pickle = True)\n",
    "np.save('padInformationMatrix.npy', padInfoMatrix, allow_pickle = True)\n",
    "np.save('featureMatrix.npy', featureMatrix, allow_pickle = True)\n",
    "\n",
    "print(outputLabelMatrix.shape, featureMatrix.shape, padInfoMatrix.shape)"
   ]
  },
  {
   "cell_type": "markdown",
   "metadata": {
    "id": "jGNciCGTlrFx"
   },
   "source": [
    "Sample Melspectrogram"
   ]
  },
  {
   "cell_type": "code",
   "execution_count": 6,
   "metadata": {
    "colab": {
     "base_uri": "https://localhost:8080/",
     "height": 441
    },
    "executionInfo": {
     "elapsed": 2414,
     "status": "ok",
     "timestamp": 1619030189972,
     "user": {
      "displayName": "Rushikesh Dixit",
      "photoUrl": "https://lh3.googleusercontent.com/a-/AOh14Gg4PGST5zJVgz3ysS7EfSVnOzHpIUCy6u7HGIJoug=s64",
      "userId": "01124894738038503111"
     },
     "user_tz": -330
    },
    "id": "IsrvyRDhN-YV",
    "outputId": "b3296cd9-c3ef-4b94-bbdf-933671932f31"
   },
   "outputs": [
    {
     "data": {
      "image/png": "[encoded data removed]",
      "text/plain": [
       "<Figure size 720x432 with 1 Axes>"
      ]
     },
     "metadata": {
      "needs_background": "light"
     },
     "output_type": "display_data"
    }
   ],
   "source": [
    "os.chdir('D:/Major/en')\n",
    "audioFile = librosa.load(os.listdir()[0])[0]\n",
    "mfcc = librosa.feature.mfcc(y=audioSignal, sr=samplingRate, n_mfcc = 13)\n",
    "delta = librosa.feature.delta(mfcc, order = 1)\n",
    "deltaDelta = librosa.feature.delta(mfcc, order = 2)\n",
    "plt.figure(figsize = (10, 6))\n",
    "specshow(mfcc, cmap = 'inferno', x_axis = 'time')\n",
    "plt.tight_layout()"
   ]
  },
  {
   "cell_type": "code",
   "execution_count": 7,
   "metadata": {
    "colab": {
     "base_uri": "https://localhost:8080/"
    },
    "executionInfo": {
     "elapsed": 1038,
     "status": "ok",
     "timestamp": 1615358791103,
     "user": {
      "displayName": "Rushikesh Dixit",
      "photoUrl": "https://lh3.googleusercontent.com/a-/AOh14Gg4PGST5zJVgz3ysS7EfSVnOzHpIUCy6u7HGIJoug=s64",
      "userId": "01124894738038503111"
     },
     "user_tz": -330
    },
    "id": "yrq0xTQ4wEo6",
    "outputId": "4bd517ae-0102-499b-99fe-88b7bae7489c"
   },
   "outputs": [
    {
     "data": {
      "text/plain": [
       "array([[1, 1, 1, ..., 1, 1, 1],\n",
       "       [2, 2, 2, ..., 2, 2, 2],\n",
       "       [3, 3, 3, ..., 3, 3, 3],\n",
       "       [4, 4, 4, ..., 4, 4, 4]])"
      ]
     },
     "execution_count": 7,
     "metadata": {},
     "output_type": "execute_result"
    }
   ],
   "source": [
    "outputLabelMatrix"
   ]
  },
  {
   "cell_type": "code",
   "execution_count": 8,
   "metadata": {},
   "outputs": [
    {
     "data": {
      "text/plain": [
       "722"
      ]
     },
     "execution_count": 8,
     "metadata": {},
     "output_type": "execute_result"
    }
   ],
   "source": [
    "padInfoMatrix[1][999]"
   ]
  },
  {
   "cell_type": "code",
   "execution_count": 9,
   "metadata": {},
   "outputs": [
    {
     "name": "stdout",
     "output_type": "stream",
     "text": [
      "[[1 1 1 ... 1 1 1]\n",
      " [2 2 2 ... 2 2 2]\n",
      " [3 3 3 ... 3 3 3]\n",
      " [4 4 4 ... 4 4 4]]\n"
     ]
    }
   ],
   "source": [
    "print(outputLabelMatrix)"
   ]
  },
  {
   "cell_type": "code",
   "execution_count": null,
   "metadata": {},
   "outputs": [],
   "source": []
  },
  {
   "cell_type": "code",
   "execution_count": 22,
   "metadata": {},
   "outputs": [
    {
     "name": "stdout",
     "output_type": "stream",
     "text": [
      "Current Directory : D:\\Major \n",
      "Directory Contents:\n",
      " ['en', 'enAudioFeatures.npy', 'featureMatrix.npy', 'gu', 'guAudioFeatures.npy', 'hi', 'hiAudioFeatures.npy', 'kn', 'knAudioFeatures.npy', 'outputLabels.npy', 'padInformationMatrix.npy']\n"
     ]
    }
   ],
   "source": [
    "import os\n",
    "os.chdir('D:/Major')\n",
    "featureFiles = os.listdir()\n",
    "print('Current Directory :', os.getcwd(), '\\nDirectory Contents:\\n', featureFiles)"
   ]
  },
  {
   "cell_type": "code",
   "execution_count": 12,
   "metadata": {},
   "outputs": [],
   "source": [
    "import numpy as np"
   ]
  },
  {
   "cell_type": "code",
   "execution_count": 13,
   "metadata": {},
   "outputs": [
    {
     "ename": "FileNotFoundError",
     "evalue": "[Errno 2] No such file or directory: 'featureMatrix.npy'",
     "output_type": "error",
     "traceback": [
      "\u001b[1;31m---------------------------------------------------------------------------\u001b[0m",
      "\u001b[1;31mFileNotFoundError\u001b[0m                         Traceback (most recent call last)",
      "Input \u001b[1;32mIn [13]\u001b[0m, in \u001b[0;36m<cell line: 1>\u001b[1;34m()\u001b[0m\n\u001b[1;32m----> 1\u001b[0m featureMatrix \u001b[38;5;241m=\u001b[39m \u001b[43mnp\u001b[49m\u001b[38;5;241;43m.\u001b[39;49m\u001b[43mload\u001b[49m\u001b[43m(\u001b[49m\u001b[38;5;124;43m'\u001b[39;49m\u001b[38;5;124;43mfeatureMatrix.npy\u001b[39;49m\u001b[38;5;124;43m'\u001b[39;49m\u001b[43m,\u001b[49m\u001b[43m \u001b[49m\u001b[43mallow_pickle\u001b[49m\u001b[43m \u001b[49m\u001b[38;5;241;43m=\u001b[39;49m\u001b[43m \u001b[49m\u001b[38;5;28;43;01mTrue\u001b[39;49;00m\u001b[43m)\u001b[49m\n\u001b[0;32m      2\u001b[0m outputLabelMatrix \u001b[38;5;241m=\u001b[39m np\u001b[38;5;241m.\u001b[39mload(\u001b[38;5;124m'\u001b[39m\u001b[38;5;124moutputLabels.npy\u001b[39m\u001b[38;5;124m'\u001b[39m, allow_pickle \u001b[38;5;241m=\u001b[39m \u001b[38;5;28;01mTrue\u001b[39;00m)\n\u001b[0;32m      3\u001b[0m padInfoMatrix \u001b[38;5;241m=\u001b[39m np\u001b[38;5;241m.\u001b[39mload(\u001b[38;5;124m'\u001b[39m\u001b[38;5;124mpadInformationMatrix.npy\u001b[39m\u001b[38;5;124m'\u001b[39m, allow_pickle \u001b[38;5;241m=\u001b[39m \u001b[38;5;28;01mTrue\u001b[39;00m)\n",
      "File \u001b[1;32m~\\anaconda3\\lib\\site-packages\\numpy\\lib\\npyio.py:417\u001b[0m, in \u001b[0;36mload\u001b[1;34m(file, mmap_mode, allow_pickle, fix_imports, encoding)\u001b[0m\n\u001b[0;32m    415\u001b[0m     own_fid \u001b[38;5;241m=\u001b[39m \u001b[38;5;28;01mFalse\u001b[39;00m\n\u001b[0;32m    416\u001b[0m \u001b[38;5;28;01melse\u001b[39;00m:\n\u001b[1;32m--> 417\u001b[0m     fid \u001b[38;5;241m=\u001b[39m stack\u001b[38;5;241m.\u001b[39menter_context(\u001b[38;5;28;43mopen\u001b[39;49m\u001b[43m(\u001b[49m\u001b[43mos_fspath\u001b[49m\u001b[43m(\u001b[49m\u001b[43mfile\u001b[49m\u001b[43m)\u001b[49m\u001b[43m,\u001b[49m\u001b[43m \u001b[49m\u001b[38;5;124;43m\"\u001b[39;49m\u001b[38;5;124;43mrb\u001b[39;49m\u001b[38;5;124;43m\"\u001b[39;49m\u001b[43m)\u001b[49m)\n\u001b[0;32m    418\u001b[0m     own_fid \u001b[38;5;241m=\u001b[39m \u001b[38;5;28;01mTrue\u001b[39;00m\n\u001b[0;32m    420\u001b[0m \u001b[38;5;66;03m# Code to distinguish from NumPy binary files and pickles.\u001b[39;00m\n",
      "\u001b[1;31mFileNotFoundError\u001b[0m: [Errno 2] No such file or directory: 'featureMatrix.npy'"
     ]
    }
   ],
   "source": [
    "featureMatrix = np.load('featureMatrix.npy', allow_pickle = True)\n",
    "outputLabelMatrix = np.load('outputLabels.npy', allow_pickle = True)\n",
    "padInfoMatrix = np.load('padInformationMatrix.npy', allow_pickle = True)\n",
    "\n",
    "print(outputLabelMatrix.shape, featureMatrix.shape, padInfoMatrix.shape)"
   ]
  },
  {
   "cell_type": "code",
   "execution_count": 25,
   "metadata": {},
   "outputs": [],
   "source": [
    "nLanguages = 4\n",
    "maxFiles = 1000"
   ]
  },
  {
   "cell_type": "code",
   "execution_count": 26,
   "metadata": {},
   "outputs": [
    {
     "name": "stdout",
     "output_type": "stream",
     "text": [
      "(4000, 33618) (4000,)\n"
     ]
    }
   ],
   "source": [
    "combinedFeatureList = []\n",
    "combinedOutputLabelList = []\n",
    "\n",
    "for lanIndex in range(nLanguages):\n",
    "    for fileIndex in range(maxFiles):\n",
    "        combinedFeatureList.append(featureMatrix[lanIndex][fileIndex].flatten())\n",
    "        combinedOutputLabelList.append(outputLabelMatrix[lanIndex][fileIndex])\n",
    "\n",
    "combinedFeatureList = np.array(combinedFeatureList)\n",
    "combinedOutputLabelList = np.array(combinedOutputLabelList)\n",
    "\n",
    "print(combinedFeatureList.shape, combinedOutputLabelList.shape)"
   ]
  },
  {
   "cell_type": "code",
   "execution_count": 27,
   "metadata": {},
   "outputs": [
    {
     "name": "stdout",
     "output_type": "stream",
     "text": [
      "(4000, 5)\n"
     ]
    }
   ],
   "source": [
    "encodedOutputLabelList = np.zeros((combinedOutputLabelList.shape[0], combinedOutputLabelList.max() + 1))\n",
    "encodedOutputLabelList[np.arange(combinedOutputLabelList.shape[0]), combinedOutputLabelList] = 1\n",
    "print(encodedOutputLabelList.shape)"
   ]
  },
  {
   "cell_type": "code",
   "execution_count": 28,
   "metadata": {},
   "outputs": [],
   "source": [
    "from keras.models import Sequential\n",
    "from keras import Input\n",
    "from keras.layers import Dense, Conv2D, Flatten, MaxPooling2D, Dropout, Activation\n",
    "from keras.callbacks import TensorBoard, ModelCheckpoint\n",
    "from sklearn.model_selection import train_test_split"
   ]
  },
  {
   "cell_type": "code",
   "execution_count": 29,
   "metadata": {},
   "outputs": [
    {
     "name": "stdout",
     "output_type": "stream",
     "text": [
      "(3200, 33618) (800, 33618) (3200, 5) (800, 5)\n"
     ]
    }
   ],
   "source": [
    "x_train, x_test, y_train, y_test = train_test_split(combinedFeatureList, encodedOutputLabelList, test_size=0.2, random_state = 33)\n",
    "print(x_train.shape, x_test.shape, y_train.shape, y_test.shape)"
   ]
  },
  {
   "cell_type": "code",
   "execution_count": 30,
   "metadata": {},
   "outputs": [
    {
     "name": "stdout",
     "output_type": "stream",
     "text": [
      "Model: \"sequential\"\n",
      "_________________________________________________________________\n",
      "Layer (type)                 Output Shape              Param #   \n",
      "=================================================================\n",
      "dense (Dense)                (None, 200)               6723800   \n",
      "_________________________________________________________________\n",
      "dense_1 (Dense)              (None, 150)               30150     \n",
      "_________________________________________________________________\n",
      "dense_2 (Dense)              (None, 100)               15100     \n",
      "_________________________________________________________________\n",
      "dense_3 (Dense)              (None, 50)                5050      \n",
      "_________________________________________________________________\n",
      "dense_4 (Dense)              (None, 5)                 255       \n",
      "=================================================================\n",
      "Total params: 6,774,355\n",
      "Trainable params: 6,774,355\n",
      "Non-trainable params: 0\n",
      "_________________________________________________________________\n"
     ]
    }
   ],
   "source": [
    "model = Sequential()\n",
    "model.add(Dense(200, input_shape = (combinedFeatureList.shape[1], ), activation = 'relu'))\n",
    "model.add(Dense(150, activation='relu'))\n",
    "model.add(Dense(100, activation='relu'))\n",
    "model.add(Dense(50, activation='relu'))\n",
    "model.add(Dense(encodedOutputLabelList.shape[1], activation = 'softmax'))\n",
    "\n",
    "model.compile(loss='binary_crossentropy', optimizer='adam', metrics=['accuracy'])\n",
    "model.summary()"
   ]
  },
  {
   "cell_type": "code",
   "execution_count": 31,
   "metadata": {},
   "outputs": [
    {
     "name": "stdout",
     "output_type": "stream",
     "text": [
      "Epoch 1/22\n",
      "2/2 [==============================] - 10s 1s/step - loss: 14.3863 - accuracy: 0.1619 - val_loss: 8.2382 - val_accuracy: 0.2862\n",
      "Epoch 2/22\n",
      "2/2 [==============================] - 0s 255ms/step - loss: 8.7520 - accuracy: 0.2691 - val_loss: 12.2271 - val_accuracy: 0.2550\n",
      "Epoch 3/22\n",
      "2/2 [==============================] - 0s 182ms/step - loss: 9.7655 - accuracy: 0.2878 - val_loss: 10.5458 - val_accuracy: 0.3475\n",
      "Epoch 4/22\n",
      "2/2 [==============================] - 0s 168ms/step - loss: 9.5183 - accuracy: 0.3222 - val_loss: 6.4209 - val_accuracy: 0.4375\n",
      "Epoch 5/22\n",
      "2/2 [==============================] - 0s 263ms/step - loss: 5.5649 - accuracy: 0.4278 - val_loss: 6.5562 - val_accuracy: 0.3050\n",
      "Epoch 6/22\n",
      "2/2 [==============================] - 0s 193ms/step - loss: 5.5463 - accuracy: 0.4028 - val_loss: 3.7023 - val_accuracy: 0.4263\n",
      "Epoch 7/22\n",
      "2/2 [==============================] - 0s 245ms/step - loss: 3.2968 - accuracy: 0.4416 - val_loss: 4.4068 - val_accuracy: 0.3825\n",
      "Epoch 8/22\n",
      "2/2 [==============================] - 0s 243ms/step - loss: 3.8751 - accuracy: 0.4125 - val_loss: 3.2758 - val_accuracy: 0.4187\n",
      "Epoch 9/22\n",
      "2/2 [==============================] - 1s 368ms/step - loss: 2.4696 - accuracy: 0.4716 - val_loss: 2.6921 - val_accuracy: 0.4200\n",
      "Epoch 10/22\n",
      "2/2 [==============================] - 0s 239ms/step - loss: 2.1408 - accuracy: 0.5009 - val_loss: 2.3947 - val_accuracy: 0.4425\n",
      "Epoch 11/22\n",
      "2/2 [==============================] - 1s 285ms/step - loss: 1.6983 - accuracy: 0.5156 - val_loss: 2.4391 - val_accuracy: 0.3625\n",
      "Epoch 12/22\n",
      "2/2 [==============================] - 0s 235ms/step - loss: 1.6784 - accuracy: 0.4491 - val_loss: 1.8112 - val_accuracy: 0.4812\n",
      "Epoch 13/22\n",
      "2/2 [==============================] - 0s 210ms/step - loss: 1.2787 - accuracy: 0.5747 - val_loss: 1.9083 - val_accuracy: 0.4350\n",
      "Epoch 14/22\n",
      "2/2 [==============================] - 0s 253ms/step - loss: 1.1519 - accuracy: 0.5709 - val_loss: 1.4938 - val_accuracy: 0.4613\n",
      "Epoch 15/22\n",
      "2/2 [==============================] - 0s 261ms/step - loss: 0.9717 - accuracy: 0.5997 - val_loss: 1.2602 - val_accuracy: 0.4888\n",
      "Epoch 16/22\n",
      "2/2 [==============================] - 1s 316ms/step - loss: 0.6978 - accuracy: 0.6275 - val_loss: 1.2894 - val_accuracy: 0.4963\n",
      "Epoch 17/22\n",
      "2/2 [==============================] - 0s 196ms/step - loss: 0.6459 - accuracy: 0.6675 - val_loss: 1.0590 - val_accuracy: 0.4525\n",
      "Epoch 18/22\n",
      "2/2 [==============================] - 0s 213ms/step - loss: 0.5748 - accuracy: 0.6275 - val_loss: 0.9138 - val_accuracy: 0.5075\n",
      "Epoch 19/22\n",
      "2/2 [==============================] - 0s 174ms/step - loss: 0.4099 - accuracy: 0.7206 - val_loss: 0.9893 - val_accuracy: 0.5063\n",
      "Epoch 20/22\n",
      "2/2 [==============================] - 0s 247ms/step - loss: 0.4079 - accuracy: 0.7444 - val_loss: 0.9197 - val_accuracy: 0.5075\n",
      "Epoch 21/22\n",
      "2/2 [==============================] - 1s 240ms/step - loss: 0.3525 - accuracy: 0.7428 - val_loss: 0.9078 - val_accuracy: 0.4837\n",
      "Epoch 22/22\n",
      "2/2 [==============================] - 0s 157ms/step - loss: 0.3090 - accuracy: 0.7616 - val_loss: 0.8577 - val_accuracy: 0.4938\n"
     ]
    }
   ],
   "source": [
    "history = model.fit(x_train, y_train, epochs = 22, batch_size = 2000, validation_data=(x_test, y_test))"
   ]
  },
  {
   "cell_type": "code",
   "execution_count": 37,
   "metadata": {},
   "outputs": [
    {
     "data": {
      "text/plain": [
       "array([2, 2, 1, ..., 4, 4, 4], dtype=int64)"
      ]
     },
     "execution_count": 37,
     "metadata": {},
     "output_type": "execute_result"
    }
   ],
   "source": [
    "trueOutput = [np.where(r==1)[0][0] for r in encodedOutputLabelList]\n",
    "predictedOutput = np.argmax(model.predict(combinedFeatureList), axis=-1)\n",
    "predictedOutput\n",
    "\n",
    " "
   ]
  },
  {
   "cell_type": "code",
   "execution_count": 38,
   "metadata": {},
   "outputs": [],
   "source": [
    "from sklearn.metrics import confusion_matrix\n",
    "cm = confusion_matrix(trueOutput, predictedOutput)"
   ]
  },
  {
   "cell_type": "code",
   "execution_count": 41,
   "metadata": {},
   "outputs": [
    {
     "data": {
      "image/png": "[encoded data removed]",
      "text/plain": [
       "<Figure size 1080x1080 with 2 Axes>"
      ]
     },
     "metadata": {
      "needs_background": "light"
     },
     "output_type": "display_data"
    }
   ],
   "source": [
    "import matplotlib.pyplot as plt\n",
    "%matplotlib inline\n",
    "plt.figure(figsize = (15, 15))\n",
    "plt.imshow(cm, cmap = plt.cm.Blues)\n",
    "plt.xlabel(\"Predicted labels\")\n",
    "plt.ylabel(\"True labels\")\n",
    "plt.title('Confusion matrix')\n",
    "for i in range(4):\n",
    "    for j in range(4):\n",
    "        plt.annotate(cm[i][j], (i, j))\n",
    "plt.colorbar()\n",
    "plt.show()"
   ]
  },
  {
   "cell_type": "code",
   "execution_count": 42,
   "metadata": {},
   "outputs": [
    {
     "name": "stdout",
     "output_type": "stream",
     "text": [
      "(4000, 39, 862, 1) (4000,)\n"
     ]
    }
   ],
   "source": [
    "combinedFeatureList = []\n",
    "combinedOutputLabelList = []\n",
    "\n",
    "for lanIndex in range(nLanguages):\n",
    "    for fileIndex in range(maxFiles):\n",
    "        combinedFeatureList.append(featureMatrix[lanIndex][fileIndex])\n",
    "        combinedOutputLabelList.append(outputLabelMatrix[lanIndex][fileIndex])\n",
    "\n",
    "combinedFeatureList = np.array(combinedFeatureList)\n",
    "combinedOutputLabelList = np.array(combinedOutputLabelList)\n",
    "\n",
    "combinedFeatureList = combinedFeatureList.reshape(combinedFeatureList.shape[0], combinedFeatureList.shape[1], combinedFeatureList.shape[2], 1)\n",
    "\n",
    "print(combinedFeatureList.shape, combinedOutputLabelList.shape)"
   ]
  },
  {
   "cell_type": "code",
   "execution_count": 43,
   "metadata": {},
   "outputs": [
    {
     "name": "stdout",
     "output_type": "stream",
     "text": [
      "(3200, 39, 862, 1) (800, 39, 862, 1) (3200, 5) (800, 5)\n"
     ]
    }
   ],
   "source": [
    "x_train, x_test, y_train, y_test = train_test_split(combinedFeatureList, encodedOutputLabelList, test_size=0.2, random_state = 33)\n",
    "print(x_train.shape, x_test.shape, y_train.shape, y_test.shape)"
   ]
  },
  {
   "cell_type": "code",
   "execution_count": 44,
   "metadata": {},
   "outputs": [
    {
     "name": "stdout",
     "output_type": "stream",
     "text": [
      "Model: \"sequential_1\"\n",
      "_________________________________________________________________\n",
      "Layer (type)                 Output Shape              Param #   \n",
      "=================================================================\n",
      "conv2d (Conv2D)              (None, 37, 860, 32)       320       \n",
      "_________________________________________________________________\n",
      "max_pooling2d (MaxPooling2D) (None, 18, 430, 32)       0         \n",
      "_________________________________________________________________\n",
      "conv2d_1 (Conv2D)            (None, 16, 428, 64)       18496     \n",
      "_________________________________________________________________\n",
      "max_pooling2d_1 (MaxPooling2 (None, 8, 214, 64)        0         \n",
      "_________________________________________________________________\n",
      "conv2d_2 (Conv2D)            (None, 6, 212, 128)       73856     \n",
      "_________________________________________________________________\n",
      "max_pooling2d_2 (MaxPooling2 (None, 3, 106, 128)       0         \n",
      "_________________________________________________________________\n",
      "conv2d_3 (Conv2D)            (None, 1, 104, 256)       295168    \n",
      "_________________________________________________________________\n",
      "flatten (Flatten)            (None, 26624)             0         \n",
      "_________________________________________________________________\n",
      "dense_5 (Dense)              (None, 5)                 133125    \n",
      "=================================================================\n",
      "Total params: 520,965\n",
      "Trainable params: 520,965\n",
      "Non-trainable params: 0\n",
      "_________________________________________________________________\n"
     ]
    }
   ],
   "source": [
    "model = Sequential()\n",
    "\n",
    "model.add(Conv2D(32, (3, 3), activation = 'relu', input_shape = combinedFeatureList.shape[1:]))\n",
    "model.add(MaxPooling2D(pool_size = (2, 2)))\n",
    "model.add(Conv2D(64, kernel_size=3, activation='relu'))\n",
    "model.add(MaxPooling2D(pool_size = (2, 2)))\n",
    "model.add(Conv2D(128, kernel_size=3, activation='relu'))\n",
    "model.add(MaxPooling2D(pool_size = (2, 2)))\n",
    "model.add(Conv2D(256, kernel_size=3, activation='relu'))\n",
    "model.add(Flatten())\n",
    "model.add(Dense(encodedOutputLabelList.shape[1], activation = 'softmax'))\n",
    "\n",
    "model.compile(optimizer='adam', loss='categorical_crossentropy', metrics=['accuracy'])\n",
    "model.summary()"
   ]
  },
  {
   "cell_type": "code",
   "execution_count": 45,
   "metadata": {},
   "outputs": [
    {
     "name": "stdout",
     "output_type": "stream",
     "text": [
      "Epoch 1/3\n"
     ]
    },
    {
     "ename": "ResourceExhaustedError",
     "evalue": " OOM when allocating tensor with shape[500,32,37,860] and type float on /job:localhost/replica:0/task:0/device:GPU:0 by allocator GPU_0_bfc\n\t [[node sequential_1/conv2d/Conv2D (defined at \\AppData\\Local\\Temp\\ipykernel_2444\\2450242676.py:1) ]]\nHint: If you want to see a list of allocated tensors when OOM happens, add report_tensor_allocations_upon_oom to RunOptions for current allocation info. This isn't available when running in Eager mode.\n [Op:__inference_train_function_2849]\n\nFunction call stack:\ntrain_function\n",
     "output_type": "error",
     "traceback": [
      "\u001b[1;31m---------------------------------------------------------------------------\u001b[0m",
      "\u001b[1;31mResourceExhaustedError\u001b[0m                    Traceback (most recent call last)",
      "Input \u001b[1;32mIn [45]\u001b[0m, in \u001b[0;36m<cell line: 1>\u001b[1;34m()\u001b[0m\n\u001b[1;32m----> 1\u001b[0m history \u001b[38;5;241m=\u001b[39m \u001b[43mmodel\u001b[49m\u001b[38;5;241;43m.\u001b[39;49m\u001b[43mfit\u001b[49m\u001b[43m(\u001b[49m\u001b[43mx_train\u001b[49m\u001b[43m,\u001b[49m\u001b[43m \u001b[49m\u001b[43my_train\u001b[49m\u001b[43m,\u001b[49m\u001b[43m \u001b[49m\u001b[43mepochs\u001b[49m\u001b[43m \u001b[49m\u001b[38;5;241;43m=\u001b[39;49m\u001b[43m \u001b[49m\u001b[38;5;241;43m3\u001b[39;49m\u001b[43m,\u001b[49m\u001b[43m \u001b[49m\u001b[43mbatch_size\u001b[49m\u001b[43m \u001b[49m\u001b[38;5;241;43m=\u001b[39;49m\u001b[43m \u001b[49m\u001b[38;5;241;43m500\u001b[39;49m\u001b[43m,\u001b[49m\u001b[43m \u001b[49m\u001b[43mvalidation_data\u001b[49m\u001b[38;5;241;43m=\u001b[39;49m\u001b[43m(\u001b[49m\u001b[43mx_test\u001b[49m\u001b[43m,\u001b[49m\u001b[43m \u001b[49m\u001b[43my_test\u001b[49m\u001b[43m)\u001b[49m\u001b[43m)\u001b[49m\n",
      "File \u001b[1;32m~\\AppData\\Roaming\\Python\\Python39\\site-packages\\keras\\engine\\training.py:1184\u001b[0m, in \u001b[0;36mModel.fit\u001b[1;34m(self, x, y, batch_size, epochs, verbose, callbacks, validation_split, validation_data, shuffle, class_weight, sample_weight, initial_epoch, steps_per_epoch, validation_steps, validation_batch_size, validation_freq, max_queue_size, workers, use_multiprocessing)\u001b[0m\n\u001b[0;32m   1177\u001b[0m \u001b[38;5;28;01mwith\u001b[39;00m tf\u001b[38;5;241m.\u001b[39mprofiler\u001b[38;5;241m.\u001b[39mexperimental\u001b[38;5;241m.\u001b[39mTrace(\n\u001b[0;32m   1178\u001b[0m     \u001b[38;5;124m'\u001b[39m\u001b[38;5;124mtrain\u001b[39m\u001b[38;5;124m'\u001b[39m,\n\u001b[0;32m   1179\u001b[0m     epoch_num\u001b[38;5;241m=\u001b[39mepoch,\n\u001b[0;32m   1180\u001b[0m     step_num\u001b[38;5;241m=\u001b[39mstep,\n\u001b[0;32m   1181\u001b[0m     batch_size\u001b[38;5;241m=\u001b[39mbatch_size,\n\u001b[0;32m   1182\u001b[0m     _r\u001b[38;5;241m=\u001b[39m\u001b[38;5;241m1\u001b[39m):\n\u001b[0;32m   1183\u001b[0m   callbacks\u001b[38;5;241m.\u001b[39mon_train_batch_begin(step)\n\u001b[1;32m-> 1184\u001b[0m   tmp_logs \u001b[38;5;241m=\u001b[39m \u001b[38;5;28;43mself\u001b[39;49m\u001b[38;5;241;43m.\u001b[39;49m\u001b[43mtrain_function\u001b[49m\u001b[43m(\u001b[49m\u001b[43miterator\u001b[49m\u001b[43m)\u001b[49m\n\u001b[0;32m   1185\u001b[0m   \u001b[38;5;28;01mif\u001b[39;00m data_handler\u001b[38;5;241m.\u001b[39mshould_sync:\n\u001b[0;32m   1186\u001b[0m     context\u001b[38;5;241m.\u001b[39masync_wait()\n",
      "File \u001b[1;32m~\\AppData\\Roaming\\Python\\Python39\\site-packages\\tensorflow\\python\\eager\\def_function.py:885\u001b[0m, in \u001b[0;36mFunction.__call__\u001b[1;34m(self, *args, **kwds)\u001b[0m\n\u001b[0;32m    882\u001b[0m compiler \u001b[38;5;241m=\u001b[39m \u001b[38;5;124m\"\u001b[39m\u001b[38;5;124mxla\u001b[39m\u001b[38;5;124m\"\u001b[39m \u001b[38;5;28;01mif\u001b[39;00m \u001b[38;5;28mself\u001b[39m\u001b[38;5;241m.\u001b[39m_jit_compile \u001b[38;5;28;01melse\u001b[39;00m \u001b[38;5;124m\"\u001b[39m\u001b[38;5;124mnonXla\u001b[39m\u001b[38;5;124m\"\u001b[39m\n\u001b[0;32m    884\u001b[0m \u001b[38;5;28;01mwith\u001b[39;00m OptionalXlaContext(\u001b[38;5;28mself\u001b[39m\u001b[38;5;241m.\u001b[39m_jit_compile):\n\u001b[1;32m--> 885\u001b[0m   result \u001b[38;5;241m=\u001b[39m \u001b[38;5;28mself\u001b[39m\u001b[38;5;241m.\u001b[39m_call(\u001b[38;5;241m*\u001b[39margs, \u001b[38;5;241m*\u001b[39m\u001b[38;5;241m*\u001b[39mkwds)\n\u001b[0;32m    887\u001b[0m new_tracing_count \u001b[38;5;241m=\u001b[39m \u001b[38;5;28mself\u001b[39m\u001b[38;5;241m.\u001b[39mexperimental_get_tracing_count()\n\u001b[0;32m    888\u001b[0m without_tracing \u001b[38;5;241m=\u001b[39m (tracing_count \u001b[38;5;241m==\u001b[39m new_tracing_count)\n",
      "File \u001b[1;32m~\\AppData\\Roaming\\Python\\Python39\\site-packages\\tensorflow\\python\\eager\\def_function.py:950\u001b[0m, in \u001b[0;36mFunction._call\u001b[1;34m(self, *args, **kwds)\u001b[0m\n\u001b[0;32m    946\u001b[0m     \u001b[38;5;28;01mpass\u001b[39;00m  \u001b[38;5;66;03m# Fall through to cond-based initialization.\u001b[39;00m\n\u001b[0;32m    947\u001b[0m   \u001b[38;5;28;01melse\u001b[39;00m:\n\u001b[0;32m    948\u001b[0m     \u001b[38;5;66;03m# Lifting succeeded, so variables are initialized and we can run the\u001b[39;00m\n\u001b[0;32m    949\u001b[0m     \u001b[38;5;66;03m# stateless function.\u001b[39;00m\n\u001b[1;32m--> 950\u001b[0m     \u001b[38;5;28;01mreturn\u001b[39;00m \u001b[38;5;28mself\u001b[39m\u001b[38;5;241m.\u001b[39m_stateless_fn(\u001b[38;5;241m*\u001b[39margs, \u001b[38;5;241m*\u001b[39m\u001b[38;5;241m*\u001b[39mkwds)\n\u001b[0;32m    951\u001b[0m \u001b[38;5;28;01melse\u001b[39;00m:\n\u001b[0;32m    952\u001b[0m   _, _, _, filtered_flat_args \u001b[38;5;241m=\u001b[39m \\\n\u001b[0;32m    953\u001b[0m       \u001b[38;5;28mself\u001b[39m\u001b[38;5;241m.\u001b[39m_stateful_fn\u001b[38;5;241m.\u001b[39m_function_spec\u001b[38;5;241m.\u001b[39mcanonicalize_function_inputs(  \u001b[38;5;66;03m# pylint: disable=protected-access\u001b[39;00m\n\u001b[0;32m    954\u001b[0m           \u001b[38;5;241m*\u001b[39margs, \u001b[38;5;241m*\u001b[39m\u001b[38;5;241m*\u001b[39mkwds)\n",
      "File \u001b[1;32m~\\AppData\\Roaming\\Python\\Python39\\site-packages\\tensorflow\\python\\eager\\function.py:3039\u001b[0m, in \u001b[0;36mFunction.__call__\u001b[1;34m(self, *args, **kwargs)\u001b[0m\n\u001b[0;32m   3036\u001b[0m \u001b[38;5;28;01mwith\u001b[39;00m \u001b[38;5;28mself\u001b[39m\u001b[38;5;241m.\u001b[39m_lock:\n\u001b[0;32m   3037\u001b[0m   (graph_function,\n\u001b[0;32m   3038\u001b[0m    filtered_flat_args) \u001b[38;5;241m=\u001b[39m \u001b[38;5;28mself\u001b[39m\u001b[38;5;241m.\u001b[39m_maybe_define_function(args, kwargs)\n\u001b[1;32m-> 3039\u001b[0m \u001b[38;5;28;01mreturn\u001b[39;00m \u001b[43mgraph_function\u001b[49m\u001b[38;5;241;43m.\u001b[39;49m\u001b[43m_call_flat\u001b[49m\u001b[43m(\u001b[49m\n\u001b[0;32m   3040\u001b[0m \u001b[43m    \u001b[49m\u001b[43mfiltered_flat_args\u001b[49m\u001b[43m,\u001b[49m\u001b[43m \u001b[49m\u001b[43mcaptured_inputs\u001b[49m\u001b[38;5;241;43m=\u001b[39;49m\u001b[43mgraph_function\u001b[49m\u001b[38;5;241;43m.\u001b[39;49m\u001b[43mcaptured_inputs\u001b[49m\u001b[43m)\u001b[49m\n",
      "File \u001b[1;32m~\\AppData\\Roaming\\Python\\Python39\\site-packages\\tensorflow\\python\\eager\\function.py:1963\u001b[0m, in \u001b[0;36mConcreteFunction._call_flat\u001b[1;34m(self, args, captured_inputs, cancellation_manager)\u001b[0m\n\u001b[0;32m   1959\u001b[0m possible_gradient_type \u001b[38;5;241m=\u001b[39m gradients_util\u001b[38;5;241m.\u001b[39mPossibleTapeGradientTypes(args)\n\u001b[0;32m   1960\u001b[0m \u001b[38;5;28;01mif\u001b[39;00m (possible_gradient_type \u001b[38;5;241m==\u001b[39m gradients_util\u001b[38;5;241m.\u001b[39mPOSSIBLE_GRADIENT_TYPES_NONE\n\u001b[0;32m   1961\u001b[0m     \u001b[38;5;129;01mand\u001b[39;00m executing_eagerly):\n\u001b[0;32m   1962\u001b[0m   \u001b[38;5;66;03m# No tape is watching; skip to running the function.\u001b[39;00m\n\u001b[1;32m-> 1963\u001b[0m   \u001b[38;5;28;01mreturn\u001b[39;00m \u001b[38;5;28mself\u001b[39m\u001b[38;5;241m.\u001b[39m_build_call_outputs(\u001b[38;5;28;43mself\u001b[39;49m\u001b[38;5;241;43m.\u001b[39;49m\u001b[43m_inference_function\u001b[49m\u001b[38;5;241;43m.\u001b[39;49m\u001b[43mcall\u001b[49m\u001b[43m(\u001b[49m\n\u001b[0;32m   1964\u001b[0m \u001b[43m      \u001b[49m\u001b[43mctx\u001b[49m\u001b[43m,\u001b[49m\u001b[43m \u001b[49m\u001b[43margs\u001b[49m\u001b[43m,\u001b[49m\u001b[43m \u001b[49m\u001b[43mcancellation_manager\u001b[49m\u001b[38;5;241;43m=\u001b[39;49m\u001b[43mcancellation_manager\u001b[49m\u001b[43m)\u001b[49m)\n\u001b[0;32m   1965\u001b[0m forward_backward \u001b[38;5;241m=\u001b[39m \u001b[38;5;28mself\u001b[39m\u001b[38;5;241m.\u001b[39m_select_forward_and_backward_functions(\n\u001b[0;32m   1966\u001b[0m     args,\n\u001b[0;32m   1967\u001b[0m     possible_gradient_type,\n\u001b[0;32m   1968\u001b[0m     executing_eagerly)\n\u001b[0;32m   1969\u001b[0m forward_function, args_with_tangents \u001b[38;5;241m=\u001b[39m forward_backward\u001b[38;5;241m.\u001b[39mforward()\n",
      "File \u001b[1;32m~\\AppData\\Roaming\\Python\\Python39\\site-packages\\tensorflow\\python\\eager\\function.py:591\u001b[0m, in \u001b[0;36m_EagerDefinedFunction.call\u001b[1;34m(self, ctx, args, cancellation_manager)\u001b[0m\n\u001b[0;32m    589\u001b[0m \u001b[38;5;28;01mwith\u001b[39;00m _InterpolateFunctionError(\u001b[38;5;28mself\u001b[39m):\n\u001b[0;32m    590\u001b[0m   \u001b[38;5;28;01mif\u001b[39;00m cancellation_manager \u001b[38;5;129;01mis\u001b[39;00m \u001b[38;5;28;01mNone\u001b[39;00m:\n\u001b[1;32m--> 591\u001b[0m     outputs \u001b[38;5;241m=\u001b[39m \u001b[43mexecute\u001b[49m\u001b[38;5;241;43m.\u001b[39;49m\u001b[43mexecute\u001b[49m\u001b[43m(\u001b[49m\n\u001b[0;32m    592\u001b[0m \u001b[43m        \u001b[49m\u001b[38;5;28;43mstr\u001b[39;49m\u001b[43m(\u001b[49m\u001b[38;5;28;43mself\u001b[39;49m\u001b[38;5;241;43m.\u001b[39;49m\u001b[43msignature\u001b[49m\u001b[38;5;241;43m.\u001b[39;49m\u001b[43mname\u001b[49m\u001b[43m)\u001b[49m\u001b[43m,\u001b[49m\n\u001b[0;32m    593\u001b[0m \u001b[43m        \u001b[49m\u001b[43mnum_outputs\u001b[49m\u001b[38;5;241;43m=\u001b[39;49m\u001b[38;5;28;43mself\u001b[39;49m\u001b[38;5;241;43m.\u001b[39;49m\u001b[43m_num_outputs\u001b[49m\u001b[43m,\u001b[49m\n\u001b[0;32m    594\u001b[0m \u001b[43m        \u001b[49m\u001b[43minputs\u001b[49m\u001b[38;5;241;43m=\u001b[39;49m\u001b[43margs\u001b[49m\u001b[43m,\u001b[49m\n\u001b[0;32m    595\u001b[0m \u001b[43m        \u001b[49m\u001b[43mattrs\u001b[49m\u001b[38;5;241;43m=\u001b[39;49m\u001b[43mattrs\u001b[49m\u001b[43m,\u001b[49m\n\u001b[0;32m    596\u001b[0m \u001b[43m        \u001b[49m\u001b[43mctx\u001b[49m\u001b[38;5;241;43m=\u001b[39;49m\u001b[43mctx\u001b[49m\u001b[43m)\u001b[49m\n\u001b[0;32m    597\u001b[0m   \u001b[38;5;28;01melse\u001b[39;00m:\n\u001b[0;32m    598\u001b[0m     outputs \u001b[38;5;241m=\u001b[39m execute\u001b[38;5;241m.\u001b[39mexecute_with_cancellation(\n\u001b[0;32m    599\u001b[0m         \u001b[38;5;28mstr\u001b[39m(\u001b[38;5;28mself\u001b[39m\u001b[38;5;241m.\u001b[39msignature\u001b[38;5;241m.\u001b[39mname),\n\u001b[0;32m    600\u001b[0m         num_outputs\u001b[38;5;241m=\u001b[39m\u001b[38;5;28mself\u001b[39m\u001b[38;5;241m.\u001b[39m_num_outputs,\n\u001b[1;32m   (...)\u001b[0m\n\u001b[0;32m    603\u001b[0m         ctx\u001b[38;5;241m=\u001b[39mctx,\n\u001b[0;32m    604\u001b[0m         cancellation_manager\u001b[38;5;241m=\u001b[39mcancellation_manager)\n",
      "File \u001b[1;32m~\\AppData\\Roaming\\Python\\Python39\\site-packages\\tensorflow\\python\\eager\\execute.py:59\u001b[0m, in \u001b[0;36mquick_execute\u001b[1;34m(op_name, num_outputs, inputs, attrs, ctx, name)\u001b[0m\n\u001b[0;32m     57\u001b[0m \u001b[38;5;28;01mtry\u001b[39;00m:\n\u001b[0;32m     58\u001b[0m   ctx\u001b[38;5;241m.\u001b[39mensure_initialized()\n\u001b[1;32m---> 59\u001b[0m   tensors \u001b[38;5;241m=\u001b[39m \u001b[43mpywrap_tfe\u001b[49m\u001b[38;5;241;43m.\u001b[39;49m\u001b[43mTFE_Py_Execute\u001b[49m\u001b[43m(\u001b[49m\u001b[43mctx\u001b[49m\u001b[38;5;241;43m.\u001b[39;49m\u001b[43m_handle\u001b[49m\u001b[43m,\u001b[49m\u001b[43m \u001b[49m\u001b[43mdevice_name\u001b[49m\u001b[43m,\u001b[49m\u001b[43m \u001b[49m\u001b[43mop_name\u001b[49m\u001b[43m,\u001b[49m\n\u001b[0;32m     60\u001b[0m \u001b[43m                                      \u001b[49m\u001b[43minputs\u001b[49m\u001b[43m,\u001b[49m\u001b[43m \u001b[49m\u001b[43mattrs\u001b[49m\u001b[43m,\u001b[49m\u001b[43m \u001b[49m\u001b[43mnum_outputs\u001b[49m\u001b[43m)\u001b[49m\n\u001b[0;32m     61\u001b[0m \u001b[38;5;28;01mexcept\u001b[39;00m core\u001b[38;5;241m.\u001b[39m_NotOkStatusException \u001b[38;5;28;01mas\u001b[39;00m e:\n\u001b[0;32m     62\u001b[0m   \u001b[38;5;28;01mif\u001b[39;00m name \u001b[38;5;129;01mis\u001b[39;00m \u001b[38;5;129;01mnot\u001b[39;00m \u001b[38;5;28;01mNone\u001b[39;00m:\n",
      "\u001b[1;31mResourceExhaustedError\u001b[0m:  OOM when allocating tensor with shape[500,32,37,860] and type float on /job:localhost/replica:0/task:0/device:GPU:0 by allocator GPU_0_bfc\n\t [[node sequential_1/conv2d/Conv2D (defined at \\AppData\\Local\\Temp\\ipykernel_2444\\2450242676.py:1) ]]\nHint: If you want to see a list of allocated tensors when OOM happens, add report_tensor_allocations_upon_oom to RunOptions for current allocation info. This isn't available when running in Eager mode.\n [Op:__inference_train_function_2849]\n\nFunction call stack:\ntrain_function\n"
     ]
    }
   ],
   "source": [
    "history = model.fit(x_train, y_train, epochs = 3, batch_size = 500, validation_data=(x_test, y_test))"
   ]
  },
  {
   "cell_type": "code",
   "execution_count": null,
   "metadata": {},
   "outputs": [],
   "source": []
  },
  {
   "cell_type": "code",
   "execution_count": null,
   "metadata": {},
   "outputs": [],
   "source": []
  },
  {
   "cell_type": "code",
   "execution_count": null,
   "metadata": {},
   "outputs": [],
   "source": []
  },
  {
   "cell_type": "code",
   "execution_count": null,
   "metadata": {},
   "outputs": [],
   "source": []
  },
  {
   "cell_type": "code",
   "execution_count": null,
   "metadata": {},
   "outputs": [],
   "source": []
  },
  {
   "cell_type": "code",
   "execution_count": null,
   "metadata": {},
   "outputs": [],
   "source": []
  },
  {
   "cell_type": "code",
   "execution_count": null,
   "metadata": {},
   "outputs": [],
   "source": []
  }
 ],
 "metadata": {
  "colab": {
   "collapsed_sections": [],
   "name": "Feature Extraction and Output Labelling: MFCC, Delta and Delta-Delta Coefficients.ipynb",
   "provenance": []
  },
  "kernelspec": {
   "display_name": "Python 3 (ipykernel)",
   "language": "python",
   "name": "python3"
  },
  "language_info": {
   "codemirror_mode": {
    "name": "ipython",
    "version": 3
   },
   "file_extension": ".py",
   "mimetype": "text/x-python",
   "name": "python",
   "nbconvert_exporter": "python",
   "pygments_lexer": "ipython3",
   "version": "3.9.13"
  },
  "vscode": {
   "interpreter": {
    "hash": "11938c6bc6919ae2720b4d5011047913343b08a43b18698fd82dedb0d4417594"
   }
  }
 },
 "nbformat": 4,
 "nbformat_minor": 4
}
