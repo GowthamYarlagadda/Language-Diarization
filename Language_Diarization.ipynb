{
  "cells": [
    {
      "cell_type": "code",
      "execution_count": null,
      "metadata": {
        "colab": {
          "base_uri": "https://localhost:8080/"
        },
        "id": "qAZRUpG9sngt",
        "outputId": "9ad60e91-3688-42bf-e514-67c87a4c936b"
      },
      "outputs": [
        {
          "output_type": "stream",
          "name": "stdout",
          "text": [
            "Mounted at /content/drive\n"
          ]
        }
      ],
      "source": [
        "\n",
        "from google.colab import drive\n",
        "drive.mount('/content/drive')"
      ]
    },
    {
      "cell_type": "code",
      "execution_count": null,
      "metadata": {
        "colab": {
          "base_uri": "https://localhost:8080/"
        },
        "id": "FcW-nnvojlZU",
        "outputId": "3fe258b8-74b2-4ef5-9a2a-d4f0bef3af26"
      },
      "outputs": [
        {
          "output_type": "stream",
          "name": "stdout",
          "text": [
            "Current Directory : /content/drive/My Drive/Major Project/Data Clips \n",
            "Directory Contents:\n",
            " ['gu', 'kn', 'hi', 'en']\n"
          ]
        }
      ],
      "source": [
        "import os\n",
        "os.chdir('/content/drive/My Drive/Major Project/Data Clips')\n",
        "featureFiles = os.listdir()\n",
        "print('Current Directory :', os.getcwd(), '\\nDirectory Contents:\\n', featureFiles)"
      ]
    },
    {
      "cell_type": "code",
      "execution_count": null,
      "metadata": {
        "id": "XgsKwT1os28W"
      },
      "outputs": [],
      "source": [
        "import librosa\n",
        "import numpy as np\n",
        "import time\n",
        "import matplotlib.pyplot as plt\n",
        "from librosa.display import specshow\n",
        "import numpy as np"
      ]
    },
    {
      "cell_type": "code",
      "execution_count": null,
      "metadata": {
        "colab": {
          "base_uri": "https://localhost:8080/"
        },
        "id": "MgPjMpJStKVS",
        "outputId": "d23a3356-e241-421b-eb44-e6702e431298"
      },
      "outputs": [
        {
          "output_type": "stream",
          "name": "stdout",
          "text": [
            "Current Directory : /content/drive/My Drive/Major Project/Data Clips \n",
            "Directory Contents: ['en', 'gu', 'hi', 'kn']\n"
          ]
        }
      ],
      "source": [
        "samplingRate = 22050\n",
        "\n",
        "os.chdir('/content/drive/My Drive/Major Project/Data Clips')\n",
        "languages = sorted(os.listdir())\n",
        "print('Current Directory :', os.getcwd(), '\\nDirectory Contents:', languages)\n",
        "nLanguages = len(languages)"
      ]
    },
    {
      "cell_type": "code",
      "execution_count": null,
      "metadata": {
        "colab": {
          "base_uri": "https://localhost:8080/"
        },
        "id": "6wA9309ntieG",
        "outputId": "4f2b6f7d-b5dd-4808-edff-9db3752824ae"
      },
      "outputs": [
        {
          "output_type": "stream",
          "name": "stdout",
          "text": [
            "Current Directory : /content/drive/My Drive/Major Project/Data Clips/en \n",
            "Number of Files: 1006\n",
            "Average Time Taken per File =  0.0680098819732666 s\n",
            "Total Time Taken =  68.0098819732666 s\n",
            "Current Directory : /content/drive/My Drive/Major Project/Data Clips/gu \n",
            "Number of Files: 1007\n",
            "Average Time Taken per File =  0.052843310356140136 s\n",
            "Total Time Taken =  52.84331035614014 s\n",
            "Current Directory : /content/drive/My Drive/Major Project/Data Clips/hi \n",
            "Number of Files: 1006\n",
            "Average Time Taken per File =  0.05629113268852234 s\n",
            "Total Time Taken =  56.29113268852234 s\n",
            "Current Directory : /content/drive/My Drive/Major Project/Data Clips/kn \n",
            "Number of Files: 1006\n",
            "Average Time Taken per File =  0.05563473153114319 s\n",
            "Total Time Taken =  55.63473153114319 s\n"
          ]
        }
      ],
      "source": [
        "maxFiles = 1000\n",
        "\n",
        "for lanIndex in range(nLanguages):\n",
        "  os.chdir('/content/drive/My Drive/Major Project/Data Clips')\n",
        "  os.chdir(languages[lanIndex])\n",
        "\n",
        "  audioFilenames = os.listdir()\n",
        "  print('Current Directory :', os.getcwd(), '\\nNumber of Files:', len(audioFilenames))\n",
        "\n",
        "  startTime = time.time()\n",
        "  audioFeatures = {}\n",
        "\n",
        "  for fileIndex in range(maxFiles):\n",
        "    audioFile = audioFilenames[fileIndex]\n",
        "    audioSignal = librosa.load(audioFile)[0]\n",
        "    mfcc = librosa.feature.mfcc(y=audioSignal,sr= samplingRate, n_mfcc = 13)\n",
        "    delta = librosa.feature.delta(mfcc, order = 1)\n",
        "    deltaDelta = librosa.feature.delta(mfcc, order = 2)\n",
        "    audioFeatures[fileIndex] = np.concatenate((mfcc, delta, deltaDelta))\n",
        "    #spec = librosa.feature.melspectrogram(y=audioSignal, sr=samplingRate,n_mels=40)\n",
        "    #spec_mean = np.mean(spec,axis=0)\n",
        "    #spec_std = np.std(spec,axis=0)\n",
        "\n",
        "    #audioFeatures[fileIndex] = (spec-spec_mean)/spec_std\n",
        "  os.chdir('/content/drive/My Drive/Major Project/Feature Files')\n",
        "  np.save('{0}AudioFeatures.npy'.format(languages[lanIndex]), audioFeatures, allow_pickle = True)\n",
        "  totalTime = time.time() - startTime\n",
        "  print('Average Time Taken per File = ', totalTime/maxFiles, 's\\nTotal Time Taken = ', totalTime, 's')"
      ]
    },
    {
      "cell_type": "code",
      "execution_count": null,
      "metadata": {
        "colab": {
          "base_uri": "https://localhost:8080/"
        },
        "id": "oVq8pQa88yyL",
        "outputId": "ecbd0e37-bf14-4465-e3d7-c9a5e66947c8"
      },
      "outputs": [
        {
          "data": {
            "text/plain": [
              "(40, 418)"
            ]
          },
          "execution_count": 6,
          "metadata": {},
          "output_type": "execute_result"
        }
      ],
      "source": [
        "audioFeatures[0].shape"
      ]
    },
    {
      "cell_type": "code",
      "execution_count": null,
      "metadata": {
        "colab": {
          "base_uri": "https://localhost:8080/"
        },
        "id": "ObLz9_zSGHtb",
        "outputId": "8a7880b2-61a5-4f80-d3e9-4083be420997"
      },
      "outputs": [
        {
          "output_type": "stream",
          "name": "stdout",
          "text": [
            "(4, 1000) (4, 1000, 39, 861) (4, 1000)\n"
          ]
        }
      ],
      "source": [
        "os.chdir('/content/drive/My Drive/Major Project/Feature Files')\n",
        "maxDim = np.NINF\n",
        "\n",
        "for lanIndex in range(nLanguages):\n",
        "  audioFeatures = np.load('{0}AudioFeatures.npy'.format(languages[lanIndex]), allow_pickle = True)[()]\n",
        "  for fileIndex in range(len(audioFeatures)):\n",
        "    nFrames = audioFeatures[fileIndex].shape[1]\n",
        "    if maxDim < audioFeatures[fileIndex].shape[1]:\n",
        "      maxDim = nFrames\n",
        "\n",
        "padInfoMatrix = []\n",
        "outputLabelMatrix = []\n",
        "featureMatrix = []\n",
        "\n",
        "for lanIndex in range(nLanguages):\n",
        "  lanPadInfoList = []\n",
        "  audioFeatures = np.load('{0}AudioFeatures.npy'.format(languages[lanIndex]), allow_pickle = True)[()]\n",
        "  outputLabelList = []\n",
        "  featureList = []\n",
        "\n",
        "  for fileIndex in range(len(audioFeatures)):\n",
        "    audioFile = audioFeatures[fileIndex]\n",
        "    lanPadInfoList.append(maxDim - audioFile.shape[1])\n",
        "    audioFeatures[fileIndex] = np.pad(audioFile, ((0, 0), (0, maxDim - audioFile.shape[1])), 'constant', constant_values = 0)\n",
        "    featureList.append(audioFeatures[fileIndex])\n",
        "    outputLabelList.append(lanIndex + 1)\n",
        "\n",
        "  padInfoMatrix.append(np.array(lanPadInfoList))\n",
        "  outputLabelMatrix.append(np.array(outputLabelList))\n",
        "  featureMatrix.append(np.array(featureList))\n",
        "\n",
        "padInfoMatrix = np.array(padInfoMatrix)\n",
        "outputLabelMatrix = np.array(outputLabelMatrix)\n",
        "featureMatrix = np.array(featureMatrix)\n",
        "\n",
        "np.save('outputLabels.npy', outputLabelMatrix, allow_pickle = True)\n",
        "np.save('padInformationMatrix.npy', padInfoMatrix, allow_pickle = True)\n",
        "np.save('featureMatrix.npy', featureMatrix, allow_pickle = True)\n",
        "\n",
        "print(outputLabelMatrix.shape, featureMatrix.shape, padInfoMatrix.shape)"
      ]
    },
    {
      "cell_type": "code",
      "execution_count": null,
      "metadata": {
        "colab": {
          "base_uri": "https://localhost:8080/",
          "height": 607
        },
        "id": "dD4F9s8rLy7v",
        "outputId": "98a5dae0-4a31-4e43-d2df-c5f9caa525c2"
      },
      "outputs": [
        {
          "output_type": "display_data",
          "data": {
            "text/plain": [
              "<Figure size 800x600 with 1 Axes>"
            ],
            "image/png": "[encoded data removed]"
          },
          "metadata": {}
        }
      ],
      "source": [
        "os.chdir('/content/drive/My Drive/Major Project/Data Clips/kn')\n",
        "audioFile = librosa.load(os.listdir()[0])[0]\n",
        "samplingRate = 22050\n",
        "mfcc = librosa.feature.mfcc(y=audioFile, sr=samplingRate, n_mfcc = 13)\n",
        "delta = librosa.feature.delta(mfcc, order = 1)\n",
        "deltaDelta = librosa.feature.delta(mfcc, order = 2)\n",
        "#mel =librosa.feature.melspectrogram(y=audioSignal, sr=samplingRate)\n",
        "plt.figure(figsize = (8, 6))\n",
        "specshow(mfcc, x_axis = 'time')\n",
        "plt.title(\"Sample Melspectogram\")\n",
        "plt.tight_layout()\n"
      ]
    },
    {
      "cell_type": "code",
      "execution_count": null,
      "metadata": {
        "id": "Sgew1i5dMUAI"
      },
      "outputs": [],
      "source": [
        "import numpy as np\n",
        "import os"
      ]
    },
    {
      "cell_type": "code",
      "execution_count": null,
      "metadata": {
        "colab": {
          "base_uri": "https://localhost:8080/"
        },
        "id": "4NaRsBT2MiMN",
        "outputId": "73394a64-d25c-413d-ba26-968c38950d9e"
      },
      "outputs": [
        {
          "output_type": "stream",
          "name": "stdout",
          "text": [
            "Current Directory : /content/drive/My Drive/Major Project/Feature Files \n",
            "Directory Contents:\n",
            " ['enAudioFeatures.npy', 'guAudioFeatures.npy', 'hiAudioFeatures.npy', 'knAudioFeatures.npy', 'outputLabels.npy', 'padInformationMatrix.npy', 'featureMatrix.npy', 'trained_model.h5']\n"
          ]
        }
      ],
      "source": [
        "os.chdir('/content/drive/My Drive/Major Project/Feature Files')\n",
        "featureFiles = os.listdir()\n",
        "print('Current Directory :', os.getcwd(), '\\nDirectory Contents:\\n', featureFiles)"
      ]
    },
    {
      "cell_type": "code",
      "execution_count": null,
      "metadata": {
        "id": "HGKN2E4VMuJX",
        "colab": {
          "base_uri": "https://localhost:8080/"
        },
        "outputId": "a35c0b6b-a258-47e9-8cad-4116c7d9a00b"
      },
      "outputs": [
        {
          "output_type": "stream",
          "name": "stdout",
          "text": [
            "(4, 1000) (4, 1000, 39, 861) (4, 1000)\n"
          ]
        }
      ],
      "source": [
        "\n",
        "featureMatrix = np.load('featureMatrix.npy', allow_pickle = True)\n",
        "outputLabelMatrix = np.load('outputLabels.npy', allow_pickle = True)\n",
        "padInfoMatrix = np.load('padInformationMatrix.npy', allow_pickle = True)\n",
        "\n",
        "print(outputLabelMatrix.shape, featureMatrix.shape, padInfoMatrix.shape)"
      ]
    },
    {
      "cell_type": "code",
      "execution_count": null,
      "metadata": {
        "colab": {
          "base_uri": "https://localhost:8080/"
        },
        "id": "OFK8J2D6MxRu",
        "outputId": "90c4f77d-c5ef-49b6-9d6c-d0e96ea89a27"
      },
      "outputs": [
        {
          "output_type": "stream",
          "name": "stdout",
          "text": [
            "(4000, 33579) (4000,)\n"
          ]
        }
      ],
      "source": [
        "nLanguages = 4\n",
        "maxFiles = 1000\n",
        "combinedFeatureList = []\n",
        "combinedOutputLabelList = []\n",
        "\n",
        "for lanIndex in range(nLanguages):\n",
        "  for fileIndex in range(maxFiles):\n",
        "    combinedFeatureList.append(featureMatrix[lanIndex][fileIndex].flatten())\n",
        "    combinedOutputLabelList.append(outputLabelMatrix[lanIndex][fileIndex])\n",
        "\n",
        "combinedFeatureList = np.array(combinedFeatureList)\n",
        "combinedOutputLabelList = np.array(combinedOutputLabelList)\n",
        "\n",
        "print(combinedFeatureList.shape, combinedOutputLabelList.shape)"
      ]
    },
    {
      "cell_type": "code",
      "execution_count": null,
      "metadata": {
        "colab": {
          "base_uri": "https://localhost:8080/"
        },
        "id": "vcgdCj7aM4rz",
        "outputId": "96d5b935-6451-44f9-b330-1de476854e52"
      },
      "outputs": [
        {
          "output_type": "stream",
          "name": "stdout",
          "text": [
            "(4000, 5)\n"
          ]
        }
      ],
      "source": [
        "encodedOutputLabelList = np.zeros((combinedOutputLabelList.shape[0], combinedOutputLabelList.max() + 1))\n",
        "encodedOutputLabelList[np.arange(combinedOutputLabelList.shape[0]), combinedOutputLabelList] = 1\n",
        "print(encodedOutputLabelList.shape)\n",
        ""
      ]
    },
    {
      "cell_type": "code",
      "execution_count": null,
      "metadata": {
        "id": "RaNATglpNvAU"
      },
      "outputs": [],
      "source": [
        "from keras.models import Sequential\n",
        "from keras import Input\n",
        "from keras.layers import Dense, Conv2D, Flatten, MaxPooling2D, Dropout, Activation,LSTM, Reshape\n",
        "from keras.callbacks import TensorBoard, ModelCheckpoint\n",
        "from sklearn.model_selection import train_test_split\n",
        "\n",
        ""
      ]
    },
    {
      "cell_type": "code",
      "execution_count": null,
      "metadata": {
        "colab": {
          "base_uri": "https://localhost:8080/"
        },
        "id": "NnWjh4wTN1tA",
        "outputId": "873be9c3-cbcc-4e0e-bd13-359c323d1e63"
      },
      "outputs": [
        {
          "output_type": "stream",
          "name": "stdout",
          "text": [
            "(4000, 39, 861, 1) (4000,)\n"
          ]
        }
      ],
      "source": [
        "\n",
        "combinedFeatureList = []\n",
        "combinedOutputLabelList = []\n",
        "\n",
        "for lanIndex in range(nLanguages):\n",
        "  for fileIndex in range(maxFiles):\n",
        "    combinedFeatureList.append(featureMatrix[lanIndex][fileIndex])\n",
        "    combinedOutputLabelList.append(outputLabelMatrix[lanIndex][fileIndex])\n",
        "\n",
        "combinedFeatureList = np.array(combinedFeatureList)\n",
        "combinedOutputLabelList = np.array(combinedOutputLabelList)\n",
        "\n",
        "combinedFeatureList = combinedFeatureList.reshape(combinedFeatureList.shape[0], combinedFeatureList.shape[1], combinedFeatureList.shape[2], 1)\n",
        "\n",
        "print(combinedFeatureList.shape, combinedOutputLabelList.shape)"
      ]
    },
    {
      "cell_type": "code",
      "execution_count": null,
      "metadata": {
        "colab": {
          "base_uri": "https://localhost:8080/"
        },
        "id": "nlB77ZiVN70r",
        "outputId": "a5223762-de3e-4971-a9c7-fbab955c2d58"
      },
      "outputs": [
        {
          "output_type": "stream",
          "name": "stdout",
          "text": [
            "(3200, 39, 861, 1) (800, 39, 861, 1) (3200, 5) (800, 5)\n"
          ]
        }
      ],
      "source": [
        "x_train, x_test, y_train, y_test = train_test_split(combinedFeatureList, encodedOutputLabelList, test_size=0.2, random_state = 33)\n",
        "print(x_train.shape, x_test.shape, y_train.shape, y_test.shape)"
      ]
    },
    {
      "cell_type": "code",
      "execution_count": null,
      "metadata": {
        "colab": {
          "base_uri": "https://localhost:8080/"
        },
        "id": "DQke80-tN-uq",
        "outputId": "fc2da5e5-15d6-41d8-ab59-edc54c5b7186"
      },
      "outputs": [
        {
          "name": "stdout",
          "output_type": "stream",
          "text": [
            "Model: \"sequential\"\n",
            "_________________________________________________________________\n",
            " Layer (type)                Output Shape              Param #   \n",
            "=================================================================\n",
            " conv2d (Conv2D)             (None, 38, 859, 32)       320       \n",
            "                                                                 \n",
            " max_pooling2d (MaxPooling2D  (None, 19, 429, 32)      0         \n",
            " )                                                               \n",
            "                                                                 \n",
            " conv2d_1 (Conv2D)           (None, 17, 427, 64)       18496     \n",
            "                                                                 \n",
            " max_pooling2d_1 (MaxPooling  (None, 8, 213, 64)       0         \n",
            " 2D)                                                             \n",
            "                                                                 \n",
            " conv2d_2 (Conv2D)           (None, 6, 211, 128)       73856     \n",
            "                                                                 \n",
            " max_pooling2d_2 (MaxPooling  (None, 3, 105, 128)      0         \n",
            " 2D)                                                             \n",
            "                                                                 \n",
            " conv2d_3 (Conv2D)           (None, 1, 103, 256)       295168    \n",
            "                                                                 \n",
            " reshape (Reshape)           (None, 103, 256)          0         \n",
            "                                                                 \n",
            " lstm (LSTM)                 (None, 300)               668400    \n",
            "                                                                 \n",
            " dense (Dense)               (None, 5)                 1505      \n",
            "                                                                 \n",
            "=================================================================\n",
            "Total params: 1,057,745\n",
            "Trainable params: 1,057,745\n",
            "Non-trainable params: 0\n",
            "_________________________________________________________________\n"
          ]
        }
      ],
      "source": [
        "model = Sequential()\n",
        "\n",
        "model.add(Conv2D(32, kernel_size=(3,3), activation='relu',input_shape = combinedFeatureList.shape[1:]))\n",
        "model.add(MaxPooling2D(pool_size = (2, 2)))\n",
        "model.add(Conv2D(64, kernel_size=(3,3), activation='relu'))\n",
        "model.add(MaxPooling2D(pool_size = (2, 2)))\n",
        "model.add(Conv2D(128, kernel_size=(3,3), activation='relu'))\n",
        "model.add(MaxPooling2D(pool_size = (2, 2)))\n",
        "model.add(Conv2D(256,kernel_size=(3,3), activation=\"relu\"))\n",
        "model.add(Reshape(target_shape=(103,256)))\n",
        "model.add(LSTM(300))\n",
        "model.add(Dense(encodedOutputLabelList.shape[1], activation = 'softmax'))\n",
        "\n",
        "\n",
        "model.compile(optimizer='adam', loss='categorical_crossentropy', metrics=['accuracy'])\n",
        "model.summary()"
      ]
    },
    {
      "cell_type": "code",
      "execution_count": null,
      "metadata": {
        "colab": {
          "base_uri": "https://localhost:8080/"
        },
        "id": "UcpJv5J8OBGM",
        "outputId": "78a85875-9901-4c9f-f728-147b2ba1d41c"
      },
      "outputs": [
        {
          "name": "stdout",
          "output_type": "stream",
          "text": [
            "Epoch 1/40\n",
            "7/7 [==============================] - 175s 25s/step - loss: 1.5322 - accuracy: 0.2644 - val_loss: 1.4118 - val_accuracy: 0.2663\n",
            "Epoch 2/40\n",
            "7/7 [==============================] - 162s 23s/step - loss: 1.4187 - accuracy: 0.2537 - val_loss: 1.4116 - val_accuracy: 0.2500\n",
            "Epoch 3/40\n",
            "7/7 [==============================] - 163s 23s/step - loss: 1.4041 - accuracy: 0.2537 - val_loss: 1.3953 - val_accuracy: 0.2400\n",
            "Epoch 4/40\n",
            "7/7 [==============================] - 170s 24s/step - loss: 1.3932 - accuracy: 0.2550 - val_loss: 1.3815 - val_accuracy: 0.2675\n",
            "Epoch 5/40\n",
            "7/7 [==============================] - 170s 24s/step - loss: 1.3813 - accuracy: 0.2650 - val_loss: 1.3751 - val_accuracy: 0.2738\n",
            "Epoch 6/40\n",
            "7/7 [==============================] - 160s 23s/step - loss: 1.3789 - accuracy: 0.2856 - val_loss: 1.3762 - val_accuracy: 0.2500\n",
            "Epoch 7/40\n",
            "7/7 [==============================] - 172s 25s/step - loss: 1.3628 - accuracy: 0.2941 - val_loss: 1.3336 - val_accuracy: 0.3800\n",
            "Epoch 8/40\n",
            "7/7 [==============================] - 161s 23s/step - loss: 1.3403 - accuracy: 0.3713 - val_loss: 1.2921 - val_accuracy: 0.3825\n",
            "Epoch 9/40\n",
            "7/7 [==============================] - 170s 25s/step - loss: 1.2928 - accuracy: 0.3906 - val_loss: 1.2508 - val_accuracy: 0.4313\n",
            "Epoch 10/40\n",
            "7/7 [==============================] - 170s 24s/step - loss: 1.2760 - accuracy: 0.4091 - val_loss: 1.2225 - val_accuracy: 0.4350\n",
            "Epoch 11/40\n",
            "7/7 [==============================] - 171s 25s/step - loss: 1.2205 - accuracy: 0.4434 - val_loss: 1.2000 - val_accuracy: 0.4762\n",
            "Epoch 12/40\n",
            "7/7 [==============================] - 160s 23s/step - loss: 1.1531 - accuracy: 0.4944 - val_loss: 1.0836 - val_accuracy: 0.5462\n",
            "Epoch 13/40\n",
            "7/7 [==============================] - 161s 23s/step - loss: 1.0685 - accuracy: 0.5556 - val_loss: 1.1269 - val_accuracy: 0.4988\n",
            "Epoch 14/40\n",
            "7/7 [==============================] - 171s 25s/step - loss: 1.0292 - accuracy: 0.5622 - val_loss: 1.0157 - val_accuracy: 0.5838\n",
            "Epoch 15/40\n",
            "7/7 [==============================] - 170s 24s/step - loss: 0.9542 - accuracy: 0.6178 - val_loss: 0.9883 - val_accuracy: 0.5838\n",
            "Epoch 16/40\n",
            "7/7 [==============================] - 169s 24s/step - loss: 0.9364 - accuracy: 0.6191 - val_loss: 0.9474 - val_accuracy: 0.6100\n",
            "Epoch 17/40\n",
            "7/7 [==============================] - 170s 24s/step - loss: 0.8557 - accuracy: 0.6681 - val_loss: 0.8908 - val_accuracy: 0.6388\n",
            "Epoch 18/40\n",
            "7/7 [==============================] - 161s 23s/step - loss: 0.8120 - accuracy: 0.6862 - val_loss: 0.9035 - val_accuracy: 0.6338\n",
            "Epoch 19/40\n",
            "7/7 [==============================] - 169s 25s/step - loss: 0.8024 - accuracy: 0.6816 - val_loss: 0.8416 - val_accuracy: 0.6675\n",
            "Epoch 20/40\n",
            "7/7 [==============================] - 160s 23s/step - loss: 0.8364 - accuracy: 0.6578 - val_loss: 0.9879 - val_accuracy: 0.6050\n",
            "Epoch 21/40\n",
            "7/7 [==============================] - 170s 24s/step - loss: 0.8520 - accuracy: 0.6734 - val_loss: 0.8355 - val_accuracy: 0.6587\n",
            "Epoch 22/40\n",
            "7/7 [==============================] - 161s 23s/step - loss: 0.7692 - accuracy: 0.7031 - val_loss: 0.7905 - val_accuracy: 0.6862\n",
            "Epoch 23/40\n",
            "7/7 [==============================] - 172s 25s/step - loss: 0.7287 - accuracy: 0.7097 - val_loss: 0.8241 - val_accuracy: 0.6575\n",
            "Epoch 24/40\n",
            "7/7 [==============================] - 171s 25s/step - loss: 0.6805 - accuracy: 0.7353 - val_loss: 0.7147 - val_accuracy: 0.7300\n",
            "Epoch 25/40\n",
            "7/7 [==============================] - 162s 23s/step - loss: 0.6362 - accuracy: 0.7650 - val_loss: 0.6872 - val_accuracy: 0.7337\n",
            "Epoch 26/40\n",
            "7/7 [==============================] - 170s 24s/step - loss: 0.6429 - accuracy: 0.7594 - val_loss: 0.7029 - val_accuracy: 0.7275\n",
            "Epoch 27/40\n",
            "7/7 [==============================] - 169s 24s/step - loss: 0.5730 - accuracy: 0.7806 - val_loss: 0.6510 - val_accuracy: 0.7638\n",
            "Epoch 28/40\n",
            "7/7 [==============================] - 170s 24s/step - loss: 0.5407 - accuracy: 0.7991 - val_loss: 0.6380 - val_accuracy: 0.7563\n",
            "Epoch 29/40\n",
            "7/7 [==============================] - 163s 23s/step - loss: 0.5114 - accuracy: 0.8112 - val_loss: 0.5849 - val_accuracy: 0.7638\n",
            "Epoch 30/40\n",
            "7/7 [==============================] - 162s 23s/step - loss: 0.5505 - accuracy: 0.7922 - val_loss: 0.6111 - val_accuracy: 0.7650\n",
            "Epoch 31/40\n",
            "7/7 [==============================] - 170s 25s/step - loss: 0.5604 - accuracy: 0.7763 - val_loss: 0.6658 - val_accuracy: 0.7588\n",
            "Epoch 32/40\n",
            "7/7 [==============================] - 161s 23s/step - loss: 0.4916 - accuracy: 0.8200 - val_loss: 0.6249 - val_accuracy: 0.7675\n",
            "Epoch 33/40\n",
            "7/7 [==============================] - 163s 23s/step - loss: 0.4439 - accuracy: 0.8428 - val_loss: 0.6016 - val_accuracy: 0.7700\n",
            "Epoch 34/40\n",
            "7/7 [==============================] - 175s 25s/step - loss: 0.4616 - accuracy: 0.8366 - val_loss: 0.6083 - val_accuracy: 0.7812\n",
            "Epoch 35/40\n",
            "7/7 [==============================] - 176s 25s/step - loss: 0.4801 - accuracy: 0.8291 - val_loss: 0.5524 - val_accuracy: 0.7975\n",
            "Epoch 36/40\n",
            "7/7 [==============================] - 172s 25s/step - loss: 0.4357 - accuracy: 0.8431 - val_loss: 0.5564 - val_accuracy: 0.8138\n",
            "Epoch 37/40\n",
            "7/7 [==============================] - 163s 23s/step - loss: 0.3730 - accuracy: 0.8628 - val_loss: 0.5185 - val_accuracy: 0.8025\n",
            "Epoch 38/40\n",
            "7/7 [==============================] - 173s 25s/step - loss: 0.3569 - accuracy: 0.8772 - val_loss: 0.5332 - val_accuracy: 0.7962\n",
            "Epoch 39/40\n",
            "7/7 [==============================] - 171s 25s/step - loss: 0.3423 - accuracy: 0.8766 - val_loss: 0.4520 - val_accuracy: 0.8300\n",
            "Epoch 40/40\n",
            "7/7 [==============================] - 172s 25s/step - loss: 0.3005 - accuracy: 0.8934 - val_loss: 0.4771 - val_accuracy: 0.8200\n"
          ]
        }
      ],
      "source": [
        "history = model.fit(x_train, y_train, epochs = 40, batch_size = 500, validation_data=(x_test, y_test))"
      ]
    },
    {
      "cell_type": "code",
      "execution_count": null,
      "metadata": {
        "colab": {
          "base_uri": "https://localhost:8080/",
          "height": 282
        },
        "id": "T03eYmcjOGrV",
        "outputId": "5b7de267-ca29-42be-f603-25e33d9b85e2"
      },
      "outputs": [
        {
          "data": {
            "text/plain": [
              "[<matplotlib.lines.Line2D at 0x7f551a09fc10>]"
            ]
          },
          "execution_count": 15,
          "metadata": {},
          "output_type": "execute_result"
        },
        {
          "data": {
            "image/png": "[encoded data removed]",
            "text/plain": [
              "<Figure size 432x288 with 1 Axes>"
            ]
          },
          "metadata": {},
          "output_type": "display_data"
        }
      ],
      "source": [
        "import matplotlib.pyplot as plt\n",
        "plt.plot(history.history['val_accuracy'])"
      ]
    },
    {
      "cell_type": "code",
      "execution_count": null,
      "metadata": {
        "colab": {
          "base_uri": "https://localhost:8080/"
        },
        "id": "_8DdWeQAzz1F",
        "outputId": "965d9bb1-b63d-498b-c69f-14b41fd5bc47"
      },
      "outputs": [
        {
          "name": "stdout",
          "output_type": "stream",
          "text": [
            "Model: \"sequential\"\n",
            "_________________________________________________________________\n",
            " Layer (type)                Output Shape              Param #   \n",
            "=================================================================\n",
            " conv2d (Conv2D)             (None, 37, 859, 32)       320       \n",
            "                                                                 \n",
            " max_pooling2d (MaxPooling2D  (None, 18, 429, 32)      0         \n",
            " )                                                               \n",
            "                                                                 \n",
            " conv2d_1 (Conv2D)           (None, 16, 427, 64)       18496     \n",
            "                                                                 \n",
            " max_pooling2d_1 (MaxPooling  (None, 8, 213, 64)       0         \n",
            " 2D)                                                             \n",
            "                                                                 \n",
            " conv2d_2 (Conv2D)           (None, 6, 211, 128)       73856     \n",
            "                                                                 \n",
            " max_pooling2d_2 (MaxPooling  (None, 3, 105, 128)      0         \n",
            " 2D)                                                             \n",
            "                                                                 \n",
            " conv2d_3 (Conv2D)           (None, 1, 103, 256)       295168    \n",
            "                                                                 \n",
            " reshape (Reshape)           (None, 103, 256)          0         \n",
            "                                                                 \n",
            " lstm (LSTM)                 (None, 400)               1051200   \n",
            "                                                                 \n",
            " dense (Dense)               (None, 5)                 2005      \n",
            "                                                                 \n",
            "=================================================================\n",
            "Total params: 1,441,045\n",
            "Trainable params: 1,441,045\n",
            "Non-trainable params: 0\n",
            "_________________________________________________________________\n"
          ]
        }
      ],
      "source": [
        "model2 = Sequential()\n",
        "\n",
        "model2.add(Conv2D(32, kernel_size=(3,3), activation='relu',input_shape = combinedFeatureList.shape[1:]))\n",
        "model2.add(MaxPooling2D(pool_size = (2, 2)))\n",
        "model2.add(Conv2D(64, kernel_size=(3,3), activation='relu'))\n",
        "model2.add(MaxPooling2D(pool_size = (2, 2)))\n",
        "model2.add(Conv2D(128, kernel_size=(3,3), activation='relu'))\n",
        "model2.add(MaxPooling2D(pool_size = (2, 2)))\n",
        "model2.add(Conv2D(256,kernel_size=(3,3), activation=\"relu\"))\n",
        "model2.add(Reshape(target_shape=(103,256)))\n",
        "model2.add(LSTM(400))\n",
        "model2.add(Dense(encodedOutputLabelList.shape[1], activation = 'softmax'))\n",
        "\n",
        "\n",
        "model2.compile(optimizer='adam', loss='categorical_crossentropy', metrics=['accuracy'])\n",
        "model2.summary()"
      ]
    },
    {
      "cell_type": "code",
      "execution_count": null,
      "metadata": {
        "colab": {
          "base_uri": "https://localhost:8080/"
        },
        "id": "d5ouNu71NvIT",
        "outputId": "b5710a66-55d9-44da-c6c9-629ff086227e"
      },
      "outputs": [
        {
          "name": "stdout",
          "output_type": "stream",
          "text": [
            "Epoch 1/50\n",
            "7/7 [==============================] - 298s 42s/step - loss: 1.5237 - accuracy: 0.2497 - val_loss: 1.4377 - val_accuracy: 0.2525\n",
            "Epoch 2/50\n",
            "7/7 [==============================] - 286s 40s/step - loss: 1.4034 - accuracy: 0.2547 - val_loss: 1.4002 - val_accuracy: 0.2575\n",
            "Epoch 3/50\n",
            "7/7 [==============================] - 284s 40s/step - loss: 1.3936 - accuracy: 0.2516 - val_loss: 1.3812 - val_accuracy: 0.2650\n",
            "Epoch 4/50\n",
            "7/7 [==============================] - 280s 40s/step - loss: 1.3844 - accuracy: 0.2709 - val_loss: 1.3862 - val_accuracy: 0.2750\n",
            "Epoch 5/50\n",
            "7/7 [==============================] - 282s 40s/step - loss: 1.3863 - accuracy: 0.2503 - val_loss: 1.3781 - val_accuracy: 0.2663\n",
            "Epoch 6/50\n",
            "7/7 [==============================] - 282s 40s/step - loss: 1.3772 - accuracy: 0.2869 - val_loss: 1.3598 - val_accuracy: 0.3475\n",
            "Epoch 7/50\n",
            "7/7 [==============================] - 283s 40s/step - loss: 1.3525 - accuracy: 0.3216 - val_loss: 1.3253 - val_accuracy: 0.3750\n",
            "Epoch 8/50\n",
            "7/7 [==============================] - 284s 41s/step - loss: 1.3097 - accuracy: 0.4059 - val_loss: 1.2810 - val_accuracy: 0.4038\n",
            "Epoch 9/50\n",
            "7/7 [==============================] - 283s 40s/step - loss: 1.2511 - accuracy: 0.4450 - val_loss: 1.2025 - val_accuracy: 0.4400\n",
            "Epoch 10/50\n",
            "7/7 [==============================] - 283s 40s/step - loss: 1.2182 - accuracy: 0.4353 - val_loss: 1.1916 - val_accuracy: 0.4450\n",
            "Epoch 11/50\n",
            "7/7 [==============================] - 287s 41s/step - loss: 1.2346 - accuracy: 0.4422 - val_loss: 1.2328 - val_accuracy: 0.4375\n",
            "Epoch 12/50\n",
            "7/7 [==============================] - 283s 40s/step - loss: 1.1801 - accuracy: 0.4634 - val_loss: 1.1155 - val_accuracy: 0.5587\n",
            "Epoch 13/50\n",
            "7/7 [==============================] - 284s 40s/step - loss: 1.1161 - accuracy: 0.5431 - val_loss: 1.0484 - val_accuracy: 0.5900\n",
            "Epoch 14/50\n",
            "7/7 [==============================] - 282s 40s/step - loss: 1.0614 - accuracy: 0.5759 - val_loss: 1.0407 - val_accuracy: 0.5650\n",
            "Epoch 15/50\n",
            "7/7 [==============================] - 283s 41s/step - loss: 1.0212 - accuracy: 0.5813 - val_loss: 1.0401 - val_accuracy: 0.5337\n",
            "Epoch 16/50\n",
            "7/7 [==============================] - 302s 43s/step - loss: 1.0294 - accuracy: 0.5659 - val_loss: 1.1716 - val_accuracy: 0.5775\n",
            "Epoch 17/50\n",
            "7/7 [==============================] - 282s 40s/step - loss: 1.1095 - accuracy: 0.5487 - val_loss: 1.1028 - val_accuracy: 0.5788\n",
            "Epoch 18/50\n",
            "7/7 [==============================] - 284s 41s/step - loss: 1.0391 - accuracy: 0.5944 - val_loss: 1.0203 - val_accuracy: 0.5725\n",
            "Epoch 19/50\n",
            "7/7 [==============================] - 282s 40s/step - loss: 1.0719 - accuracy: 0.5425 - val_loss: 1.0290 - val_accuracy: 0.5500\n",
            "Epoch 20/50\n",
            "7/7 [==============================] - 281s 40s/step - loss: 1.0352 - accuracy: 0.5616 - val_loss: 1.0537 - val_accuracy: 0.5788\n",
            "Epoch 21/50\n",
            "7/7 [==============================] - 277s 40s/step - loss: 1.0175 - accuracy: 0.5928 - val_loss: 0.9868 - val_accuracy: 0.5950\n",
            "Epoch 22/50\n",
            "7/7 [==============================] - 275s 39s/step - loss: 0.9959 - accuracy: 0.5941 - val_loss: 0.9777 - val_accuracy: 0.5863\n",
            "Epoch 23/50\n",
            "7/7 [==============================] - 276s 39s/step - loss: 0.9373 - accuracy: 0.6328 - val_loss: 0.9253 - val_accuracy: 0.6275\n",
            "Epoch 24/50\n",
            "7/7 [==============================] - 276s 39s/step - loss: 0.8972 - accuracy: 0.6522 - val_loss: 0.9406 - val_accuracy: 0.6263\n",
            "Epoch 25/50\n",
            "7/7 [==============================] - 278s 40s/step - loss: 0.8822 - accuracy: 0.6587 - val_loss: 0.9215 - val_accuracy: 0.6313\n",
            "Epoch 26/50\n",
            "7/7 [==============================] - 277s 39s/step - loss: 0.8397 - accuracy: 0.6809 - val_loss: 0.8816 - val_accuracy: 0.6438\n",
            "Epoch 27/50\n",
            "7/7 [==============================] - 278s 40s/step - loss: 0.8318 - accuracy: 0.6759 - val_loss: 0.8909 - val_accuracy: 0.6525\n",
            "Epoch 28/50\n",
            "7/7 [==============================] - 277s 40s/step - loss: 0.8213 - accuracy: 0.6766 - val_loss: 0.8561 - val_accuracy: 0.6488\n",
            "Epoch 29/50\n",
            "7/7 [==============================] - 274s 39s/step - loss: 0.7766 - accuracy: 0.7084 - val_loss: 0.8345 - val_accuracy: 0.6775\n",
            "Epoch 30/50\n",
            "7/7 [==============================] - 274s 39s/step - loss: 0.7838 - accuracy: 0.7031 - val_loss: 0.8110 - val_accuracy: 0.6725\n",
            "Epoch 31/50\n",
            "7/7 [==============================] - 275s 39s/step - loss: 0.7584 - accuracy: 0.7109 - val_loss: 0.8408 - val_accuracy: 0.6875\n",
            "Epoch 32/50\n",
            "7/7 [==============================] - 274s 39s/step - loss: 0.7376 - accuracy: 0.7275 - val_loss: 0.8151 - val_accuracy: 0.6762\n",
            "Epoch 33/50\n",
            "7/7 [==============================] - 277s 40s/step - loss: 0.7191 - accuracy: 0.7234 - val_loss: 0.8867 - val_accuracy: 0.6587\n",
            "Epoch 34/50\n",
            "7/7 [==============================] - 273s 39s/step - loss: 0.7055 - accuracy: 0.7269 - val_loss: 0.7661 - val_accuracy: 0.6850\n",
            "Epoch 35/50\n",
            "7/7 [==============================] - 274s 39s/step - loss: 0.6657 - accuracy: 0.7519 - val_loss: 0.7166 - val_accuracy: 0.7100\n",
            "Epoch 36/50\n",
            "7/7 [==============================] - 274s 39s/step - loss: 0.6596 - accuracy: 0.7491 - val_loss: 0.7436 - val_accuracy: 0.7212\n",
            "Epoch 37/50\n",
            "7/7 [==============================] - 273s 39s/step - loss: 0.6302 - accuracy: 0.7709 - val_loss: 0.7259 - val_accuracy: 0.7125\n",
            "Epoch 38/50\n",
            "7/7 [==============================] - 274s 39s/step - loss: 0.6018 - accuracy: 0.7819 - val_loss: 0.6627 - val_accuracy: 0.7475\n",
            "Epoch 39/50\n",
            "7/7 [==============================] - 272s 39s/step - loss: 0.5581 - accuracy: 0.7997 - val_loss: 0.6411 - val_accuracy: 0.7613\n",
            "Epoch 40/50\n",
            "7/7 [==============================] - 273s 39s/step - loss: 0.5292 - accuracy: 0.8112 - val_loss: 0.6161 - val_accuracy: 0.7800\n",
            "Epoch 41/50\n",
            "7/7 [==============================] - 274s 39s/step - loss: 0.4939 - accuracy: 0.8253 - val_loss: 0.6360 - val_accuracy: 0.7575\n",
            "Epoch 42/50\n",
            "7/7 [==============================] - 272s 39s/step - loss: 0.4917 - accuracy: 0.8197 - val_loss: 0.6102 - val_accuracy: 0.7738\n",
            "Epoch 43/50\n",
            "7/7 [==============================] - 272s 39s/step - loss: 0.5062 - accuracy: 0.8191 - val_loss: 0.5916 - val_accuracy: 0.7875\n",
            "Epoch 44/50\n",
            "7/7 [==============================] - 274s 39s/step - loss: 0.4975 - accuracy: 0.8153 - val_loss: 0.5618 - val_accuracy: 0.7962\n",
            "Epoch 45/50\n",
            "7/7 [==============================] - 271s 39s/step - loss: 0.4626 - accuracy: 0.8281 - val_loss: 0.5933 - val_accuracy: 0.7713\n",
            "Epoch 46/50\n",
            "7/7 [==============================] - 273s 39s/step - loss: 0.4105 - accuracy: 0.8625 - val_loss: 0.5329 - val_accuracy: 0.8037\n",
            "Epoch 47/50\n",
            "7/7 [==============================] - 275s 39s/step - loss: 0.3725 - accuracy: 0.8687 - val_loss: 0.5144 - val_accuracy: 0.8087\n",
            "Epoch 48/50\n",
            "7/7 [==============================] - 273s 39s/step - loss: 0.3217 - accuracy: 0.8881 - val_loss: 0.5255 - val_accuracy: 0.8075\n",
            "Epoch 49/50\n",
            "7/7 [==============================] - 272s 39s/step - loss: 0.3081 - accuracy: 0.8944 - val_loss: 0.5795 - val_accuracy: 0.7987\n",
            "Epoch 50/50\n",
            "7/7 [==============================] - 273s 39s/step - loss: 0.3051 - accuracy: 0.8913 - val_loss: 0.4994 - val_accuracy: 0.8200\n"
          ]
        }
      ],
      "source": [
        "history = model2.fit(x_train, y_train, epochs = 50, batch_size = 500, validation_data=(x_test, y_test))"
      ]
    },
    {
      "cell_type": "code",
      "execution_count": null,
      "metadata": {
        "colab": {
          "base_uri": "https://localhost:8080/",
          "height": 282
        },
        "id": "udUa-PfoEWq1",
        "outputId": "5c6a032c-97b1-4e8e-c64e-f10cf06af7ac"
      },
      "outputs": [
        {
          "data": {
            "text/plain": [
              "[<matplotlib.lines.Line2D at 0x7fc77d4c2bb0>]"
            ]
          },
          "execution_count": 14,
          "metadata": {},
          "output_type": "execute_result"
        },
        {
          "data": {
            "image/png": "[encoded data removed]",
            "text/plain": [
              "<Figure size 432x288 with 1 Axes>"
            ]
          },
          "metadata": {},
          "output_type": "display_data"
        }
      ],
      "source": [
        "import matplotlib.pyplot as plt\n",
        "plt.plot(history.history['val_accuracy'])"
      ]
    },
    {
      "cell_type": "code",
      "execution_count": null,
      "metadata": {
        "colab": {
          "base_uri": "https://localhost:8080/"
        },
        "id": "6ZT1ux_XN0Xa",
        "outputId": "da70da64-f580-4dee-bfec-5878c0cd8403"
      },
      "outputs": [
        {
          "name": "stdout",
          "output_type": "stream",
          "text": [
            "Model: \"sequential\"\n",
            "_________________________________________________________________\n",
            " Layer (type)                Output Shape              Param #   \n",
            "=================================================================\n",
            " conv2d (Conv2D)             (None, 37, 859, 16)       160       \n",
            "                                                                 \n",
            " max_pooling2d (MaxPooling2D  (None, 18, 429, 16)      0         \n",
            " )                                                               \n",
            "                                                                 \n",
            " conv2d_1 (Conv2D)           (None, 16, 427, 32)       4640      \n",
            "                                                                 \n",
            " max_pooling2d_1 (MaxPooling  (None, 8, 213, 32)       0         \n",
            " 2D)                                                             \n",
            "                                                                 \n",
            " dropout (Dropout)           (None, 8, 213, 32)        0         \n",
            "                                                                 \n",
            " conv2d_2 (Conv2D)           (None, 6, 211, 64)        18496     \n",
            "                                                                 \n",
            " max_pooling2d_2 (MaxPooling  (None, 3, 105, 64)       0         \n",
            " 2D)                                                             \n",
            "                                                                 \n",
            " conv2d_3 (Conv2D)           (None, 1, 103, 128)       73856     \n",
            "                                                                 \n",
            " dropout_1 (Dropout)         (None, 1, 103, 128)       0         \n",
            "                                                                 \n",
            " reshape (Reshape)           (None, 103, 128)          0         \n",
            "                                                                 \n",
            " lstm (LSTM)                 (None, 500)               1258000   \n",
            "                                                                 \n",
            " dense (Dense)               (None, 5)                 2505      \n",
            "                                                                 \n",
            "=================================================================\n",
            "Total params: 1,357,657\n",
            "Trainable params: 1,357,657\n",
            "Non-trainable params: 0\n",
            "_________________________________________________________________\n"
          ]
        }
      ],
      "source": [
        "model3 = Sequential()\n",
        "\n",
        "model3.add(Conv2D(16, kernel_size=(3,3), activation='relu',input_shape = combinedFeatureList.shape[1:]))\n",
        "model3.add(MaxPooling2D(pool_size = (2, 2)))\n",
        "model3.add(Conv2D(32, kernel_size=(3,3), activation='relu'))\n",
        "model3.add(MaxPooling2D(pool_size = (2, 2)))\n",
        "model3.add(Dropout(0.2))\n",
        "model3.add(Conv2D(64, kernel_size=(3,3), activation='relu'))\n",
        "model3.add(MaxPooling2D(pool_size = (2, 2)))\n",
        "model3.add(Conv2D(128,kernel_size=(3,3), activation=\"relu\"))\n",
        "model3.add(Dropout(0.2))\n",
        "model3.add(Reshape(target_shape=(103,128)))\n",
        "model3.add(LSTM(500))\n",
        "model3.add(Dense(encodedOutputLabelList.shape[1], activation = 'softmax'))\n",
        "\n",
        "\n",
        "model3.compile(optimizer='adam', loss='categorical_crossentropy', metrics=['accuracy'])\n",
        "model3.summary()"
      ]
    },
    {
      "cell_type": "code",
      "execution_count": null,
      "metadata": {
        "colab": {
          "base_uri": "https://localhost:8080/"
        },
        "id": "pCxsoq4FEPKD",
        "outputId": "938865e3-f26f-446f-a46d-87ba10ad2412"
      },
      "outputs": [
        {
          "name": "stdout",
          "output_type": "stream",
          "text": [
            "Epoch 1/60\n",
            "7/7 [==============================] - 177s 24s/step - loss: 1.5220 - accuracy: 0.2584 - val_loss: 1.3875 - val_accuracy: 0.2700\n",
            "Epoch 2/60\n",
            "7/7 [==============================] - 164s 23s/step - loss: 1.3950 - accuracy: 0.2622 - val_loss: 1.3750 - val_accuracy: 0.2925\n",
            "Epoch 3/60\n",
            "7/7 [==============================] - 154s 22s/step - loss: 1.3815 - accuracy: 0.2713 - val_loss: 1.3667 - val_accuracy: 0.3013\n",
            "Epoch 4/60\n",
            "7/7 [==============================] - 163s 23s/step - loss: 1.3714 - accuracy: 0.2794 - val_loss: 1.3452 - val_accuracy: 0.3313\n",
            "Epoch 5/60\n",
            "7/7 [==============================] - 161s 23s/step - loss: 1.3490 - accuracy: 0.3166 - val_loss: 1.2642 - val_accuracy: 0.4338\n",
            "Epoch 6/60\n",
            "7/7 [==============================] - 162s 23s/step - loss: 1.2592 - accuracy: 0.4322 - val_loss: 1.2036 - val_accuracy: 0.4450\n",
            "Epoch 7/60\n",
            "7/7 [==============================] - 163s 23s/step - loss: 1.2858 - accuracy: 0.4447 - val_loss: 1.1577 - val_accuracy: 0.5375\n",
            "Epoch 8/60\n",
            "7/7 [==============================] - 160s 23s/step - loss: 1.1613 - accuracy: 0.5141 - val_loss: 1.0702 - val_accuracy: 0.5450\n",
            "Epoch 9/60\n",
            "7/7 [==============================] - 153s 22s/step - loss: 1.0918 - accuracy: 0.5481 - val_loss: 1.1221 - val_accuracy: 0.5063\n",
            "Epoch 10/60\n",
            "7/7 [==============================] - 162s 23s/step - loss: 1.0683 - accuracy: 0.5444 - val_loss: 1.0019 - val_accuracy: 0.5600\n",
            "Epoch 11/60\n",
            "7/7 [==============================] - 152s 22s/step - loss: 1.0143 - accuracy: 0.5841 - val_loss: 0.9577 - val_accuracy: 0.6050\n",
            "Epoch 12/60\n",
            "7/7 [==============================] - 163s 23s/step - loss: 0.9716 - accuracy: 0.6081 - val_loss: 0.9551 - val_accuracy: 0.5900\n",
            "Epoch 13/60\n",
            "7/7 [==============================] - 152s 22s/step - loss: 0.9644 - accuracy: 0.6291 - val_loss: 0.9460 - val_accuracy: 0.6187\n",
            "Epoch 14/60\n",
            "7/7 [==============================] - 163s 23s/step - loss: 0.9462 - accuracy: 0.6144 - val_loss: 0.9464 - val_accuracy: 0.6100\n",
            "Epoch 15/60\n",
            "7/7 [==============================] - 160s 23s/step - loss: 0.9453 - accuracy: 0.6219 - val_loss: 1.0126 - val_accuracy: 0.5775\n",
            "Epoch 16/60\n",
            "7/7 [==============================] - 152s 22s/step - loss: 0.9469 - accuracy: 0.6225 - val_loss: 0.9338 - val_accuracy: 0.6388\n",
            "Epoch 17/60\n",
            "7/7 [==============================] - 153s 22s/step - loss: 0.8710 - accuracy: 0.6562 - val_loss: 0.9102 - val_accuracy: 0.6275\n",
            "Epoch 18/60\n",
            "7/7 [==============================] - 153s 22s/step - loss: 0.8679 - accuracy: 0.6578 - val_loss: 0.8542 - val_accuracy: 0.6575\n",
            "Epoch 19/60\n",
            "7/7 [==============================] - 151s 22s/step - loss: 0.8568 - accuracy: 0.6628 - val_loss: 0.9303 - val_accuracy: 0.6250\n",
            "Epoch 20/60\n",
            "7/7 [==============================] - 162s 23s/step - loss: 0.8738 - accuracy: 0.6463 - val_loss: 0.8768 - val_accuracy: 0.6413\n",
            "Epoch 21/60\n",
            "7/7 [==============================] - 161s 23s/step - loss: 0.8216 - accuracy: 0.6741 - val_loss: 0.8647 - val_accuracy: 0.6400\n",
            "Epoch 22/60\n",
            "7/7 [==============================] - 152s 22s/step - loss: 0.7891 - accuracy: 0.6878 - val_loss: 0.8762 - val_accuracy: 0.6675\n",
            "Epoch 23/60\n",
            "7/7 [==============================] - 163s 23s/step - loss: 0.7815 - accuracy: 0.7000 - val_loss: 0.8208 - val_accuracy: 0.6950\n",
            "Epoch 24/60\n",
            "7/7 [==============================] - 162s 23s/step - loss: 0.7291 - accuracy: 0.7138 - val_loss: 0.7373 - val_accuracy: 0.7063\n",
            "Epoch 25/60\n",
            "7/7 [==============================] - 163s 24s/step - loss: 0.6725 - accuracy: 0.7453 - val_loss: 0.7453 - val_accuracy: 0.7150\n",
            "Epoch 26/60\n",
            "7/7 [==============================] - 163s 23s/step - loss: 0.6286 - accuracy: 0.7606 - val_loss: 0.7072 - val_accuracy: 0.7212\n",
            "Epoch 27/60\n",
            "7/7 [==============================] - 160s 23s/step - loss: 0.6563 - accuracy: 0.7541 - val_loss: 0.6632 - val_accuracy: 0.7375\n",
            "Epoch 28/60\n",
            "7/7 [==============================] - 152s 22s/step - loss: 0.6027 - accuracy: 0.7806 - val_loss: 0.6482 - val_accuracy: 0.7412\n",
            "Epoch 29/60\n",
            "7/7 [==============================] - 154s 22s/step - loss: 0.5605 - accuracy: 0.7950 - val_loss: 0.6592 - val_accuracy: 0.7262\n",
            "Epoch 30/60\n",
            "7/7 [==============================] - 162s 23s/step - loss: 0.5649 - accuracy: 0.7887 - val_loss: 0.5929 - val_accuracy: 0.7675\n",
            "Epoch 31/60\n",
            "7/7 [==============================] - 154s 22s/step - loss: 0.5282 - accuracy: 0.8022 - val_loss: 0.6306 - val_accuracy: 0.7588\n",
            "Epoch 32/60\n",
            "7/7 [==============================] - 163s 24s/step - loss: 0.5397 - accuracy: 0.7919 - val_loss: 0.5743 - val_accuracy: 0.7688\n",
            "Epoch 33/60\n",
            "7/7 [==============================] - 164s 24s/step - loss: 0.5486 - accuracy: 0.7969 - val_loss: 0.5780 - val_accuracy: 0.7700\n",
            "Epoch 34/60\n",
            "7/7 [==============================] - 154s 22s/step - loss: 0.5202 - accuracy: 0.8037 - val_loss: 0.5376 - val_accuracy: 0.7912\n",
            "Epoch 35/60\n",
            "7/7 [==============================] - 161s 23s/step - loss: 0.4463 - accuracy: 0.8344 - val_loss: 0.5725 - val_accuracy: 0.7638\n",
            "Epoch 36/60\n",
            "7/7 [==============================] - 159s 23s/step - loss: 0.4422 - accuracy: 0.8347 - val_loss: 0.4805 - val_accuracy: 0.8225\n",
            "Epoch 37/60\n",
            "7/7 [==============================] - 149s 21s/step - loss: 0.4272 - accuracy: 0.8409 - val_loss: 0.4930 - val_accuracy: 0.8150\n",
            "Epoch 38/60\n",
            "7/7 [==============================] - 149s 21s/step - loss: 0.3980 - accuracy: 0.8562 - val_loss: 0.4723 - val_accuracy: 0.8288\n",
            "Epoch 39/60\n",
            "7/7 [==============================] - 149s 21s/step - loss: 0.3864 - accuracy: 0.8591 - val_loss: 0.5448 - val_accuracy: 0.8150\n",
            "Epoch 40/60\n",
            "7/7 [==============================] - 158s 23s/step - loss: 0.4332 - accuracy: 0.8438 - val_loss: 0.5177 - val_accuracy: 0.8150\n",
            "Epoch 41/60\n",
            "7/7 [==============================] - 158s 23s/step - loss: 0.4383 - accuracy: 0.8441 - val_loss: 0.5256 - val_accuracy: 0.8012\n",
            "Epoch 42/60\n",
            "7/7 [==============================] - 158s 23s/step - loss: 0.4213 - accuracy: 0.8388 - val_loss: 0.4386 - val_accuracy: 0.8350\n",
            "Epoch 43/60\n",
            "7/7 [==============================] - 159s 23s/step - loss: 0.3655 - accuracy: 0.8662 - val_loss: 0.4820 - val_accuracy: 0.8025\n",
            "Epoch 44/60\n",
            "7/7 [==============================] - 149s 21s/step - loss: 0.3412 - accuracy: 0.8756 - val_loss: 0.4488 - val_accuracy: 0.8275\n",
            "Epoch 45/60\n",
            "7/7 [==============================] - 151s 21s/step - loss: 0.3160 - accuracy: 0.8894 - val_loss: 0.4622 - val_accuracy: 0.8388\n",
            "Epoch 46/60\n",
            "7/7 [==============================] - 162s 23s/step - loss: 0.3136 - accuracy: 0.8863 - val_loss: 0.3930 - val_accuracy: 0.8500\n",
            "Epoch 47/60\n",
            "7/7 [==============================] - 151s 21s/step - loss: 0.2727 - accuracy: 0.9041 - val_loss: 0.4437 - val_accuracy: 0.8512\n",
            "Epoch 48/60\n",
            "7/7 [==============================] - 160s 23s/step - loss: 0.2873 - accuracy: 0.8950 - val_loss: 0.4526 - val_accuracy: 0.8550\n",
            "Epoch 49/60\n",
            "7/7 [==============================] - 149s 21s/step - loss: 0.2942 - accuracy: 0.8956 - val_loss: 0.4498 - val_accuracy: 0.8450\n",
            "Epoch 50/60\n",
            "7/7 [==============================] - 149s 21s/step - loss: 0.2766 - accuracy: 0.9025 - val_loss: 0.4407 - val_accuracy: 0.8637\n",
            "Epoch 51/60\n",
            "7/7 [==============================] - 150s 21s/step - loss: 0.2745 - accuracy: 0.9025 - val_loss: 0.4184 - val_accuracy: 0.8550\n",
            "Epoch 52/60\n",
            "7/7 [==============================] - 159s 23s/step - loss: 0.2500 - accuracy: 0.9119 - val_loss: 0.3830 - val_accuracy: 0.8575\n",
            "Epoch 53/60\n",
            "7/7 [==============================] - 149s 21s/step - loss: 0.2259 - accuracy: 0.9191 - val_loss: 0.3984 - val_accuracy: 0.8700\n",
            "Epoch 54/60\n",
            "7/7 [==============================] - 149s 21s/step - loss: 0.2056 - accuracy: 0.9281 - val_loss: 0.3674 - val_accuracy: 0.8763\n",
            "Epoch 55/60\n",
            "7/7 [==============================] - 148s 21s/step - loss: 0.2379 - accuracy: 0.9178 - val_loss: 0.3968 - val_accuracy: 0.8600\n",
            "Epoch 56/60\n",
            "7/7 [==============================] - 148s 21s/step - loss: 0.2177 - accuracy: 0.9228 - val_loss: 0.3990 - val_accuracy: 0.8662\n",
            "Epoch 57/60\n",
            "7/7 [==============================] - 158s 23s/step - loss: 0.1971 - accuracy: 0.9275 - val_loss: 0.3314 - val_accuracy: 0.8925\n",
            "Epoch 58/60\n",
            "7/7 [==============================] - 157s 23s/step - loss: 0.2088 - accuracy: 0.9266 - val_loss: 0.4165 - val_accuracy: 0.8675\n",
            "Epoch 59/60\n",
            "7/7 [==============================] - 157s 23s/step - loss: 0.2128 - accuracy: 0.9275 - val_loss: 0.3965 - val_accuracy: 0.8737\n",
            "Epoch 60/60\n",
            "7/7 [==============================] - 148s 21s/step - loss: 0.1915 - accuracy: 0.9322 - val_loss: 0.4009 - val_accuracy: 0.8737\n"
          ]
        }
      ],
      "source": [
        "history = model3.fit(x_train, y_train, epochs = 60, batch_size = 500, validation_data=(x_test, y_test))"
      ]
    },
    {
      "cell_type": "code",
      "execution_count": null,
      "metadata": {
        "colab": {
          "base_uri": "https://localhost:8080/",
          "height": 282
        },
        "id": "KYp7Lu_LRO7b",
        "outputId": "aa3dd37a-177a-4fbd-9a77-5d3891229f67"
      },
      "outputs": [
        {
          "data": {
            "text/plain": [
              "[<matplotlib.lines.Line2D at 0x7f5749f30580>]"
            ]
          },
          "execution_count": 13,
          "metadata": {},
          "output_type": "execute_result"
        },
        {
          "data": {
            "image/png": "[encoded data removed]",
            "text/plain": [
              "<Figure size 432x288 with 1 Axes>"
            ]
          },
          "metadata": {},
          "output_type": "display_data"
        }
      ],
      "source": [
        "import matplotlib.pyplot as plt\n",
        "plt.plot(history.history['val_accuracy'])"
      ]
    },
    {
      "cell_type": "code",
      "execution_count": null,
      "metadata": {
        "colab": {
          "base_uri": "https://localhost:8080/"
        },
        "id": "PR2t7EKKLfM7",
        "outputId": "01856517-d4ba-41e3-8889-3895ba3645ee"
      },
      "outputs": [
        {
          "name": "stdout",
          "output_type": "stream",
          "text": [
            "Epoch 1/80\n",
            "7/7 [==============================] - 194s 26s/step - loss: 1.5226 - accuracy: 0.2334 - val_loss: 1.4135 - val_accuracy: 0.2488\n",
            "Epoch 2/80\n",
            "7/7 [==============================] - 189s 27s/step - loss: 1.4075 - accuracy: 0.2572 - val_loss: 1.3808 - val_accuracy: 0.2763\n",
            "Epoch 3/80\n",
            "7/7 [==============================] - 182s 26s/step - loss: 1.3975 - accuracy: 0.2659 - val_loss: 1.3916 - val_accuracy: 0.2562\n",
            "Epoch 4/80\n",
            "7/7 [==============================] - 183s 26s/step - loss: 1.3884 - accuracy: 0.2572 - val_loss: 1.3731 - val_accuracy: 0.2937\n",
            "Epoch 5/80\n",
            "7/7 [==============================] - 181s 26s/step - loss: 1.3687 - accuracy: 0.3009 - val_loss: 1.3282 - val_accuracy: 0.3462\n",
            "Epoch 6/80\n",
            "7/7 [==============================] - 178s 26s/step - loss: 1.3213 - accuracy: 0.3694 - val_loss: 1.2627 - val_accuracy: 0.4650\n",
            "Epoch 7/80\n",
            "7/7 [==============================] - 183s 26s/step - loss: 1.2817 - accuracy: 0.3859 - val_loss: 1.2208 - val_accuracy: 0.4313\n",
            "Epoch 8/80\n",
            "7/7 [==============================] - 179s 26s/step - loss: 1.2407 - accuracy: 0.4278 - val_loss: 1.2096 - val_accuracy: 0.5238\n",
            "Epoch 9/80\n",
            "7/7 [==============================] - 176s 25s/step - loss: 1.2144 - accuracy: 0.4869 - val_loss: 1.1777 - val_accuracy: 0.5650\n",
            "Epoch 10/80\n",
            "7/7 [==============================] - 183s 26s/step - loss: 1.1712 - accuracy: 0.5016 - val_loss: 1.1543 - val_accuracy: 0.5138\n",
            "Epoch 11/80\n",
            "7/7 [==============================] - 181s 26s/step - loss: 1.1253 - accuracy: 0.5384 - val_loss: 1.0758 - val_accuracy: 0.5663\n",
            "Epoch 12/80\n",
            "7/7 [==============================] - 177s 25s/step - loss: 1.0521 - accuracy: 0.5872 - val_loss: 1.0533 - val_accuracy: 0.6225\n",
            "Epoch 13/80\n",
            "7/7 [==============================] - 176s 25s/step - loss: 1.0204 - accuracy: 0.6128 - val_loss: 1.0511 - val_accuracy: 0.5975\n",
            "Epoch 14/80\n",
            "7/7 [==============================] - 181s 25s/step - loss: 0.9973 - accuracy: 0.6041 - val_loss: 0.9746 - val_accuracy: 0.6150\n",
            "Epoch 15/80\n",
            "7/7 [==============================] - 177s 25s/step - loss: 0.9564 - accuracy: 0.6194 - val_loss: 0.9686 - val_accuracy: 0.6137\n",
            "Epoch 16/80\n",
            "7/7 [==============================] - 176s 25s/step - loss: 0.9135 - accuracy: 0.6484 - val_loss: 0.9091 - val_accuracy: 0.6475\n",
            "Epoch 17/80\n",
            "7/7 [==============================] - 183s 27s/step - loss: 0.8898 - accuracy: 0.6697 - val_loss: 0.9244 - val_accuracy: 0.6350\n",
            "Epoch 18/80\n",
            "7/7 [==============================] - 178s 26s/step - loss: 0.8515 - accuracy: 0.6672 - val_loss: 0.8837 - val_accuracy: 0.6375\n",
            "Epoch 19/80\n",
            "7/7 [==============================] - 180s 26s/step - loss: 0.8286 - accuracy: 0.6853 - val_loss: 0.9503 - val_accuracy: 0.6050\n",
            "Epoch 20/80\n",
            "7/7 [==============================] - 178s 26s/step - loss: 0.8187 - accuracy: 0.6800 - val_loss: 0.8650 - val_accuracy: 0.6625\n",
            "Epoch 21/80\n",
            "7/7 [==============================] - 178s 25s/step - loss: 0.8083 - accuracy: 0.6875 - val_loss: 0.8774 - val_accuracy: 0.6538\n",
            "Epoch 22/80\n",
            "7/7 [==============================] - 177s 25s/step - loss: 0.7914 - accuracy: 0.6869 - val_loss: 0.8119 - val_accuracy: 0.6875\n",
            "Epoch 23/80\n",
            "7/7 [==============================] - 177s 26s/step - loss: 0.7908 - accuracy: 0.6862 - val_loss: 0.9022 - val_accuracy: 0.6725\n",
            "Epoch 24/80\n",
            "7/7 [==============================] - 181s 26s/step - loss: 0.7835 - accuracy: 0.7072 - val_loss: 0.7634 - val_accuracy: 0.7113\n",
            "Epoch 25/80\n",
            "7/7 [==============================] - 169s 24s/step - loss: 0.7427 - accuracy: 0.7241 - val_loss: 0.8932 - val_accuracy: 0.6375\n",
            "Epoch 26/80\n",
            "7/7 [==============================] - 177s 25s/step - loss: 0.7231 - accuracy: 0.7237 - val_loss: 0.7763 - val_accuracy: 0.6963\n",
            "Epoch 27/80\n",
            "7/7 [==============================] - 183s 27s/step - loss: 0.6735 - accuracy: 0.7500 - val_loss: 0.7689 - val_accuracy: 0.7025\n",
            "Epoch 28/80\n",
            "7/7 [==============================] - 178s 25s/step - loss: 0.6432 - accuracy: 0.7575 - val_loss: 0.7308 - val_accuracy: 0.7287\n",
            "Epoch 29/80\n",
            "7/7 [==============================] - 169s 24s/step - loss: 0.6119 - accuracy: 0.7734 - val_loss: 0.6793 - val_accuracy: 0.7550\n",
            "Epoch 30/80\n",
            "7/7 [==============================] - 176s 25s/step - loss: 0.5971 - accuracy: 0.7741 - val_loss: 0.6418 - val_accuracy: 0.7575\n",
            "Epoch 31/80\n",
            "7/7 [==============================] - 184s 27s/step - loss: 0.5714 - accuracy: 0.7916 - val_loss: 0.6140 - val_accuracy: 0.7663\n",
            "Epoch 32/80\n",
            "7/7 [==============================] - 176s 25s/step - loss: 0.9402 - accuracy: 0.6216 - val_loss: 0.9636 - val_accuracy: 0.6275\n",
            "Epoch 33/80\n",
            "7/7 [==============================] - 177s 25s/step - loss: 0.9672 - accuracy: 0.6172 - val_loss: 0.9047 - val_accuracy: 0.6637\n",
            "Epoch 34/80\n",
            "7/7 [==============================] - 183s 26s/step - loss: 0.8278 - accuracy: 0.6897 - val_loss: 0.7999 - val_accuracy: 0.6837\n",
            "Epoch 35/80\n",
            "7/7 [==============================] - 177s 25s/step - loss: 0.7047 - accuracy: 0.7412 - val_loss: 0.8628 - val_accuracy: 0.6650\n",
            "Epoch 36/80\n",
            "7/7 [==============================] - 177s 26s/step - loss: 0.6970 - accuracy: 0.7347 - val_loss: 0.7407 - val_accuracy: 0.7025\n",
            "Epoch 37/80\n",
            "7/7 [==============================] - 178s 26s/step - loss: 0.6502 - accuracy: 0.7575 - val_loss: 0.7665 - val_accuracy: 0.7113\n",
            "Epoch 38/80\n",
            "7/7 [==============================] - 185s 27s/step - loss: 0.5940 - accuracy: 0.7819 - val_loss: 0.6363 - val_accuracy: 0.7600\n",
            "Epoch 39/80\n",
            "7/7 [==============================] - 176s 26s/step - loss: 0.5884 - accuracy: 0.7831 - val_loss: 0.6966 - val_accuracy: 0.7300\n",
            "Epoch 40/80\n",
            "7/7 [==============================] - 177s 25s/step - loss: 0.5915 - accuracy: 0.7744 - val_loss: 0.6446 - val_accuracy: 0.7538\n",
            "Epoch 41/80\n",
            "7/7 [==============================] - 184s 27s/step - loss: 0.5757 - accuracy: 0.7856 - val_loss: 0.6273 - val_accuracy: 0.7550\n",
            "Epoch 42/80\n",
            "7/7 [==============================] - 179s 26s/step - loss: 0.5586 - accuracy: 0.7959 - val_loss: 0.6049 - val_accuracy: 0.7812\n",
            "Epoch 43/80\n",
            "7/7 [==============================] - 178s 25s/step - loss: 0.5274 - accuracy: 0.8034 - val_loss: 0.5829 - val_accuracy: 0.7962\n",
            "Epoch 44/80\n",
            "7/7 [==============================] - 178s 25s/step - loss: 0.4897 - accuracy: 0.8228 - val_loss: 0.5434 - val_accuracy: 0.7925\n",
            "Epoch 45/80\n",
            "7/7 [==============================] - 182s 25s/step - loss: 0.4768 - accuracy: 0.8219 - val_loss: 0.5261 - val_accuracy: 0.8000\n",
            "Epoch 46/80\n",
            "7/7 [==============================] - 176s 25s/step - loss: 0.4694 - accuracy: 0.8244 - val_loss: 0.5755 - val_accuracy: 0.7937\n",
            "Epoch 47/80\n",
            "7/7 [==============================] - 176s 25s/step - loss: 0.4269 - accuracy: 0.8462 - val_loss: 0.5452 - val_accuracy: 0.7937\n",
            "Epoch 48/80\n",
            "7/7 [==============================] - 184s 27s/step - loss: 0.4068 - accuracy: 0.8509 - val_loss: 0.6402 - val_accuracy: 0.7725\n",
            "Epoch 49/80\n",
            "7/7 [==============================] - 178s 26s/step - loss: 0.4187 - accuracy: 0.8462 - val_loss: 0.5015 - val_accuracy: 0.8175\n",
            "Epoch 50/80\n",
            "7/7 [==============================] - 181s 26s/step - loss: 0.4214 - accuracy: 0.8475 - val_loss: 0.5279 - val_accuracy: 0.8250\n",
            "Epoch 51/80\n",
            "7/7 [==============================] - 183s 26s/step - loss: 0.4169 - accuracy: 0.8484 - val_loss: 0.4759 - val_accuracy: 0.8225\n",
            "Epoch 52/80\n",
            "7/7 [==============================] - 174s 25s/step - loss: 0.4154 - accuracy: 0.8537 - val_loss: 0.5736 - val_accuracy: 0.7800\n",
            "Epoch 53/80\n",
            "7/7 [==============================] - 177s 26s/step - loss: 0.4384 - accuracy: 0.8413 - val_loss: 0.5068 - val_accuracy: 0.8150\n",
            "Epoch 54/80\n",
            "7/7 [==============================] - 179s 26s/step - loss: 0.3701 - accuracy: 0.8637 - val_loss: 0.5237 - val_accuracy: 0.8100\n",
            "Epoch 55/80\n",
            "7/7 [==============================] - 178s 26s/step - loss: 0.3434 - accuracy: 0.8788 - val_loss: 0.4892 - val_accuracy: 0.8138\n",
            "Epoch 56/80\n",
            "7/7 [==============================] - 171s 25s/step - loss: 0.3273 - accuracy: 0.8794 - val_loss: 0.4351 - val_accuracy: 0.8487\n",
            "Epoch 57/80\n",
            "7/7 [==============================] - 177s 25s/step - loss: 0.2966 - accuracy: 0.8931 - val_loss: 0.4491 - val_accuracy: 0.8400\n",
            "Epoch 58/80\n",
            "7/7 [==============================] - 179s 26s/step - loss: 0.2951 - accuracy: 0.8913 - val_loss: 0.4461 - val_accuracy: 0.8338\n",
            "Epoch 59/80\n",
            "7/7 [==============================] - 179s 26s/step - loss: 0.2865 - accuracy: 0.8978 - val_loss: 0.4487 - val_accuracy: 0.8425\n",
            "Epoch 60/80\n",
            "7/7 [==============================] - 182s 26s/step - loss: 0.2779 - accuracy: 0.8994 - val_loss: 0.4120 - val_accuracy: 0.8725\n",
            "Epoch 61/80\n",
            "7/7 [==============================] - 179s 26s/step - loss: 0.2828 - accuracy: 0.9025 - val_loss: 0.4209 - val_accuracy: 0.8537\n",
            "Epoch 62/80\n",
            "7/7 [==============================] - 178s 25s/step - loss: 0.2464 - accuracy: 0.9103 - val_loss: 0.4593 - val_accuracy: 0.8462\n",
            "Epoch 63/80\n",
            "7/7 [==============================] - 178s 26s/step - loss: 0.2780 - accuracy: 0.9044 - val_loss: 0.4064 - val_accuracy: 0.8525\n",
            "Epoch 64/80\n",
            "7/7 [==============================] - 178s 26s/step - loss: 0.2687 - accuracy: 0.9078 - val_loss: 0.4130 - val_accuracy: 0.8550\n",
            "Epoch 65/80\n",
            "7/7 [==============================] - 180s 26s/step - loss: 0.2555 - accuracy: 0.9147 - val_loss: 0.3626 - val_accuracy: 0.8737\n",
            "Epoch 66/80\n",
            "7/7 [==============================] - 170s 24s/step - loss: 0.2425 - accuracy: 0.9156 - val_loss: 0.3799 - val_accuracy: 0.8700\n",
            "Epoch 67/80\n",
            "7/7 [==============================] - 179s 26s/step - loss: 0.2348 - accuracy: 0.9128 - val_loss: 0.3713 - val_accuracy: 0.8700\n",
            "Epoch 68/80\n",
            "7/7 [==============================] - 177s 26s/step - loss: 0.1900 - accuracy: 0.9331 - val_loss: 0.3488 - val_accuracy: 0.8863\n",
            "Epoch 69/80\n",
            "7/7 [==============================] - 172s 25s/step - loss: 0.2060 - accuracy: 0.9244 - val_loss: 0.3330 - val_accuracy: 0.8888\n",
            "Epoch 70/80\n",
            "7/7 [==============================] - 177s 26s/step - loss: 0.1777 - accuracy: 0.9384 - val_loss: 0.4446 - val_accuracy: 0.8512\n",
            "Epoch 71/80\n",
            "7/7 [==============================] - 179s 26s/step - loss: 0.1973 - accuracy: 0.9306 - val_loss: 0.3536 - val_accuracy: 0.8850\n",
            "Epoch 72/80\n",
            "7/7 [==============================] - 179s 26s/step - loss: 0.1648 - accuracy: 0.9425 - val_loss: 0.4229 - val_accuracy: 0.8650\n",
            "Epoch 73/80\n",
            "7/7 [==============================] - 180s 26s/step - loss: 0.1760 - accuracy: 0.9372 - val_loss: 0.3992 - val_accuracy: 0.8800\n",
            "Epoch 74/80\n",
            "7/7 [==============================] - 179s 26s/step - loss: 0.1735 - accuracy: 0.9366 - val_loss: 0.4334 - val_accuracy: 0.8675\n",
            "Epoch 75/80\n",
            "7/7 [==============================] - 181s 26s/step - loss: 0.1711 - accuracy: 0.9403 - val_loss: 0.3503 - val_accuracy: 0.8875\n",
            "Epoch 76/80\n",
            "7/7 [==============================] - 180s 26s/step - loss: 0.1438 - accuracy: 0.9500 - val_loss: 0.3281 - val_accuracy: 0.8913\n",
            "Epoch 77/80\n",
            "7/7 [==============================] - 180s 26s/step - loss: 0.1341 - accuracy: 0.9563 - val_loss: 0.3521 - val_accuracy: 0.8975\n",
            "Epoch 78/80\n",
            "7/7 [==============================] - 178s 25s/step - loss: 0.1158 - accuracy: 0.9638 - val_loss: 0.4201 - val_accuracy: 0.8900\n",
            "Epoch 79/80\n",
            "7/7 [==============================] - 179s 25s/step - loss: 0.1598 - accuracy: 0.9497 - val_loss: 0.3557 - val_accuracy: 0.8875\n",
            "Epoch 80/80\n",
            "7/7 [==============================] - 177s 25s/step - loss: 0.1500 - accuracy: 0.9444 - val_loss: 0.3486 - val_accuracy: 0.8925\n"
          ]
        }
      ],
      "source": [
        "history = model3.fit(x_train, y_train, epochs = 80, batch_size = 500, validation_data=(x_test, y_test))"
      ]
    },
    {
      "cell_type": "code",
      "execution_count": null,
      "metadata": {
        "colab": {
          "base_uri": "https://localhost:8080/",
          "height": 282
        },
        "id": "QJ1uoPY8QPhs",
        "outputId": "4c85c621-e263-4a1b-9d14-2a24c164e92b"
      },
      "outputs": [
        {
          "data": {
            "text/plain": [
              "[<matplotlib.lines.Line2D at 0x7f5d920321c0>]"
            ]
          },
          "execution_count": 12,
          "metadata": {},
          "output_type": "execute_result"
        },
        {
          "data": {
            "image/png": "[encoded data removed]",
            "text/plain": [
              "<Figure size 432x288 with 1 Axes>"
            ]
          },
          "metadata": {},
          "output_type": "display_data"
        }
      ],
      "source": [
        "import matplotlib.pyplot as plt\n",
        "plt.plot(history.history['val_accuracy'])"
      ]
    },
    {
      "cell_type": "code",
      "execution_count": null,
      "metadata": {
        "colab": {
          "base_uri": "https://localhost:8080/",
          "height": 467
        },
        "id": "Mq90vOS57Cjp",
        "outputId": "6baf19c0-6d0d-44b1-f3e0-41f1e8293294"
      },
      "outputs": [
        {
          "ename": "ValueError",
          "evalue": "ignored",
          "output_type": "error",
          "traceback": [
            "\u001b[0;31m---------------------------------------------------------------------------\u001b[0m",
            "\u001b[0;31mValueError\u001b[0m                                Traceback (most recent call last)",
            "\u001b[0;32m<ipython-input-10-713432aa28e5>\u001b[0m in \u001b[0;36m<module>\u001b[0;34m\u001b[0m\n\u001b[1;32m     11\u001b[0m \u001b[0mmodel4\u001b[0m\u001b[0;34m.\u001b[0m\u001b[0madd\u001b[0m\u001b[0;34m(\u001b[0m\u001b[0mConv2D\u001b[0m\u001b[0;34m(\u001b[0m\u001b[0;36m128\u001b[0m\u001b[0;34m,\u001b[0m\u001b[0mkernel_size\u001b[0m\u001b[0;34m=\u001b[0m\u001b[0;34m(\u001b[0m\u001b[0;36m3\u001b[0m\u001b[0;34m,\u001b[0m\u001b[0;36m3\u001b[0m\u001b[0;34m)\u001b[0m\u001b[0;34m,\u001b[0m \u001b[0mactivation\u001b[0m\u001b[0;34m=\u001b[0m\u001b[0;34m\"relu\"\u001b[0m\u001b[0;34m)\u001b[0m\u001b[0;34m)\u001b[0m\u001b[0;34m\u001b[0m\u001b[0;34m\u001b[0m\u001b[0m\n\u001b[1;32m     12\u001b[0m \u001b[0mmodel4\u001b[0m\u001b[0;34m.\u001b[0m\u001b[0madd\u001b[0m\u001b[0;34m(\u001b[0m\u001b[0mDropout\u001b[0m\u001b[0;34m(\u001b[0m\u001b[0;36m0.2\u001b[0m\u001b[0;34m)\u001b[0m\u001b[0;34m)\u001b[0m\u001b[0;34m\u001b[0m\u001b[0;34m\u001b[0m\u001b[0m\n\u001b[0;32m---> 13\u001b[0;31m \u001b[0mmodel4\u001b[0m\u001b[0;34m.\u001b[0m\u001b[0madd\u001b[0m\u001b[0;34m(\u001b[0m\u001b[0mReshape\u001b[0m\u001b[0;34m(\u001b[0m\u001b[0mtarget_shape\u001b[0m\u001b[0;34m=\u001b[0m\u001b[0;34m(\u001b[0m\u001b[0;36m103\u001b[0m\u001b[0;34m,\u001b[0m\u001b[0;36m128\u001b[0m\u001b[0;34m)\u001b[0m\u001b[0;34m)\u001b[0m\u001b[0;34m)\u001b[0m\u001b[0;34m\u001b[0m\u001b[0;34m\u001b[0m\u001b[0m\n\u001b[0m\u001b[1;32m     14\u001b[0m \u001b[0mmodel4\u001b[0m\u001b[0;34m.\u001b[0m\u001b[0madd\u001b[0m\u001b[0;34m(\u001b[0m\u001b[0mLSTM\u001b[0m\u001b[0;34m(\u001b[0m\u001b[0;36m500\u001b[0m\u001b[0;34m)\u001b[0m\u001b[0;34m)\u001b[0m\u001b[0;34m\u001b[0m\u001b[0;34m\u001b[0m\u001b[0m\n\u001b[1;32m     15\u001b[0m \u001b[0mmodel4\u001b[0m\u001b[0;34m.\u001b[0m\u001b[0madd\u001b[0m\u001b[0;34m(\u001b[0m\u001b[0mReshape\u001b[0m\u001b[0;34m(\u001b[0m\u001b[0mtarget_shape\u001b[0m\u001b[0;34m=\u001b[0m\u001b[0;34m(\u001b[0m\u001b[0;36m500\u001b[0m\u001b[0;34m,\u001b[0m\u001b[0;36m1\u001b[0m\u001b[0;34m)\u001b[0m\u001b[0;34m)\u001b[0m\u001b[0;34m)\u001b[0m\u001b[0;34m\u001b[0m\u001b[0;34m\u001b[0m\u001b[0m\n",
            "\u001b[0;32m/usr/local/lib/python3.9/dist-packages/tensorflow/python/trackable/base.py\u001b[0m in \u001b[0;36m_method_wrapper\u001b[0;34m(self, *args, **kwargs)\u001b[0m\n\u001b[1;32m    203\u001b[0m     \u001b[0mself\u001b[0m\u001b[0;34m.\u001b[0m\u001b[0m_self_setattr_tracking\u001b[0m \u001b[0;34m=\u001b[0m \u001b[0;32mFalse\u001b[0m  \u001b[0;31m# pylint: disable=protected-access\u001b[0m\u001b[0;34m\u001b[0m\u001b[0;34m\u001b[0m\u001b[0m\n\u001b[1;32m    204\u001b[0m     \u001b[0;32mtry\u001b[0m\u001b[0;34m:\u001b[0m\u001b[0;34m\u001b[0m\u001b[0;34m\u001b[0m\u001b[0m\n\u001b[0;32m--> 205\u001b[0;31m       \u001b[0mresult\u001b[0m \u001b[0;34m=\u001b[0m \u001b[0mmethod\u001b[0m\u001b[0;34m(\u001b[0m\u001b[0mself\u001b[0m\u001b[0;34m,\u001b[0m \u001b[0;34m*\u001b[0m\u001b[0margs\u001b[0m\u001b[0;34m,\u001b[0m \u001b[0;34m**\u001b[0m\u001b[0mkwargs\u001b[0m\u001b[0;34m)\u001b[0m\u001b[0;34m\u001b[0m\u001b[0;34m\u001b[0m\u001b[0m\n\u001b[0m\u001b[1;32m    206\u001b[0m     \u001b[0;32mfinally\u001b[0m\u001b[0;34m:\u001b[0m\u001b[0;34m\u001b[0m\u001b[0;34m\u001b[0m\u001b[0m\n\u001b[1;32m    207\u001b[0m       \u001b[0mself\u001b[0m\u001b[0;34m.\u001b[0m\u001b[0m_self_setattr_tracking\u001b[0m \u001b[0;34m=\u001b[0m \u001b[0mprevious_value\u001b[0m  \u001b[0;31m# pylint: disable=protected-access\u001b[0m\u001b[0;34m\u001b[0m\u001b[0;34m\u001b[0m\u001b[0m\n",
            "\u001b[0;32m/usr/local/lib/python3.9/dist-packages/keras/utils/traceback_utils.py\u001b[0m in \u001b[0;36merror_handler\u001b[0;34m(*args, **kwargs)\u001b[0m\n\u001b[1;32m     68\u001b[0m             \u001b[0;31m# To get the full stack trace, call:\u001b[0m\u001b[0;34m\u001b[0m\u001b[0;34m\u001b[0m\u001b[0m\n\u001b[1;32m     69\u001b[0m             \u001b[0;31m# `tf.debugging.disable_traceback_filtering()`\u001b[0m\u001b[0;34m\u001b[0m\u001b[0;34m\u001b[0m\u001b[0m\n\u001b[0;32m---> 70\u001b[0;31m             \u001b[0;32mraise\u001b[0m \u001b[0me\u001b[0m\u001b[0;34m.\u001b[0m\u001b[0mwith_traceback\u001b[0m\u001b[0;34m(\u001b[0m\u001b[0mfiltered_tb\u001b[0m\u001b[0;34m)\u001b[0m \u001b[0;32mfrom\u001b[0m \u001b[0;32mNone\u001b[0m\u001b[0;34m\u001b[0m\u001b[0;34m\u001b[0m\u001b[0m\n\u001b[0m\u001b[1;32m     71\u001b[0m         \u001b[0;32mfinally\u001b[0m\u001b[0;34m:\u001b[0m\u001b[0;34m\u001b[0m\u001b[0;34m\u001b[0m\u001b[0m\n\u001b[1;32m     72\u001b[0m             \u001b[0;32mdel\u001b[0m \u001b[0mfiltered_tb\u001b[0m\u001b[0;34m\u001b[0m\u001b[0;34m\u001b[0m\u001b[0m\n",
            "\u001b[0;32m/usr/local/lib/python3.9/dist-packages/keras/layers/reshaping/reshape.py\u001b[0m in \u001b[0;36m_fix_unknown_dimension\u001b[0;34m(self, input_shape, output_shape)\u001b[0m\n\u001b[1;32m    116\u001b[0m             \u001b[0moutput_shape\u001b[0m\u001b[0;34m[\u001b[0m\u001b[0munknown\u001b[0m\u001b[0;34m]\u001b[0m \u001b[0;34m=\u001b[0m \u001b[0moriginal\u001b[0m \u001b[0;34m//\u001b[0m \u001b[0mknown\u001b[0m\u001b[0;34m\u001b[0m\u001b[0;34m\u001b[0m\u001b[0m\n\u001b[1;32m    117\u001b[0m         \u001b[0;32melif\u001b[0m \u001b[0moriginal\u001b[0m \u001b[0;34m!=\u001b[0m \u001b[0mknown\u001b[0m\u001b[0;34m:\u001b[0m\u001b[0;34m\u001b[0m\u001b[0;34m\u001b[0m\u001b[0m\n\u001b[0;32m--> 118\u001b[0;31m             \u001b[0;32mraise\u001b[0m \u001b[0mValueError\u001b[0m\u001b[0;34m(\u001b[0m\u001b[0mmsg\u001b[0m\u001b[0;34m)\u001b[0m\u001b[0;34m\u001b[0m\u001b[0;34m\u001b[0m\u001b[0m\n\u001b[0m\u001b[1;32m    119\u001b[0m         \u001b[0;32mreturn\u001b[0m \u001b[0moutput_shape\u001b[0m\u001b[0;34m\u001b[0m\u001b[0;34m\u001b[0m\u001b[0m\n\u001b[1;32m    120\u001b[0m \u001b[0;34m\u001b[0m\u001b[0m\n",
            "\u001b[0;31mValueError\u001b[0m: Exception encountered when calling layer \"reshape\" (type Reshape).\n\ntotal size of new array must be unchanged, input_shape = [12, 103, 128], output_shape = [103, 128]\n\nCall arguments received by layer \"reshape\" (type Reshape):\n  • inputs=tf.Tensor(shape=(None, 12, 103, 128), dtype=float32)"
          ]
        }
      ],
      "source": [
        "model4 = Sequential()\n",
        "\n",
        "model4.add(Conv2D(16, kernel_size=(3,3), activation='relu',input_shape = combinedFeatureList.shape[1:]))\n",
        "model4.add(MaxPooling2D(pool_size = (2, 2)))\n",
        "model4.add(Dropout(0.2))\n",
        "model4.add(Conv2D(32, kernel_size=(3,3), activation='relu'))\n",
        "model4.add(MaxPooling2D(pool_size = (2, 2)))\n",
        "model4.add(Dropout(0.2))\n",
        "model4.add(Conv2D(64, kernel_size=(3,3), activation='relu'))\n",
        "model4.add(MaxPooling2D(pool_size = (2, 2)))\n",
        "model4.add(Conv2D(128,kernel_size=(3,3), activation=\"relu\"))\n",
        "model4.add(Dropout(0.2))\n",
        "model4.add(Reshape(target_shape=(103,128)))\n",
        "model4.add(LSTM(500))\n",
        "model4.add(Reshape(target_shape=(500,1)))\n",
        "model4.add(LSTM(300))\n",
        "model4.add(Dense(encodedOutputLabelList.shape[1], activation = 'softmax'))\n",
        "\n",
        "\n",
        "model4.compile(optimizer='adam', loss='categorical_crossentropy', metrics=['accuracy'])\n",
        "model4.summary()"
      ]
    },
    {
      "cell_type": "code",
      "execution_count": null,
      "metadata": {
        "colab": {
          "base_uri": "https://localhost:8080/",
          "height": 467
        },
        "id": "PrmiTPS5VIJx",
        "outputId": "e259c6f7-478f-471a-b6c5-b75489b09a63"
      },
      "outputs": [
        {
          "ename": "ValueError",
          "evalue": "ignored",
          "output_type": "error",
          "traceback": [
            "\u001b[0;31m---------------------------------------------------------------------------\u001b[0m",
            "\u001b[0;31mValueError\u001b[0m                                Traceback (most recent call last)",
            "\u001b[0;32m<ipython-input-11-713432aa28e5>\u001b[0m in \u001b[0;36m<module>\u001b[0;34m\u001b[0m\n\u001b[1;32m     11\u001b[0m \u001b[0mmodel4\u001b[0m\u001b[0;34m.\u001b[0m\u001b[0madd\u001b[0m\u001b[0;34m(\u001b[0m\u001b[0mConv2D\u001b[0m\u001b[0;34m(\u001b[0m\u001b[0;36m128\u001b[0m\u001b[0;34m,\u001b[0m\u001b[0mkernel_size\u001b[0m\u001b[0;34m=\u001b[0m\u001b[0;34m(\u001b[0m\u001b[0;36m3\u001b[0m\u001b[0;34m,\u001b[0m\u001b[0;36m3\u001b[0m\u001b[0;34m)\u001b[0m\u001b[0;34m,\u001b[0m \u001b[0mactivation\u001b[0m\u001b[0;34m=\u001b[0m\u001b[0;34m\"relu\"\u001b[0m\u001b[0;34m)\u001b[0m\u001b[0;34m)\u001b[0m\u001b[0;34m\u001b[0m\u001b[0;34m\u001b[0m\u001b[0m\n\u001b[1;32m     12\u001b[0m \u001b[0mmodel4\u001b[0m\u001b[0;34m.\u001b[0m\u001b[0madd\u001b[0m\u001b[0;34m(\u001b[0m\u001b[0mDropout\u001b[0m\u001b[0;34m(\u001b[0m\u001b[0;36m0.2\u001b[0m\u001b[0;34m)\u001b[0m\u001b[0;34m)\u001b[0m\u001b[0;34m\u001b[0m\u001b[0;34m\u001b[0m\u001b[0m\n\u001b[0;32m---> 13\u001b[0;31m \u001b[0mmodel4\u001b[0m\u001b[0;34m.\u001b[0m\u001b[0madd\u001b[0m\u001b[0;34m(\u001b[0m\u001b[0mReshape\u001b[0m\u001b[0;34m(\u001b[0m\u001b[0mtarget_shape\u001b[0m\u001b[0;34m=\u001b[0m\u001b[0;34m(\u001b[0m\u001b[0;36m103\u001b[0m\u001b[0;34m,\u001b[0m\u001b[0;36m128\u001b[0m\u001b[0;34m)\u001b[0m\u001b[0;34m)\u001b[0m\u001b[0;34m)\u001b[0m\u001b[0;34m\u001b[0m\u001b[0;34m\u001b[0m\u001b[0m\n\u001b[0m\u001b[1;32m     14\u001b[0m \u001b[0mmodel4\u001b[0m\u001b[0;34m.\u001b[0m\u001b[0madd\u001b[0m\u001b[0;34m(\u001b[0m\u001b[0mLSTM\u001b[0m\u001b[0;34m(\u001b[0m\u001b[0;36m500\u001b[0m\u001b[0;34m)\u001b[0m\u001b[0;34m)\u001b[0m\u001b[0;34m\u001b[0m\u001b[0;34m\u001b[0m\u001b[0m\n\u001b[1;32m     15\u001b[0m \u001b[0mmodel4\u001b[0m\u001b[0;34m.\u001b[0m\u001b[0madd\u001b[0m\u001b[0;34m(\u001b[0m\u001b[0mReshape\u001b[0m\u001b[0;34m(\u001b[0m\u001b[0mtarget_shape\u001b[0m\u001b[0;34m=\u001b[0m\u001b[0;34m(\u001b[0m\u001b[0;36m500\u001b[0m\u001b[0;34m,\u001b[0m\u001b[0;36m1\u001b[0m\u001b[0;34m)\u001b[0m\u001b[0;34m)\u001b[0m\u001b[0;34m)\u001b[0m\u001b[0;34m\u001b[0m\u001b[0;34m\u001b[0m\u001b[0m\n",
            "\u001b[0;32m/usr/local/lib/python3.9/dist-packages/tensorflow/python/trackable/base.py\u001b[0m in \u001b[0;36m_method_wrapper\u001b[0;34m(self, *args, **kwargs)\u001b[0m\n\u001b[1;32m    203\u001b[0m     \u001b[0mself\u001b[0m\u001b[0;34m.\u001b[0m\u001b[0m_self_setattr_tracking\u001b[0m \u001b[0;34m=\u001b[0m \u001b[0;32mFalse\u001b[0m  \u001b[0;31m# pylint: disable=protected-access\u001b[0m\u001b[0;34m\u001b[0m\u001b[0;34m\u001b[0m\u001b[0m\n\u001b[1;32m    204\u001b[0m     \u001b[0;32mtry\u001b[0m\u001b[0;34m:\u001b[0m\u001b[0;34m\u001b[0m\u001b[0;34m\u001b[0m\u001b[0m\n\u001b[0;32m--> 205\u001b[0;31m       \u001b[0mresult\u001b[0m \u001b[0;34m=\u001b[0m \u001b[0mmethod\u001b[0m\u001b[0;34m(\u001b[0m\u001b[0mself\u001b[0m\u001b[0;34m,\u001b[0m \u001b[0;34m*\u001b[0m\u001b[0margs\u001b[0m\u001b[0;34m,\u001b[0m \u001b[0;34m**\u001b[0m\u001b[0mkwargs\u001b[0m\u001b[0;34m)\u001b[0m\u001b[0;34m\u001b[0m\u001b[0;34m\u001b[0m\u001b[0m\n\u001b[0m\u001b[1;32m    206\u001b[0m     \u001b[0;32mfinally\u001b[0m\u001b[0;34m:\u001b[0m\u001b[0;34m\u001b[0m\u001b[0;34m\u001b[0m\u001b[0m\n\u001b[1;32m    207\u001b[0m       \u001b[0mself\u001b[0m\u001b[0;34m.\u001b[0m\u001b[0m_self_setattr_tracking\u001b[0m \u001b[0;34m=\u001b[0m \u001b[0mprevious_value\u001b[0m  \u001b[0;31m# pylint: disable=protected-access\u001b[0m\u001b[0;34m\u001b[0m\u001b[0;34m\u001b[0m\u001b[0m\n",
            "\u001b[0;32m/usr/local/lib/python3.9/dist-packages/keras/utils/traceback_utils.py\u001b[0m in \u001b[0;36merror_handler\u001b[0;34m(*args, **kwargs)\u001b[0m\n\u001b[1;32m     68\u001b[0m             \u001b[0;31m# To get the full stack trace, call:\u001b[0m\u001b[0;34m\u001b[0m\u001b[0;34m\u001b[0m\u001b[0m\n\u001b[1;32m     69\u001b[0m             \u001b[0;31m# `tf.debugging.disable_traceback_filtering()`\u001b[0m\u001b[0;34m\u001b[0m\u001b[0;34m\u001b[0m\u001b[0m\n\u001b[0;32m---> 70\u001b[0;31m             \u001b[0;32mraise\u001b[0m \u001b[0me\u001b[0m\u001b[0;34m.\u001b[0m\u001b[0mwith_traceback\u001b[0m\u001b[0;34m(\u001b[0m\u001b[0mfiltered_tb\u001b[0m\u001b[0;34m)\u001b[0m \u001b[0;32mfrom\u001b[0m \u001b[0;32mNone\u001b[0m\u001b[0;34m\u001b[0m\u001b[0;34m\u001b[0m\u001b[0m\n\u001b[0m\u001b[1;32m     71\u001b[0m         \u001b[0;32mfinally\u001b[0m\u001b[0;34m:\u001b[0m\u001b[0;34m\u001b[0m\u001b[0;34m\u001b[0m\u001b[0m\n\u001b[1;32m     72\u001b[0m             \u001b[0;32mdel\u001b[0m \u001b[0mfiltered_tb\u001b[0m\u001b[0;34m\u001b[0m\u001b[0;34m\u001b[0m\u001b[0m\n",
            "\u001b[0;32m/usr/local/lib/python3.9/dist-packages/keras/layers/reshaping/reshape.py\u001b[0m in \u001b[0;36m_fix_unknown_dimension\u001b[0;34m(self, input_shape, output_shape)\u001b[0m\n\u001b[1;32m    116\u001b[0m             \u001b[0moutput_shape\u001b[0m\u001b[0;34m[\u001b[0m\u001b[0munknown\u001b[0m\u001b[0;34m]\u001b[0m \u001b[0;34m=\u001b[0m \u001b[0moriginal\u001b[0m \u001b[0;34m//\u001b[0m \u001b[0mknown\u001b[0m\u001b[0;34m\u001b[0m\u001b[0;34m\u001b[0m\u001b[0m\n\u001b[1;32m    117\u001b[0m         \u001b[0;32melif\u001b[0m \u001b[0moriginal\u001b[0m \u001b[0;34m!=\u001b[0m \u001b[0mknown\u001b[0m\u001b[0;34m:\u001b[0m\u001b[0;34m\u001b[0m\u001b[0;34m\u001b[0m\u001b[0m\n\u001b[0;32m--> 118\u001b[0;31m             \u001b[0;32mraise\u001b[0m \u001b[0mValueError\u001b[0m\u001b[0;34m(\u001b[0m\u001b[0mmsg\u001b[0m\u001b[0;34m)\u001b[0m\u001b[0;34m\u001b[0m\u001b[0;34m\u001b[0m\u001b[0m\n\u001b[0m\u001b[1;32m    119\u001b[0m         \u001b[0;32mreturn\u001b[0m \u001b[0moutput_shape\u001b[0m\u001b[0;34m\u001b[0m\u001b[0;34m\u001b[0m\u001b[0m\n\u001b[1;32m    120\u001b[0m \u001b[0;34m\u001b[0m\u001b[0m\n",
            "\u001b[0;31mValueError\u001b[0m: Exception encountered when calling layer \"reshape_1\" (type Reshape).\n\ntotal size of new array must be unchanged, input_shape = [12, 103, 128], output_shape = [103, 128]\n\nCall arguments received by layer \"reshape_1\" (type Reshape):\n  • inputs=tf.Tensor(shape=(None, 12, 103, 128), dtype=float32)"
          ]
        }
      ],
      "source": [
        "model4 = Sequential()\n",
        "\n",
        "model4.add(Conv2D(16, kernel_size=(3,3), activation='relu',input_shape = combinedFeatureList.shape[1:]))\n",
        "model4.add(MaxPooling2D(pool_size = (2, 2)))\n",
        "model4.add(Dropout(0.2))\n",
        "model4.add(Conv2D(32, kernel_size=(3,3), activation='relu'))\n",
        "model4.add(MaxPooling2D(pool_size = (2, 2)))\n",
        "model4.add(Dropout(0.2))\n",
        "model4.add(Conv2D(64, kernel_size=(3,3), activation='relu'))\n",
        "model4.add(MaxPooling2D(pool_size = (2, 2)))\n",
        "model4.add(Conv2D(128,kernel_size=(3,3), activation=\"relu\"))\n",
        "model4.add(Dropout(0.2))\n",
        "model4.add(Reshape(target_shape=(103,128)))\n",
        "model4.add(LSTM(500))\n",
        "model4.add(Reshape(target_shape=(500,1)))\n",
        "model4.add(LSTM(300))\n",
        "model4.add(Dense(encodedOutputLabelList.shape[1], activation = 'softmax'))\n",
        "\n",
        "\n",
        "model4.compile(optimizer='adam', loss='categorical_crossentropy', metrics=['accuracy'])\n",
        "model4.summary()"
      ]
    },
    {
      "cell_type": "code",
      "execution_count": null,
      "metadata": {
        "colab": {
          "base_uri": "https://localhost:8080/",
          "height": 282
        },
        "id": "Fjc8gcWEWIqu",
        "outputId": "6ae48798-db36-4ddd-eb60-a10b950d696f"
      },
      "outputs": [
        {
          "data": {
            "text/plain": [
              "[<matplotlib.lines.Line2D at 0x7f3a11f4c400>]"
            ]
          },
          "execution_count": 14,
          "metadata": {},
          "output_type": "execute_result"
        },
        {
          "data": {
            "image/png": "[encoded data removed]",
            "text/plain": [
              "<Figure size 432x288 with 1 Axes>"
            ]
          },
          "metadata": {},
          "output_type": "display_data"
        }
      ],
      "source": [
        "import matplotlib.pyplot as plt\n",
        "plt.plot(history.history['val_accuracy'])"
      ]
    },
    {
      "cell_type": "code",
      "execution_count": null,
      "metadata": {
        "colab": {
          "base_uri": "https://localhost:8080/"
        },
        "id": "Wp7yY3xiaYDl",
        "outputId": "78ed286f-a19e-4532-ab84-82a07ffb5a83"
      },
      "outputs": [
        {
          "name": "stdout",
          "output_type": "stream",
          "text": [
            "Model: \"sequential\"\n",
            "_________________________________________________________________\n",
            " Layer (type)                Output Shape              Param #   \n",
            "=================================================================\n",
            " conv2d (Conv2D)             (None, 126, 859, 16)      160       \n",
            "                                                                 \n",
            " max_pooling2d (MaxPooling2D  (None, 63, 429, 16)      0         \n",
            " )                                                               \n",
            "                                                                 \n",
            " dropout (Dropout)           (None, 63, 429, 16)       0         \n",
            "                                                                 \n",
            " conv2d_1 (Conv2D)           (None, 61, 427, 16)       2320      \n",
            "                                                                 \n",
            " max_pooling2d_1 (MaxPooling  (None, 30, 213, 16)      0         \n",
            " 2D)                                                             \n",
            "                                                                 \n",
            " dropout_1 (Dropout)         (None, 30, 213, 16)       0         \n",
            "                                                                 \n",
            " conv2d_2 (Conv2D)           (None, 28, 211, 32)       4640      \n",
            "                                                                 \n",
            " max_pooling2d_2 (MaxPooling  (None, 14, 105, 32)      0         \n",
            " 2D)                                                             \n",
            "                                                                 \n",
            " conv2d_3 (Conv2D)           (None, 12, 103, 32)       9248      \n",
            "                                                                 \n",
            " dropout_2 (Dropout)         (None, 12, 103, 32)       0         \n",
            "                                                                 \n",
            " conv2d_4 (Conv2D)           (None, 10, 101, 64)       18496     \n",
            "                                                                 \n",
            " max_pooling2d_3 (MaxPooling  (None, 5, 50, 64)        0         \n",
            " 2D)                                                             \n",
            "                                                                 \n",
            " dropout_3 (Dropout)         (None, 5, 50, 64)         0         \n",
            "                                                                 \n",
            " conv2d_5 (Conv2D)           (None, 3, 48, 64)         36928     \n",
            "                                                                 \n",
            " max_pooling2d_4 (MaxPooling  (None, 1, 24, 64)        0         \n",
            " 2D)                                                             \n",
            "                                                                 \n",
            " dropout_4 (Dropout)         (None, 1, 24, 64)         0         \n",
            "                                                                 \n",
            " reshape (Reshape)           (None, 24, 64)            0         \n",
            "                                                                 \n",
            " lstm (LSTM)                 (None, 24, 500)           1130000   \n",
            "                                                                 \n",
            " lstm_1 (LSTM)               (None, 300)               961200    \n",
            "                                                                 \n",
            " dense (Dense)               (None, 5)                 1505      \n",
            "                                                                 \n",
            "=================================================================\n",
            "Total params: 2,164,497\n",
            "Trainable params: 2,164,497\n",
            "Non-trainable params: 0\n",
            "_________________________________________________________________\n"
          ]
        }
      ],
      "source": [
        "model4 = Sequential()\n",
        "\n",
        "model4.add(Conv2D(16, kernel_size=(3,3), activation='relu',input_shape = combinedFeatureList.shape[1:]))\n",
        "model4.add(MaxPooling2D(pool_size = (2, 2)))\n",
        "model4.add(Dropout(0.2))\n",
        "model4.add(Conv2D(16, kernel_size=(3,3), activation='relu'))\n",
        "model4.add(MaxPooling2D(pool_size = (2, 2)))\n",
        "model4.add(Dropout(0.2))\n",
        "model4.add(Conv2D(32, kernel_size=(3,3), activation='relu'))\n",
        "model4.add(MaxPooling2D(pool_size = (2, 2)))\n",
        "model4.add(Conv2D(32,kernel_size=(3,3), activation=\"relu\"))\n",
        "model4.add(Dropout(0.2))\n",
        "model4.add(Conv2D(64,kernel_size=(3,3),activation=\"relu\"))\n",
        "model4.add(MaxPooling2D(pool_size=(2,2)))\n",
        "model4.add(Dropout(0.2))\n",
        "model4.add(Conv2D(64,kernel_size=(3,3),activation=\"relu\"))\n",
        "model4.add(MaxPooling2D(pool_size=(2,2)))\n",
        "model4.add(Dropout(0.2))\n",
        "\n",
        "model4.add(Reshape(target_shape=(24,64)))\n",
        "model4.add(LSTM(units=500,return_sequences=True))\n",
        "\n",
        "model4.add(LSTM(units=300))\n",
        "model4.add(Dense(encodedOutputLabelList.shape[1], activation = 'softmax'))\n",
        "\n",
        "\n",
        "model4.compile(optimizer='adam', loss='categorical_crossentropy', metrics=['accuracy'])\n",
        "model4.summary()"
      ]
    },
    {
      "cell_type": "code",
      "execution_count": null,
      "metadata": {
        "colab": {
          "base_uri": "https://localhost:8080/"
        },
        "id": "yOEuXf1nE862",
        "outputId": "1380335f-7c27-4fec-c58b-0659592fd20b"
      },
      "outputs": [
        {
          "name": "stdout",
          "output_type": "stream",
          "text": [
            "Epoch 1/80\n",
            "7/7 [==============================] - 37s 2s/step - loss: 1.4570 - accuracy: 0.3225 - val_loss: 1.3438 - val_accuracy: 0.3988\n",
            "Epoch 2/80\n",
            "7/7 [==============================] - 7s 1s/step - loss: 1.3061 - accuracy: 0.3869 - val_loss: 1.2333 - val_accuracy: 0.4025\n",
            "Epoch 3/80\n",
            "7/7 [==============================] - 7s 1s/step - loss: 1.2091 - accuracy: 0.4519 - val_loss: 1.1828 - val_accuracy: 0.5263\n",
            "Epoch 4/80\n",
            "7/7 [==============================] - 7s 983ms/step - loss: 1.1184 - accuracy: 0.5572 - val_loss: 1.1064 - val_accuracy: 0.5550\n",
            "Epoch 5/80\n",
            "7/7 [==============================] - 7s 1s/step - loss: 1.0600 - accuracy: 0.5603 - val_loss: 1.0635 - val_accuracy: 0.5838\n",
            "Epoch 6/80\n",
            "7/7 [==============================] - 7s 1s/step - loss: 1.0064 - accuracy: 0.5922 - val_loss: 1.0952 - val_accuracy: 0.5487\n",
            "Epoch 7/80\n",
            "7/7 [==============================] - 7s 1s/step - loss: 1.0084 - accuracy: 0.5875 - val_loss: 1.0667 - val_accuracy: 0.5863\n",
            "Epoch 8/80\n",
            "7/7 [==============================] - 7s 1s/step - loss: 0.9592 - accuracy: 0.6056 - val_loss: 1.0355 - val_accuracy: 0.5688\n",
            "Epoch 9/80\n",
            "7/7 [==============================] - 7s 1s/step - loss: 0.9173 - accuracy: 0.6284 - val_loss: 1.1150 - val_accuracy: 0.5587\n",
            "Epoch 10/80\n",
            "7/7 [==============================] - 7s 1s/step - loss: 0.8910 - accuracy: 0.6456 - val_loss: 0.9948 - val_accuracy: 0.5975\n",
            "Epoch 11/80\n",
            "7/7 [==============================] - 7s 1s/step - loss: 0.8726 - accuracy: 0.6550 - val_loss: 0.9937 - val_accuracy: 0.5950\n",
            "Epoch 12/80\n",
            "7/7 [==============================] - 7s 994ms/step - loss: 0.8358 - accuracy: 0.6687 - val_loss: 0.8978 - val_accuracy: 0.6200\n",
            "Epoch 13/80\n",
            "7/7 [==============================] - 7s 1s/step - loss: 0.8331 - accuracy: 0.6631 - val_loss: 1.0207 - val_accuracy: 0.5888\n",
            "Epoch 14/80\n",
            "7/7 [==============================] - 7s 1s/step - loss: 0.8262 - accuracy: 0.6612 - val_loss: 1.0222 - val_accuracy: 0.5800\n",
            "Epoch 15/80\n",
            "7/7 [==============================] - 7s 974ms/step - loss: 0.8368 - accuracy: 0.6669 - val_loss: 1.0027 - val_accuracy: 0.6025\n",
            "Epoch 16/80\n",
            "7/7 [==============================] - 7s 1s/step - loss: 0.7907 - accuracy: 0.6894 - val_loss: 0.9667 - val_accuracy: 0.6225\n",
            "Epoch 17/80\n",
            "7/7 [==============================] - 7s 1s/step - loss: 0.7343 - accuracy: 0.7122 - val_loss: 0.8512 - val_accuracy: 0.6575\n",
            "Epoch 18/80\n",
            "7/7 [==============================] - 7s 1s/step - loss: 0.7063 - accuracy: 0.7231 - val_loss: 0.7904 - val_accuracy: 0.7025\n",
            "Epoch 19/80\n",
            "7/7 [==============================] - 7s 999ms/step - loss: 0.6786 - accuracy: 0.7347 - val_loss: 0.9577 - val_accuracy: 0.6288\n",
            "Epoch 20/80\n",
            "7/7 [==============================] - 7s 1s/step - loss: 0.6741 - accuracy: 0.7400 - val_loss: 0.8891 - val_accuracy: 0.6662\n",
            "Epoch 21/80\n",
            "7/7 [==============================] - 7s 1s/step - loss: 0.6443 - accuracy: 0.7450 - val_loss: 0.7495 - val_accuracy: 0.7212\n",
            "Epoch 22/80\n",
            "7/7 [==============================] - 7s 1s/step - loss: 0.6098 - accuracy: 0.7625 - val_loss: 0.8105 - val_accuracy: 0.6938\n",
            "Epoch 23/80\n",
            "7/7 [==============================] - 7s 994ms/step - loss: 0.6226 - accuracy: 0.7559 - val_loss: 0.7725 - val_accuracy: 0.7025\n",
            "Epoch 24/80\n",
            "7/7 [==============================] - 7s 1s/step - loss: 0.5837 - accuracy: 0.7747 - val_loss: 0.8598 - val_accuracy: 0.6837\n",
            "Epoch 25/80\n",
            "7/7 [==============================] - 7s 1s/step - loss: 0.5953 - accuracy: 0.7650 - val_loss: 0.8966 - val_accuracy: 0.6525\n",
            "Epoch 26/80\n",
            "7/7 [==============================] - 7s 1s/step - loss: 0.5506 - accuracy: 0.7856 - val_loss: 0.8488 - val_accuracy: 0.6662\n",
            "Epoch 27/80\n",
            "7/7 [==============================] - 7s 998ms/step - loss: 0.5374 - accuracy: 0.7903 - val_loss: 0.7812 - val_accuracy: 0.7163\n",
            "Epoch 28/80\n",
            "7/7 [==============================] - 7s 1s/step - loss: 0.4988 - accuracy: 0.8106 - val_loss: 0.6921 - val_accuracy: 0.7387\n",
            "Epoch 29/80\n",
            "7/7 [==============================] - 7s 1s/step - loss: 0.4855 - accuracy: 0.8087 - val_loss: 0.7909 - val_accuracy: 0.7312\n",
            "Epoch 30/80\n",
            "7/7 [==============================] - 7s 970ms/step - loss: 0.4781 - accuracy: 0.8175 - val_loss: 0.7084 - val_accuracy: 0.7450\n",
            "Epoch 31/80\n",
            "7/7 [==============================] - 7s 1s/step - loss: 0.4751 - accuracy: 0.8256 - val_loss: 0.7036 - val_accuracy: 0.7550\n",
            "Epoch 32/80\n",
            "7/7 [==============================] - 7s 964ms/step - loss: 0.4732 - accuracy: 0.8188 - val_loss: 0.8577 - val_accuracy: 0.7063\n",
            "Epoch 33/80\n",
            "7/7 [==============================] - 7s 981ms/step - loss: 0.4400 - accuracy: 0.8281 - val_loss: 0.7226 - val_accuracy: 0.7375\n",
            "Epoch 34/80\n",
            "7/7 [==============================] - 7s 961ms/step - loss: 0.4093 - accuracy: 0.8394 - val_loss: 0.7363 - val_accuracy: 0.7387\n",
            "Epoch 35/80\n",
            "7/7 [==============================] - 7s 1s/step - loss: 0.4096 - accuracy: 0.8403 - val_loss: 0.7301 - val_accuracy: 0.7350\n",
            "Epoch 36/80\n",
            "7/7 [==============================] - 7s 973ms/step - loss: 0.3934 - accuracy: 0.8469 - val_loss: 0.7002 - val_accuracy: 0.7588\n",
            "Epoch 37/80\n",
            "7/7 [==============================] - 7s 1s/step - loss: 0.3809 - accuracy: 0.8534 - val_loss: 0.7128 - val_accuracy: 0.7450\n",
            "Epoch 38/80\n",
            "7/7 [==============================] - 7s 968ms/step - loss: 0.3935 - accuracy: 0.8441 - val_loss: 0.6224 - val_accuracy: 0.7800\n",
            "Epoch 39/80\n",
            "7/7 [==============================] - 7s 1s/step - loss: 0.3483 - accuracy: 0.8647 - val_loss: 0.6979 - val_accuracy: 0.7525\n",
            "Epoch 40/80\n",
            "7/7 [==============================] - 7s 998ms/step - loss: 0.3454 - accuracy: 0.8656 - val_loss: 0.7357 - val_accuracy: 0.7613\n",
            "Epoch 41/80\n",
            "7/7 [==============================] - 7s 967ms/step - loss: 0.3626 - accuracy: 0.8634 - val_loss: 0.7510 - val_accuracy: 0.7412\n",
            "Epoch 42/80\n",
            "7/7 [==============================] - 7s 987ms/step - loss: 0.3425 - accuracy: 0.8681 - val_loss: 0.7294 - val_accuracy: 0.7638\n",
            "Epoch 43/80\n",
            "7/7 [==============================] - 7s 978ms/step - loss: 0.3131 - accuracy: 0.8838 - val_loss: 0.8542 - val_accuracy: 0.7237\n",
            "Epoch 44/80\n",
            "7/7 [==============================] - 7s 1s/step - loss: 0.2939 - accuracy: 0.8900 - val_loss: 0.7000 - val_accuracy: 0.7713\n",
            "Epoch 45/80\n",
            "7/7 [==============================] - 7s 1s/step - loss: 0.3035 - accuracy: 0.8856 - val_loss: 0.7006 - val_accuracy: 0.7800\n",
            "Epoch 46/80\n",
            "7/7 [==============================] - 7s 1s/step - loss: 0.3042 - accuracy: 0.8856 - val_loss: 0.6335 - val_accuracy: 0.7812\n",
            "Epoch 47/80\n",
            "7/7 [==============================] - 7s 978ms/step - loss: 0.2566 - accuracy: 0.9025 - val_loss: 0.6845 - val_accuracy: 0.7812\n",
            "Epoch 48/80\n",
            "7/7 [==============================] - 7s 988ms/step - loss: 0.2332 - accuracy: 0.9175 - val_loss: 0.7222 - val_accuracy: 0.7775\n",
            "Epoch 49/80\n",
            "7/7 [==============================] - 7s 1s/step - loss: 0.2497 - accuracy: 0.9084 - val_loss: 0.8537 - val_accuracy: 0.7312\n",
            "Epoch 50/80\n",
            "7/7 [==============================] - 7s 1s/step - loss: 0.2488 - accuracy: 0.9025 - val_loss: 0.7407 - val_accuracy: 0.7825\n",
            "Epoch 51/80\n",
            "7/7 [==============================] - 7s 1s/step - loss: 0.2218 - accuracy: 0.9228 - val_loss: 0.6534 - val_accuracy: 0.7862\n",
            "Epoch 52/80\n",
            "7/7 [==============================] - 7s 1s/step - loss: 0.2375 - accuracy: 0.9091 - val_loss: 0.6712 - val_accuracy: 0.8050\n",
            "Epoch 53/80\n",
            "7/7 [==============================] - 7s 992ms/step - loss: 0.2153 - accuracy: 0.9225 - val_loss: 0.6705 - val_accuracy: 0.8100\n",
            "Epoch 54/80\n",
            "7/7 [==============================] - 7s 1000ms/step - loss: 0.1980 - accuracy: 0.9250 - val_loss: 0.7217 - val_accuracy: 0.7887\n",
            "Epoch 55/80\n",
            "7/7 [==============================] - 7s 964ms/step - loss: 0.2077 - accuracy: 0.9262 - val_loss: 0.6697 - val_accuracy: 0.8012\n",
            "Epoch 56/80\n",
            "7/7 [==============================] - 7s 986ms/step - loss: 0.2040 - accuracy: 0.9300 - val_loss: 0.8300 - val_accuracy: 0.7950\n",
            "Epoch 57/80\n",
            "7/7 [==============================] - 7s 1s/step - loss: 0.2135 - accuracy: 0.9262 - val_loss: 0.8040 - val_accuracy: 0.7600\n",
            "Epoch 58/80\n",
            "7/7 [==============================] - 7s 1s/step - loss: 0.2083 - accuracy: 0.9216 - val_loss: 0.6950 - val_accuracy: 0.8025\n",
            "Epoch 59/80\n",
            "7/7 [==============================] - 7s 1s/step - loss: 0.1886 - accuracy: 0.9300 - val_loss: 0.7317 - val_accuracy: 0.7987\n",
            "Epoch 60/80\n",
            "7/7 [==============================] - 7s 1s/step - loss: 0.1496 - accuracy: 0.9450 - val_loss: 0.6930 - val_accuracy: 0.7925\n",
            "Epoch 61/80\n",
            "7/7 [==============================] - 7s 1s/step - loss: 0.1421 - accuracy: 0.9513 - val_loss: 0.8069 - val_accuracy: 0.7950\n",
            "Epoch 62/80\n",
            "7/7 [==============================] - 7s 1s/step - loss: 0.1638 - accuracy: 0.9419 - val_loss: 0.8692 - val_accuracy: 0.7650\n",
            "Epoch 63/80\n",
            "7/7 [==============================] - 7s 992ms/step - loss: 0.1654 - accuracy: 0.9425 - val_loss: 0.7395 - val_accuracy: 0.7900\n",
            "Epoch 64/80\n",
            "7/7 [==============================] - 7s 998ms/step - loss: 0.1599 - accuracy: 0.9419 - val_loss: 0.7498 - val_accuracy: 0.7875\n",
            "Epoch 65/80\n",
            "7/7 [==============================] - 7s 1s/step - loss: 0.1317 - accuracy: 0.9497 - val_loss: 0.7276 - val_accuracy: 0.8037\n",
            "Epoch 66/80\n",
            "7/7 [==============================] - 7s 1s/step - loss: 0.1324 - accuracy: 0.9519 - val_loss: 0.8379 - val_accuracy: 0.7800\n",
            "Epoch 67/80\n",
            "7/7 [==============================] - 7s 995ms/step - loss: 0.1553 - accuracy: 0.9428 - val_loss: 0.7307 - val_accuracy: 0.8150\n",
            "Epoch 68/80\n",
            "7/7 [==============================] - 7s 974ms/step - loss: 0.1467 - accuracy: 0.9472 - val_loss: 0.7987 - val_accuracy: 0.7887\n",
            "Epoch 69/80\n",
            "7/7 [==============================] - 7s 1s/step - loss: 0.1304 - accuracy: 0.9538 - val_loss: 0.8909 - val_accuracy: 0.7763\n",
            "Epoch 70/80\n",
            "7/7 [==============================] - 7s 973ms/step - loss: 0.1405 - accuracy: 0.9513 - val_loss: 0.8508 - val_accuracy: 0.7738\n",
            "Epoch 71/80\n",
            "7/7 [==============================] - 7s 1s/step - loss: 0.1373 - accuracy: 0.9497 - val_loss: 0.9622 - val_accuracy: 0.7738\n",
            "Epoch 72/80\n",
            "7/7 [==============================] - 7s 1s/step - loss: 0.1523 - accuracy: 0.9509 - val_loss: 0.7830 - val_accuracy: 0.7862\n",
            "Epoch 73/80\n",
            "7/7 [==============================] - 7s 1s/step - loss: 0.1510 - accuracy: 0.9484 - val_loss: 0.7326 - val_accuracy: 0.8150\n",
            "Epoch 74/80\n",
            "7/7 [==============================] - 7s 972ms/step - loss: 0.1518 - accuracy: 0.9456 - val_loss: 0.8381 - val_accuracy: 0.7750\n",
            "Epoch 75/80\n",
            "7/7 [==============================] - 7s 1s/step - loss: 0.1812 - accuracy: 0.9341 - val_loss: 0.8527 - val_accuracy: 0.7625\n",
            "Epoch 76/80\n",
            "7/7 [==============================] - 7s 970ms/step - loss: 0.1435 - accuracy: 0.9534 - val_loss: 0.7576 - val_accuracy: 0.7912\n",
            "Epoch 77/80\n",
            "7/7 [==============================] - 7s 1s/step - loss: 0.1140 - accuracy: 0.9594 - val_loss: 0.7375 - val_accuracy: 0.8087\n",
            "Epoch 78/80\n",
            "7/7 [==============================] - 7s 991ms/step - loss: 0.1045 - accuracy: 0.9653 - val_loss: 0.6602 - val_accuracy: 0.8275\n",
            "Epoch 79/80\n",
            "7/7 [==============================] - 7s 1s/step - loss: 0.1026 - accuracy: 0.9613 - val_loss: 0.8268 - val_accuracy: 0.8000\n",
            "Epoch 80/80\n",
            "7/7 [==============================] - 7s 982ms/step - loss: 0.1174 - accuracy: 0.9609 - val_loss: 0.8588 - val_accuracy: 0.7875\n"
          ]
        }
      ],
      "source": [
        "history = model4.fit(x_train, y_train, epochs = 80, batch_size = 500, validation_data=(x_test, y_test))"
      ]
    },
    {
      "cell_type": "code",
      "execution_count": null,
      "metadata": {
        "colab": {
          "base_uri": "https://localhost:8080/"
        },
        "id": "egQZIWERGcTJ",
        "outputId": "b000d841-b176-4bd9-fa33-087e4c5588c7"
      },
      "outputs": [
        {
          "name": "stdout",
          "output_type": "stream",
          "text": [
            "Model: \"sequential_3\"\n",
            "_________________________________________________________________\n",
            " Layer (type)                Output Shape              Param #   \n",
            "=================================================================\n",
            " conv2d_12 (Conv2D)          (None, 38, 859, 32)       320       \n",
            "                                                                 \n",
            " max_pooling2d_9 (MaxPooling  (None, 19, 429, 32)      0         \n",
            " 2D)                                                             \n",
            "                                                                 \n",
            " dropout_9 (Dropout)         (None, 19, 429, 32)       0         \n",
            "                                                                 \n",
            " conv2d_13 (Conv2D)          (None, 17, 427, 64)       18496     \n",
            "                                                                 \n",
            " max_pooling2d_10 (MaxPoolin  (None, 8, 213, 64)       0         \n",
            " g2D)                                                            \n",
            "                                                                 \n",
            " dropout_10 (Dropout)        (None, 8, 213, 64)        0         \n",
            "                                                                 \n",
            " conv2d_14 (Conv2D)          (None, 6, 211, 128)       73856     \n",
            "                                                                 \n",
            " max_pooling2d_11 (MaxPoolin  (None, 3, 105, 128)      0         \n",
            " g2D)                                                            \n",
            "                                                                 \n",
            " conv2d_15 (Conv2D)          (None, 1, 103, 256)       295168    \n",
            "                                                                 \n",
            " dropout_11 (Dropout)        (None, 1, 103, 256)       0         \n",
            "                                                                 \n",
            " reshape_3 (Reshape)         (None, 103, 256)          0         \n",
            "                                                                 \n",
            " lstm_3 (LSTM)               (None, 500)               1514000   \n",
            "                                                                 \n",
            " dense_2 (Dense)             (None, 5)                 2505      \n",
            "                                                                 \n",
            "=================================================================\n",
            "Total params: 1,904,345\n",
            "Trainable params: 1,904,345\n",
            "Non-trainable params: 0\n",
            "_________________________________________________________________\n"
          ]
        }
      ],
      "source": [
        "model5 = Sequential()\n",
        "\n",
        "model5.add(Conv2D(32, kernel_size=(3,3), activation='relu',input_shape = combinedFeatureList.shape[1:]))\n",
        "model5.add(MaxPooling2D(pool_size = (2, 2)))\n",
        "model5.add(Dropout(0.2))\n",
        "model5.add(Conv2D(64, kernel_size=(3,3), activation='relu'))\n",
        "model5.add(MaxPooling2D(pool_size = (2, 2)))\n",
        "model5.add(Dropout(0.2))\n",
        "model5.add(Conv2D(128, kernel_size=(3,3), activation='relu'))\n",
        "model5.add(MaxPooling2D(pool_size = (2, 2)))\n",
        "model5.add(Conv2D(256,kernel_size=(3,3), activation=\"relu\"))\n",
        "\n",
        "model5.add(Dropout(0.2))\n",
        "\n",
        "model5.add(Reshape(target_shape=(103,256)))\n",
        "#model5.add(LSTM(units=500,return_sequences=True))\n",
        "\n",
        "model5.add(LSTM(units=500))\n",
        "model5.add(Dense(encodedOutputLabelList.shape[1], activation = 'softmax'))\n",
        "\n",
        "\n",
        "model5.compile(optimizer='adam', loss='categorical_crossentropy', metrics=['accuracy'])\n",
        "model5.summary()"
      ]
    },
    {
      "cell_type": "code",
      "execution_count": null,
      "metadata": {
        "colab": {
          "base_uri": "https://localhost:8080/"
        },
        "id": "gaQQX4DVgCST",
        "outputId": "20dd66b8-ec06-4abf-87e4-124ab5f4a1a7"
      },
      "outputs": [
        {
          "name": "stdout",
          "output_type": "stream",
          "text": [
            "Epoch 1/150\n",
            "7/7 [==============================] - 19s 2s/step - loss: 1.5065 - accuracy: 0.2478 - val_loss: 1.4483 - val_accuracy: 0.2375\n",
            "Epoch 2/150\n",
            "7/7 [==============================] - 7s 952ms/step - loss: 1.4193 - accuracy: 0.2463 - val_loss: 1.3987 - val_accuracy: 0.2475\n",
            "Epoch 3/150\n",
            "7/7 [==============================] - 7s 957ms/step - loss: 1.3970 - accuracy: 0.2469 - val_loss: 1.3957 - val_accuracy: 0.2375\n",
            "Epoch 4/150\n",
            "7/7 [==============================] - 6s 921ms/step - loss: 1.3881 - accuracy: 0.2606 - val_loss: 1.3829 - val_accuracy: 0.2738\n",
            "Epoch 5/150\n",
            "7/7 [==============================] - 7s 962ms/step - loss: 1.3854 - accuracy: 0.2597 - val_loss: 1.3776 - val_accuracy: 0.2738\n",
            "Epoch 6/150\n",
            "7/7 [==============================] - 7s 957ms/step - loss: 1.3838 - accuracy: 0.2569 - val_loss: 1.3731 - val_accuracy: 0.2587\n",
            "Epoch 7/150\n",
            "7/7 [==============================] - 6s 894ms/step - loss: 1.3748 - accuracy: 0.2631 - val_loss: 1.3535 - val_accuracy: 0.3162\n",
            "Epoch 8/150\n",
            "7/7 [==============================] - 7s 939ms/step - loss: 1.3577 - accuracy: 0.3047 - val_loss: 1.3069 - val_accuracy: 0.3762\n",
            "Epoch 9/150\n",
            "7/7 [==============================] - 6s 883ms/step - loss: 1.2758 - accuracy: 0.4022 - val_loss: 1.2298 - val_accuracy: 0.4375\n",
            "Epoch 10/150\n",
            "7/7 [==============================] - 6s 886ms/step - loss: 1.2570 - accuracy: 0.4072 - val_loss: 1.2297 - val_accuracy: 0.4588\n",
            "Epoch 11/150\n",
            "7/7 [==============================] - 6s 922ms/step - loss: 1.1891 - accuracy: 0.4706 - val_loss: 1.1614 - val_accuracy: 0.4500\n",
            "Epoch 12/150\n",
            "7/7 [==============================] - 6s 927ms/step - loss: 1.1501 - accuracy: 0.4778 - val_loss: 1.2139 - val_accuracy: 0.5038\n",
            "Epoch 13/150\n",
            "7/7 [==============================] - 6s 930ms/step - loss: 1.1182 - accuracy: 0.5141 - val_loss: 1.1556 - val_accuracy: 0.4863\n",
            "Epoch 14/150\n",
            "7/7 [==============================] - 6s 885ms/step - loss: 1.0980 - accuracy: 0.5228 - val_loss: 1.1256 - val_accuracy: 0.5063\n",
            "Epoch 15/150\n",
            "7/7 [==============================] - 7s 937ms/step - loss: 1.0905 - accuracy: 0.5234 - val_loss: 1.0914 - val_accuracy: 0.4988\n",
            "Epoch 16/150\n",
            "7/7 [==============================] - 6s 889ms/step - loss: 1.0746 - accuracy: 0.5266 - val_loss: 1.0723 - val_accuracy: 0.5238\n",
            "Epoch 17/150\n",
            "7/7 [==============================] - 6s 887ms/step - loss: 1.0478 - accuracy: 0.5412 - val_loss: 1.0551 - val_accuracy: 0.5150\n",
            "Epoch 18/150\n",
            "7/7 [==============================] - 7s 938ms/step - loss: 1.0255 - accuracy: 0.5666 - val_loss: 1.0647 - val_accuracy: 0.5375\n",
            "Epoch 19/150\n",
            "7/7 [==============================] - 6s 880ms/step - loss: 1.0084 - accuracy: 0.5672 - val_loss: 1.0403 - val_accuracy: 0.5562\n",
            "Epoch 20/150\n",
            "7/7 [==============================] - 6s 890ms/step - loss: 1.0012 - accuracy: 0.5528 - val_loss: 1.0491 - val_accuracy: 0.5250\n",
            "Epoch 21/150\n",
            "7/7 [==============================] - 6s 879ms/step - loss: 0.9796 - accuracy: 0.5659 - val_loss: 1.0169 - val_accuracy: 0.5612\n",
            "Epoch 22/150\n",
            "7/7 [==============================] - 6s 928ms/step - loss: 0.9588 - accuracy: 0.5800 - val_loss: 1.0089 - val_accuracy: 0.5875\n",
            "Epoch 23/150\n",
            "7/7 [==============================] - 6s 929ms/step - loss: 0.9598 - accuracy: 0.5922 - val_loss: 0.9797 - val_accuracy: 0.5763\n",
            "Epoch 24/150\n",
            "7/7 [==============================] - 6s 883ms/step - loss: 0.9395 - accuracy: 0.6003 - val_loss: 0.9722 - val_accuracy: 0.5813\n",
            "Epoch 25/150\n",
            "7/7 [==============================] - 7s 933ms/step - loss: 0.9053 - accuracy: 0.6137 - val_loss: 0.9867 - val_accuracy: 0.5825\n",
            "Epoch 26/150\n",
            "7/7 [==============================] - 6s 892ms/step - loss: 0.9019 - accuracy: 0.6178 - val_loss: 0.9818 - val_accuracy: 0.5888\n",
            "Epoch 27/150\n",
            "7/7 [==============================] - 7s 939ms/step - loss: 0.8953 - accuracy: 0.6328 - val_loss: 0.9266 - val_accuracy: 0.6012\n",
            "Epoch 28/150\n",
            "7/7 [==============================] - 7s 937ms/step - loss: 0.8610 - accuracy: 0.6391 - val_loss: 0.9553 - val_accuracy: 0.5962\n",
            "Epoch 29/150\n",
            "7/7 [==============================] - 7s 932ms/step - loss: 0.8623 - accuracy: 0.6359 - val_loss: 0.9319 - val_accuracy: 0.6050\n",
            "Epoch 30/150\n",
            "7/7 [==============================] - 6s 929ms/step - loss: 0.8285 - accuracy: 0.6525 - val_loss: 0.8960 - val_accuracy: 0.6112\n",
            "Epoch 31/150\n",
            "7/7 [==============================] - 6s 880ms/step - loss: 0.8185 - accuracy: 0.6584 - val_loss: 0.9431 - val_accuracy: 0.6125\n",
            "Epoch 32/150\n",
            "7/7 [==============================] - 6s 922ms/step - loss: 0.8380 - accuracy: 0.6522 - val_loss: 0.9243 - val_accuracy: 0.6237\n",
            "Epoch 33/150\n",
            "7/7 [==============================] - 6s 929ms/step - loss: 0.8214 - accuracy: 0.6572 - val_loss: 0.9132 - val_accuracy: 0.6250\n",
            "Epoch 34/150\n",
            "7/7 [==============================] - 6s 920ms/step - loss: 0.8071 - accuracy: 0.6669 - val_loss: 0.8688 - val_accuracy: 0.6450\n",
            "Epoch 35/150\n",
            "7/7 [==============================] - 7s 935ms/step - loss: 0.7767 - accuracy: 0.6834 - val_loss: 0.8792 - val_accuracy: 0.6425\n",
            "Epoch 36/150\n",
            "7/7 [==============================] - 6s 925ms/step - loss: 0.7637 - accuracy: 0.6928 - val_loss: 0.8517 - val_accuracy: 0.6612\n",
            "Epoch 37/150\n",
            "7/7 [==============================] - 7s 941ms/step - loss: 0.7566 - accuracy: 0.6947 - val_loss: 0.8738 - val_accuracy: 0.6325\n",
            "Epoch 38/150\n",
            "7/7 [==============================] - 7s 933ms/step - loss: 0.7383 - accuracy: 0.6963 - val_loss: 0.8630 - val_accuracy: 0.6612\n",
            "Epoch 39/150\n",
            "7/7 [==============================] - 6s 890ms/step - loss: 0.7197 - accuracy: 0.7031 - val_loss: 0.8885 - val_accuracy: 0.6488\n",
            "Epoch 40/150\n",
            "7/7 [==============================] - 7s 930ms/step - loss: 0.7486 - accuracy: 0.6975 - val_loss: 0.9195 - val_accuracy: 0.6350\n",
            "Epoch 41/150\n",
            "7/7 [==============================] - 7s 933ms/step - loss: 0.7264 - accuracy: 0.7009 - val_loss: 0.8691 - val_accuracy: 0.6538\n",
            "Epoch 42/150\n",
            "7/7 [==============================] - 6s 931ms/step - loss: 0.6901 - accuracy: 0.7231 - val_loss: 0.8459 - val_accuracy: 0.6575\n",
            "Epoch 43/150\n",
            "7/7 [==============================] - 6s 932ms/step - loss: 0.6842 - accuracy: 0.7206 - val_loss: 0.8353 - val_accuracy: 0.6600\n",
            "Epoch 44/150\n",
            "7/7 [==============================] - 6s 925ms/step - loss: 0.6484 - accuracy: 0.7456 - val_loss: 0.7512 - val_accuracy: 0.7000\n",
            "Epoch 45/150\n",
            "7/7 [==============================] - 6s 880ms/step - loss: 0.6216 - accuracy: 0.7572 - val_loss: 0.7796 - val_accuracy: 0.7038\n",
            "Epoch 46/150\n",
            "7/7 [==============================] - 6s 878ms/step - loss: 0.5993 - accuracy: 0.7656 - val_loss: 0.7785 - val_accuracy: 0.7088\n",
            "Epoch 47/150\n",
            "7/7 [==============================] - 6s 884ms/step - loss: 0.5836 - accuracy: 0.7700 - val_loss: 0.7625 - val_accuracy: 0.7150\n",
            "Epoch 48/150\n",
            "7/7 [==============================] - 6s 927ms/step - loss: 0.5783 - accuracy: 0.7750 - val_loss: 0.7590 - val_accuracy: 0.7175\n",
            "Epoch 49/150\n",
            "7/7 [==============================] - 7s 938ms/step - loss: 0.5479 - accuracy: 0.7866 - val_loss: 0.7444 - val_accuracy: 0.7250\n",
            "Epoch 50/150\n",
            "7/7 [==============================] - 6s 882ms/step - loss: 0.5147 - accuracy: 0.8025 - val_loss: 0.7440 - val_accuracy: 0.7200\n",
            "Epoch 51/150\n",
            "7/7 [==============================] - 6s 894ms/step - loss: 0.5373 - accuracy: 0.7866 - val_loss: 0.8268 - val_accuracy: 0.6925\n",
            "Epoch 52/150\n",
            "7/7 [==============================] - 6s 885ms/step - loss: 0.5448 - accuracy: 0.7912 - val_loss: 0.7571 - val_accuracy: 0.7100\n",
            "Epoch 53/150\n",
            "7/7 [==============================] - 7s 933ms/step - loss: 0.5104 - accuracy: 0.8050 - val_loss: 0.7709 - val_accuracy: 0.7113\n",
            "Epoch 54/150\n",
            "7/7 [==============================] - 6s 929ms/step - loss: 0.4829 - accuracy: 0.8191 - val_loss: 0.7373 - val_accuracy: 0.7212\n",
            "Epoch 55/150\n",
            "7/7 [==============================] - 6s 932ms/step - loss: 0.4470 - accuracy: 0.8306 - val_loss: 0.7284 - val_accuracy: 0.7425\n",
            "Epoch 56/150\n",
            "7/7 [==============================] - 7s 935ms/step - loss: 0.4452 - accuracy: 0.8316 - val_loss: 0.7868 - val_accuracy: 0.7262\n",
            "Epoch 57/150\n",
            "7/7 [==============================] - 6s 890ms/step - loss: 0.4205 - accuracy: 0.8400 - val_loss: 0.7638 - val_accuracy: 0.7225\n",
            "Epoch 58/150\n",
            "7/7 [==============================] - 7s 937ms/step - loss: 0.4123 - accuracy: 0.8431 - val_loss: 0.7618 - val_accuracy: 0.7375\n",
            "Epoch 59/150\n",
            "7/7 [==============================] - 6s 881ms/step - loss: 0.3811 - accuracy: 0.8597 - val_loss: 0.7089 - val_accuracy: 0.7425\n",
            "Epoch 60/150\n",
            "7/7 [==============================] - 6s 891ms/step - loss: 0.3811 - accuracy: 0.8622 - val_loss: 0.7445 - val_accuracy: 0.7425\n",
            "Epoch 61/150\n",
            "7/7 [==============================] - 7s 931ms/step - loss: 0.3318 - accuracy: 0.8778 - val_loss: 0.7299 - val_accuracy: 0.7462\n",
            "Epoch 62/150\n",
            "7/7 [==============================] - 6s 883ms/step - loss: 0.3139 - accuracy: 0.8797 - val_loss: 0.7016 - val_accuracy: 0.7525\n",
            "Epoch 63/150\n",
            "7/7 [==============================] - 6s 879ms/step - loss: 0.3076 - accuracy: 0.8831 - val_loss: 0.7884 - val_accuracy: 0.7487\n",
            "Epoch 64/150\n",
            "7/7 [==============================] - 6s 884ms/step - loss: 0.3249 - accuracy: 0.8797 - val_loss: 0.7619 - val_accuracy: 0.7563\n",
            "Epoch 65/150\n",
            "7/7 [==============================] - 6s 879ms/step - loss: 0.3245 - accuracy: 0.8763 - val_loss: 0.7168 - val_accuracy: 0.7462\n",
            "Epoch 66/150\n",
            "7/7 [==============================] - 6s 891ms/step - loss: 0.2966 - accuracy: 0.8906 - val_loss: 0.7457 - val_accuracy: 0.7663\n",
            "Epoch 67/150\n",
            "7/7 [==============================] - 6s 879ms/step - loss: 0.2668 - accuracy: 0.8991 - val_loss: 0.7716 - val_accuracy: 0.7638\n",
            "Epoch 68/150\n",
            "7/7 [==============================] - 6s 892ms/step - loss: 0.2858 - accuracy: 0.8994 - val_loss: 0.7314 - val_accuracy: 0.7513\n",
            "Epoch 69/150\n",
            "7/7 [==============================] - 6s 878ms/step - loss: 0.2421 - accuracy: 0.9172 - val_loss: 0.7370 - val_accuracy: 0.7675\n",
            "Epoch 70/150\n",
            "7/7 [==============================] - 7s 937ms/step - loss: 0.2174 - accuracy: 0.9212 - val_loss: 0.7325 - val_accuracy: 0.7663\n",
            "Epoch 71/150\n",
            "7/7 [==============================] - 6s 878ms/step - loss: 0.1919 - accuracy: 0.9353 - val_loss: 0.8893 - val_accuracy: 0.7462\n",
            "Epoch 72/150\n",
            "7/7 [==============================] - 7s 933ms/step - loss: 0.1907 - accuracy: 0.9319 - val_loss: 0.8755 - val_accuracy: 0.7725\n",
            "Epoch 73/150\n",
            "7/7 [==============================] - 6s 876ms/step - loss: 0.2395 - accuracy: 0.9156 - val_loss: 0.8510 - val_accuracy: 0.7425\n",
            "Epoch 74/150\n",
            "7/7 [==============================] - 6s 930ms/step - loss: 0.2523 - accuracy: 0.9137 - val_loss: 0.7387 - val_accuracy: 0.7663\n",
            "Epoch 75/150\n",
            "7/7 [==============================] - 7s 932ms/step - loss: 0.2226 - accuracy: 0.9181 - val_loss: 0.7864 - val_accuracy: 0.7613\n",
            "Epoch 76/150\n",
            "7/7 [==============================] - 7s 937ms/step - loss: 0.1805 - accuracy: 0.9366 - val_loss: 0.8493 - val_accuracy: 0.7675\n",
            "Epoch 77/150\n",
            "7/7 [==============================] - 7s 935ms/step - loss: 0.1587 - accuracy: 0.9422 - val_loss: 0.9102 - val_accuracy: 0.7675\n",
            "Epoch 78/150\n",
            "7/7 [==============================] - 6s 891ms/step - loss: 0.1276 - accuracy: 0.9578 - val_loss: 0.8589 - val_accuracy: 0.7650\n",
            "Epoch 79/150\n",
            "7/7 [==============================] - 7s 942ms/step - loss: 0.1244 - accuracy: 0.9594 - val_loss: 0.8760 - val_accuracy: 0.7613\n",
            "Epoch 80/150\n",
            "7/7 [==============================] - 6s 887ms/step - loss: 0.1269 - accuracy: 0.9603 - val_loss: 0.9116 - val_accuracy: 0.7613\n",
            "Epoch 81/150\n",
            "7/7 [==============================] - 7s 938ms/step - loss: 0.1008 - accuracy: 0.9666 - val_loss: 0.8719 - val_accuracy: 0.7750\n",
            "Epoch 82/150\n",
            "7/7 [==============================] - 6s 876ms/step - loss: 0.0792 - accuracy: 0.9750 - val_loss: 0.9345 - val_accuracy: 0.7825\n",
            "Epoch 83/150\n",
            "7/7 [==============================] - 7s 936ms/step - loss: 0.0876 - accuracy: 0.9694 - val_loss: 1.0830 - val_accuracy: 0.7525\n",
            "Epoch 84/150\n",
            "7/7 [==============================] - 6s 928ms/step - loss: 0.1075 - accuracy: 0.9638 - val_loss: 0.8689 - val_accuracy: 0.7812\n",
            "Epoch 85/150\n",
            "7/7 [==============================] - 7s 936ms/step - loss: 0.0947 - accuracy: 0.9653 - val_loss: 1.0035 - val_accuracy: 0.7600\n",
            "Epoch 86/150\n",
            "7/7 [==============================] - 6s 930ms/step - loss: 0.0850 - accuracy: 0.9684 - val_loss: 0.9651 - val_accuracy: 0.7638\n",
            "Epoch 87/150\n",
            "7/7 [==============================] - 6s 888ms/step - loss: 0.0987 - accuracy: 0.9653 - val_loss: 0.9835 - val_accuracy: 0.7550\n",
            "Epoch 88/150\n",
            "7/7 [==============================] - 6s 878ms/step - loss: 0.0842 - accuracy: 0.9750 - val_loss: 1.0614 - val_accuracy: 0.7550\n",
            "Epoch 89/150\n",
            "7/7 [==============================] - 6s 891ms/step - loss: 0.0816 - accuracy: 0.9737 - val_loss: 1.0391 - val_accuracy: 0.7663\n",
            "Epoch 90/150\n",
            "7/7 [==============================] - 6s 880ms/step - loss: 0.0654 - accuracy: 0.9806 - val_loss: 1.0227 - val_accuracy: 0.7625\n",
            "Epoch 91/150\n",
            "7/7 [==============================] - 7s 936ms/step - loss: 0.0780 - accuracy: 0.9772 - val_loss: 0.9802 - val_accuracy: 0.7650\n",
            "Epoch 92/150\n",
            "7/7 [==============================] - 6s 879ms/step - loss: 0.1035 - accuracy: 0.9678 - val_loss: 0.9928 - val_accuracy: 0.7563\n",
            "Epoch 93/150\n",
            "7/7 [==============================] - 7s 933ms/step - loss: 0.1261 - accuracy: 0.9563 - val_loss: 0.9919 - val_accuracy: 0.7563\n",
            "Epoch 94/150\n",
            "7/7 [==============================] - 6s 930ms/step - loss: 0.1112 - accuracy: 0.9644 - val_loss: 0.9888 - val_accuracy: 0.7475\n",
            "Epoch 95/150\n",
            "7/7 [==============================] - 7s 934ms/step - loss: 0.0977 - accuracy: 0.9641 - val_loss: 0.9588 - val_accuracy: 0.7550\n",
            "Epoch 96/150\n",
            "7/7 [==============================] - 6s 875ms/step - loss: 0.0990 - accuracy: 0.9684 - val_loss: 1.0113 - val_accuracy: 0.7575\n",
            "Epoch 97/150\n",
            "7/7 [==============================] - 7s 933ms/step - loss: 0.0772 - accuracy: 0.9787 - val_loss: 0.9958 - val_accuracy: 0.7563\n",
            "Epoch 98/150\n",
            "7/7 [==============================] - 6s 875ms/step - loss: 0.0632 - accuracy: 0.9787 - val_loss: 0.9780 - val_accuracy: 0.7600\n",
            "Epoch 99/150\n",
            "7/7 [==============================] - 7s 934ms/step - loss: 0.0857 - accuracy: 0.9703 - val_loss: 0.9198 - val_accuracy: 0.7800\n",
            "Epoch 100/150\n",
            "7/7 [==============================] - 6s 927ms/step - loss: 0.0686 - accuracy: 0.9772 - val_loss: 1.0001 - val_accuracy: 0.7763\n",
            "Epoch 101/150\n",
            "7/7 [==============================] - 6s 894ms/step - loss: 0.0711 - accuracy: 0.9756 - val_loss: 1.1674 - val_accuracy: 0.7450\n",
            "Epoch 102/150\n",
            "7/7 [==============================] - 7s 931ms/step - loss: 0.0720 - accuracy: 0.9781 - val_loss: 0.9828 - val_accuracy: 0.7750\n",
            "Epoch 103/150\n",
            "7/7 [==============================] - 6s 885ms/step - loss: 0.0338 - accuracy: 0.9897 - val_loss: 1.0230 - val_accuracy: 0.7775\n",
            "Epoch 104/150\n",
            "7/7 [==============================] - 6s 876ms/step - loss: 0.0308 - accuracy: 0.9891 - val_loss: 1.0442 - val_accuracy: 0.7800\n",
            "Epoch 105/150\n",
            "7/7 [==============================] - 7s 932ms/step - loss: 0.0398 - accuracy: 0.9884 - val_loss: 1.0764 - val_accuracy: 0.7738\n",
            "Epoch 106/150\n",
            "7/7 [==============================] - 7s 936ms/step - loss: 0.0472 - accuracy: 0.9850 - val_loss: 1.0481 - val_accuracy: 0.7800\n",
            "Epoch 107/150\n",
            "7/7 [==============================] - 7s 943ms/step - loss: 0.0392 - accuracy: 0.9853 - val_loss: 1.0745 - val_accuracy: 0.7675\n",
            "Epoch 108/150\n",
            "7/7 [==============================] - 6s 877ms/step - loss: 0.0459 - accuracy: 0.9884 - val_loss: 1.1250 - val_accuracy: 0.7613\n",
            "Epoch 109/150\n",
            "7/7 [==============================] - 6s 925ms/step - loss: 0.0322 - accuracy: 0.9916 - val_loss: 1.1201 - val_accuracy: 0.7738\n",
            "Epoch 110/150\n",
            "7/7 [==============================] - 6s 928ms/step - loss: 0.0150 - accuracy: 0.9959 - val_loss: 1.1064 - val_accuracy: 0.7850\n",
            "Epoch 111/150\n",
            "7/7 [==============================] - 6s 928ms/step - loss: 0.0147 - accuracy: 0.9959 - val_loss: 1.1799 - val_accuracy: 0.7725\n",
            "Epoch 112/150\n",
            "7/7 [==============================] - 6s 880ms/step - loss: 0.0328 - accuracy: 0.9897 - val_loss: 1.2011 - val_accuracy: 0.7563\n",
            "Epoch 113/150\n",
            "7/7 [==============================] - 6s 929ms/step - loss: 0.0747 - accuracy: 0.9766 - val_loss: 1.0816 - val_accuracy: 0.7600\n",
            "Epoch 114/150\n",
            "7/7 [==============================] - 7s 935ms/step - loss: 0.0561 - accuracy: 0.9819 - val_loss: 1.0342 - val_accuracy: 0.7638\n",
            "Epoch 115/150\n",
            "7/7 [==============================] - 6s 925ms/step - loss: 0.0548 - accuracy: 0.9822 - val_loss: 1.0788 - val_accuracy: 0.7763\n",
            "Epoch 116/150\n",
            "7/7 [==============================] - 6s 877ms/step - loss: 0.0437 - accuracy: 0.9856 - val_loss: 1.1061 - val_accuracy: 0.7650\n",
            "Epoch 117/150\n",
            "7/7 [==============================] - 6s 912ms/step - loss: 0.0585 - accuracy: 0.9834 - val_loss: 1.0255 - val_accuracy: 0.7800\n",
            "Epoch 118/150\n",
            "7/7 [==============================] - 6s 879ms/step - loss: 0.0391 - accuracy: 0.9881 - val_loss: 1.0872 - val_accuracy: 0.7675\n",
            "Epoch 119/150\n",
            "7/7 [==============================] - 7s 929ms/step - loss: 0.0279 - accuracy: 0.9909 - val_loss: 1.1126 - val_accuracy: 0.7763\n",
            "Epoch 120/150\n",
            "7/7 [==============================] - 7s 934ms/step - loss: 0.0250 - accuracy: 0.9931 - val_loss: 1.0657 - val_accuracy: 0.7738\n",
            "Epoch 121/150\n",
            "7/7 [==============================] - 6s 881ms/step - loss: 0.0206 - accuracy: 0.9947 - val_loss: 1.1088 - val_accuracy: 0.7788\n",
            "Epoch 122/150\n",
            "7/7 [==============================] - 7s 934ms/step - loss: 0.0214 - accuracy: 0.9931 - val_loss: 1.2667 - val_accuracy: 0.7525\n",
            "Epoch 123/150\n",
            "7/7 [==============================] - 6s 878ms/step - loss: 0.0347 - accuracy: 0.9891 - val_loss: 1.1714 - val_accuracy: 0.7613\n",
            "Epoch 124/150\n",
            "7/7 [==============================] - 7s 931ms/step - loss: 0.0310 - accuracy: 0.9928 - val_loss: 1.1942 - val_accuracy: 0.7625\n",
            "Epoch 125/150\n",
            "7/7 [==============================] - 6s 924ms/step - loss: 0.0310 - accuracy: 0.9903 - val_loss: 1.1301 - val_accuracy: 0.7650\n",
            "Epoch 126/150\n",
            "7/7 [==============================] - 6s 932ms/step - loss: 0.0311 - accuracy: 0.9922 - val_loss: 1.2007 - val_accuracy: 0.7563\n",
            "Epoch 127/150\n",
            "7/7 [==============================] - 6s 925ms/step - loss: 0.0198 - accuracy: 0.9941 - val_loss: 1.2123 - val_accuracy: 0.7725\n",
            "Epoch 128/150\n",
            "7/7 [==============================] - 6s 887ms/step - loss: 0.0176 - accuracy: 0.9956 - val_loss: 1.3244 - val_accuracy: 0.7625\n",
            "Epoch 129/150\n",
            "7/7 [==============================] - 7s 930ms/step - loss: 0.0195 - accuracy: 0.9937 - val_loss: 1.4461 - val_accuracy: 0.7500\n",
            "Epoch 130/150\n",
            "7/7 [==============================] - 6s 885ms/step - loss: 0.0642 - accuracy: 0.9809 - val_loss: 1.2356 - val_accuracy: 0.7588\n",
            "Epoch 131/150\n",
            "7/7 [==============================] - 7s 933ms/step - loss: 0.0548 - accuracy: 0.9791 - val_loss: 1.0488 - val_accuracy: 0.7475\n",
            "Epoch 132/150\n",
            "7/7 [==============================] - 6s 933ms/step - loss: 0.0511 - accuracy: 0.9850 - val_loss: 1.0512 - val_accuracy: 0.7588\n",
            "Epoch 133/150\n",
            "7/7 [==============================] - 6s 883ms/step - loss: 0.0373 - accuracy: 0.9897 - val_loss: 1.0672 - val_accuracy: 0.7763\n",
            "Epoch 134/150\n",
            "7/7 [==============================] - 7s 931ms/step - loss: 0.0224 - accuracy: 0.9934 - val_loss: 1.0835 - val_accuracy: 0.7750\n",
            "Epoch 135/150\n",
            "7/7 [==============================] - 7s 932ms/step - loss: 0.0113 - accuracy: 0.9975 - val_loss: 1.1096 - val_accuracy: 0.7837\n",
            "Epoch 136/150\n",
            "7/7 [==============================] - 6s 881ms/step - loss: 0.0152 - accuracy: 0.9969 - val_loss: 1.1365 - val_accuracy: 0.7900\n",
            "Epoch 137/150\n",
            "7/7 [==============================] - 6s 891ms/step - loss: 0.0051 - accuracy: 0.9987 - val_loss: 1.1521 - val_accuracy: 0.7850\n",
            "Epoch 138/150\n",
            "7/7 [==============================] - 6s 930ms/step - loss: 0.0153 - accuracy: 0.9953 - val_loss: 1.2468 - val_accuracy: 0.7775\n",
            "Epoch 139/150\n",
            "7/7 [==============================] - 6s 933ms/step - loss: 0.0449 - accuracy: 0.9866 - val_loss: 1.2239 - val_accuracy: 0.7750\n",
            "Epoch 140/150\n",
            "7/7 [==============================] - 6s 877ms/step - loss: 0.0689 - accuracy: 0.9794 - val_loss: 0.9812 - val_accuracy: 0.7825\n",
            "Epoch 141/150\n",
            "7/7 [==============================] - 7s 940ms/step - loss: 0.0444 - accuracy: 0.9831 - val_loss: 1.0131 - val_accuracy: 0.7775\n",
            "Epoch 142/150\n",
            "7/7 [==============================] - 6s 878ms/step - loss: 0.0303 - accuracy: 0.9897 - val_loss: 1.0729 - val_accuracy: 0.7775\n",
            "Epoch 143/150\n",
            "7/7 [==============================] - 7s 937ms/step - loss: 0.0283 - accuracy: 0.9922 - val_loss: 1.0497 - val_accuracy: 0.7763\n",
            "Epoch 144/150\n",
            "7/7 [==============================] - 7s 934ms/step - loss: 0.0176 - accuracy: 0.9956 - val_loss: 1.1101 - val_accuracy: 0.7788\n",
            "Epoch 145/150\n",
            "7/7 [==============================] - 7s 933ms/step - loss: 0.0157 - accuracy: 0.9966 - val_loss: 1.0762 - val_accuracy: 0.7837\n",
            "Epoch 146/150\n",
            "7/7 [==============================] - 6s 930ms/step - loss: 0.0201 - accuracy: 0.9944 - val_loss: 1.0786 - val_accuracy: 0.7725\n",
            "Epoch 147/150\n",
            "7/7 [==============================] - 7s 938ms/step - loss: 0.0232 - accuracy: 0.9922 - val_loss: 1.1037 - val_accuracy: 0.7800\n",
            "Epoch 148/150\n",
            "7/7 [==============================] - 6s 880ms/step - loss: 0.0174 - accuracy: 0.9959 - val_loss: 1.1822 - val_accuracy: 0.7763\n",
            "Epoch 149/150\n",
            "7/7 [==============================] - 7s 937ms/step - loss: 0.0115 - accuracy: 0.9962 - val_loss: 1.1738 - val_accuracy: 0.7825\n",
            "Epoch 150/150\n",
            "7/7 [==============================] - 7s 933ms/step - loss: 0.0146 - accuracy: 0.9962 - val_loss: 1.1797 - val_accuracy: 0.7663\n"
          ]
        }
      ],
      "source": [
        "history = model5.fit(x_train, y_train, epochs = 150, batch_size = 500, validation_data=(x_test, y_test))"
      ]
    },
    {
      "cell_type": "code",
      "execution_count": null,
      "metadata": {
        "colab": {
          "base_uri": "https://localhost:8080/",
          "height": 282
        },
        "id": "XzvZlVRDgMrr",
        "outputId": "152bfc38-0a7f-4ad9-c208-8ceae6eb2b21"
      },
      "outputs": [
        {
          "data": {
            "text/plain": [
              "<matplotlib.legend.Legend at 0x7f0d9cfb00a0>"
            ]
          },
          "execution_count": 19,
          "metadata": {},
          "output_type": "execute_result"
        },
        {
          "data": {
            "image/png": "[encoded data removed]",
            "text/plain": [
              "<Figure size 432x288 with 1 Axes>"
            ]
          },
          "metadata": {},
          "output_type": "display_data"
        }
      ],
      "source": [
        "import matplotlib.pyplot as plt\n",
        "plt.plot(history.history['accuracy'])\n",
        "plt.plot(history.history['val_accuracy'])\n",
        "plt.legend([\"train_acc\",\"val_acc\"])"
      ]
    },
    {
      "cell_type": "code",
      "execution_count": null,
      "metadata": {
        "id": "oX_nzV8OQd98",
        "colab": {
          "base_uri": "https://localhost:8080/"
        },
        "outputId": "1f4d9253-4652-492d-9b61-7839212d9e41"
      },
      "outputs": [
        {
          "output_type": "stream",
          "name": "stdout",
          "text": [
            "Model: \"sequential_1\"\n",
            "_________________________________________________________________\n",
            " Layer (type)                Output Shape              Param #   \n",
            "=================================================================\n",
            " conv2d_4 (Conv2D)           (None, 37, 859, 16)       160       \n",
            "                                                                 \n",
            " max_pooling2d_3 (MaxPooling  (None, 18, 429, 16)      0         \n",
            " 2D)                                                             \n",
            "                                                                 \n",
            " conv2d_5 (Conv2D)           (None, 16, 427, 32)       4640      \n",
            "                                                                 \n",
            " max_pooling2d_4 (MaxPooling  (None, 8, 213, 32)       0         \n",
            " 2D)                                                             \n",
            "                                                                 \n",
            " conv2d_6 (Conv2D)           (None, 6, 211, 64)        18496     \n",
            "                                                                 \n",
            " max_pooling2d_5 (MaxPooling  (None, 3, 105, 64)       0         \n",
            " 2D)                                                             \n",
            "                                                                 \n",
            " conv2d_7 (Conv2D)           (None, 1, 103, 128)       73856     \n",
            "                                                                 \n",
            " reshape_1 (Reshape)         (None, 103, 128)          0         \n",
            "                                                                 \n",
            " lstm (LSTM)                 (None, 500)               1258000   \n",
            "                                                                 \n",
            " dense (Dense)               (None, 5)                 2505      \n",
            "                                                                 \n",
            "=================================================================\n",
            "Total params: 1,357,657\n",
            "Trainable params: 1,357,657\n",
            "Non-trainable params: 0\n",
            "_________________________________________________________________\n"
          ]
        }
      ],
      "source": [
        "model = Sequential()\n",
        "\n",
        "model.add(Conv2D(16, kernel_size=(3,3), activation='relu',input_shape = combinedFeatureList.shape[1:]))\n",
        "model.add(MaxPooling2D(pool_size = (2, 2)))\n",
        "model.add(Conv2D(32, kernel_size=(3,3), activation='relu'))\n",
        "model.add(MaxPooling2D(pool_size = (2, 2)))\n",
        "model.add(Conv2D(64, kernel_size=(3,3), activation='relu'))\n",
        "model.add(MaxPooling2D(pool_size = (2, 2)))\n",
        "model.add(Conv2D(128,kernel_size=(3,3), activation=\"relu\"))\n",
        "model.add(Reshape(target_shape=(103,128)))\n",
        "model.add(LSTM(500))\n",
        "model.add(Dense(encodedOutputLabelList.shape[1], activation = 'softmax'))\n",
        "\n",
        "\n",
        "model.compile(optimizer='adam', loss='categorical_crossentropy', metrics=['accuracy'])\n",
        "model.summary()"
      ]
    },
    {
      "cell_type": "code",
      "source": [
        "history = model.fit(x_train, y_train, epochs = 80, batch_size = 500, validation_data=(x_test, y_test))"
      ],
      "metadata": {
        "colab": {
          "base_uri": "https://localhost:8080/"
        },
        "id": "LcwTnpmMfQac",
        "outputId": "19906974-26f9-44a9-a2dc-b22dc44f2d46"
      },
      "execution_count": null,
      "outputs": [
        {
          "output_type": "stream",
          "name": "stdout",
          "text": [
            "Epoch 1/80\n",
            "7/7 [==============================] - 24s 1s/step - loss: 1.5388 - accuracy: 0.2500 - val_loss: 1.4388 - val_accuracy: 0.2625\n",
            "Epoch 2/80\n",
            "7/7 [==============================] - 2s 337ms/step - loss: 1.4036 - accuracy: 0.2637 - val_loss: 1.4152 - val_accuracy: 0.2675\n",
            "Epoch 3/80\n",
            "7/7 [==============================] - 2s 319ms/step - loss: 1.3898 - accuracy: 0.2609 - val_loss: 1.3714 - val_accuracy: 0.2713\n",
            "Epoch 4/80\n",
            "7/7 [==============================] - 2s 339ms/step - loss: 1.3788 - accuracy: 0.2744 - val_loss: 1.3717 - val_accuracy: 0.2837\n",
            "Epoch 5/80\n",
            "7/7 [==============================] - 2s 353ms/step - loss: 1.3705 - accuracy: 0.2719 - val_loss: 1.3397 - val_accuracy: 0.3237\n",
            "Epoch 6/80\n",
            "7/7 [==============================] - 2s 332ms/step - loss: 1.3453 - accuracy: 0.3509 - val_loss: 1.2800 - val_accuracy: 0.4425\n",
            "Epoch 7/80\n",
            "7/7 [==============================] - 2s 320ms/step - loss: 1.2751 - accuracy: 0.4141 - val_loss: 1.1925 - val_accuracy: 0.4387\n",
            "Epoch 8/80\n",
            "7/7 [==============================] - 2s 320ms/step - loss: 1.2183 - accuracy: 0.4678 - val_loss: 1.1451 - val_accuracy: 0.5113\n",
            "Epoch 9/80\n",
            "7/7 [==============================] - 2s 338ms/step - loss: 1.1063 - accuracy: 0.5475 - val_loss: 1.0154 - val_accuracy: 0.5913\n",
            "Epoch 10/80\n",
            "7/7 [==============================] - 2s 337ms/step - loss: 1.0316 - accuracy: 0.5800 - val_loss: 1.0070 - val_accuracy: 0.5663\n",
            "Epoch 11/80\n",
            "7/7 [==============================] - 2s 355ms/step - loss: 1.0362 - accuracy: 0.5519 - val_loss: 1.0576 - val_accuracy: 0.4875\n",
            "Epoch 12/80\n",
            "7/7 [==============================] - 2s 327ms/step - loss: 1.0192 - accuracy: 0.5669 - val_loss: 1.0724 - val_accuracy: 0.5600\n",
            "Epoch 13/80\n",
            "7/7 [==============================] - 2s 339ms/step - loss: 1.0419 - accuracy: 0.5706 - val_loss: 1.0087 - val_accuracy: 0.5813\n",
            "Epoch 14/80\n",
            "7/7 [==============================] - 2s 342ms/step - loss: 0.9716 - accuracy: 0.5847 - val_loss: 0.9222 - val_accuracy: 0.6325\n",
            "Epoch 15/80\n",
            "7/7 [==============================] - 2s 340ms/step - loss: 0.9023 - accuracy: 0.6591 - val_loss: 0.8994 - val_accuracy: 0.6550\n",
            "Epoch 16/80\n",
            "7/7 [==============================] - 2s 330ms/step - loss: 0.8676 - accuracy: 0.6525 - val_loss: 0.8496 - val_accuracy: 0.6600\n",
            "Epoch 17/80\n",
            "7/7 [==============================] - 2s 351ms/step - loss: 0.8206 - accuracy: 0.6794 - val_loss: 0.8312 - val_accuracy: 0.6775\n",
            "Epoch 18/80\n",
            "7/7 [==============================] - 2s 325ms/step - loss: 0.7736 - accuracy: 0.6916 - val_loss: 0.7928 - val_accuracy: 0.6662\n",
            "Epoch 19/80\n",
            "7/7 [==============================] - 2s 342ms/step - loss: 0.7774 - accuracy: 0.6988 - val_loss: 0.8245 - val_accuracy: 0.6775\n",
            "Epoch 20/80\n",
            "7/7 [==============================] - 2s 323ms/step - loss: 0.8576 - accuracy: 0.6622 - val_loss: 0.8107 - val_accuracy: 0.6862\n",
            "Epoch 21/80\n",
            "7/7 [==============================] - 2s 344ms/step - loss: 0.7621 - accuracy: 0.6988 - val_loss: 0.8283 - val_accuracy: 0.6687\n",
            "Epoch 22/80\n",
            "7/7 [==============================] - 2s 353ms/step - loss: 0.7283 - accuracy: 0.7106 - val_loss: 0.7379 - val_accuracy: 0.6875\n",
            "Epoch 23/80\n",
            "7/7 [==============================] - 2s 334ms/step - loss: 0.6714 - accuracy: 0.7491 - val_loss: 0.6865 - val_accuracy: 0.7275\n",
            "Epoch 24/80\n",
            "7/7 [==============================] - 2s 347ms/step - loss: 0.6408 - accuracy: 0.7556 - val_loss: 0.8466 - val_accuracy: 0.6750\n",
            "Epoch 25/80\n",
            "7/7 [==============================] - 2s 337ms/step - loss: 0.7094 - accuracy: 0.7241 - val_loss: 0.6984 - val_accuracy: 0.7125\n",
            "Epoch 26/80\n",
            "7/7 [==============================] - 2s 353ms/step - loss: 0.6140 - accuracy: 0.7634 - val_loss: 0.6932 - val_accuracy: 0.7200\n",
            "Epoch 27/80\n",
            "7/7 [==============================] - 2s 350ms/step - loss: 0.6041 - accuracy: 0.7684 - val_loss: 0.6446 - val_accuracy: 0.7450\n",
            "Epoch 28/80\n",
            "7/7 [==============================] - 2s 345ms/step - loss: 0.5681 - accuracy: 0.7781 - val_loss: 0.6149 - val_accuracy: 0.7600\n",
            "Epoch 29/80\n",
            "7/7 [==============================] - 2s 330ms/step - loss: 0.5493 - accuracy: 0.7959 - val_loss: 0.5973 - val_accuracy: 0.7663\n",
            "Epoch 30/80\n",
            "7/7 [==============================] - 2s 327ms/step - loss: 0.5319 - accuracy: 0.8072 - val_loss: 0.5679 - val_accuracy: 0.7900\n",
            "Epoch 31/80\n",
            "7/7 [==============================] - 2s 344ms/step - loss: 0.4917 - accuracy: 0.8166 - val_loss: 0.5424 - val_accuracy: 0.7912\n",
            "Epoch 32/80\n",
            "7/7 [==============================] - 2s 356ms/step - loss: 0.4703 - accuracy: 0.8228 - val_loss: 0.5413 - val_accuracy: 0.7837\n",
            "Epoch 33/80\n",
            "7/7 [==============================] - 3s 365ms/step - loss: 0.4827 - accuracy: 0.8222 - val_loss: 0.5829 - val_accuracy: 0.7763\n",
            "Epoch 34/80\n",
            "7/7 [==============================] - 2s 344ms/step - loss: 0.4668 - accuracy: 0.8234 - val_loss: 0.5212 - val_accuracy: 0.8000\n",
            "Epoch 35/80\n",
            "7/7 [==============================] - 2s 325ms/step - loss: 0.4691 - accuracy: 0.8253 - val_loss: 0.4868 - val_accuracy: 0.8150\n",
            "Epoch 36/80\n",
            "7/7 [==============================] - 2s 343ms/step - loss: 0.4131 - accuracy: 0.8447 - val_loss: 0.5337 - val_accuracy: 0.7750\n",
            "Epoch 37/80\n",
            "7/7 [==============================] - 2s 327ms/step - loss: 0.4248 - accuracy: 0.8397 - val_loss: 0.4776 - val_accuracy: 0.8213\n",
            "Epoch 38/80\n",
            "7/7 [==============================] - 2s 342ms/step - loss: 0.3795 - accuracy: 0.8612 - val_loss: 0.4557 - val_accuracy: 0.8200\n",
            "Epoch 39/80\n",
            "7/7 [==============================] - 2s 357ms/step - loss: 0.3722 - accuracy: 0.8641 - val_loss: 0.5605 - val_accuracy: 0.7962\n",
            "Epoch 40/80\n",
            "7/7 [==============================] - 2s 355ms/step - loss: 0.3969 - accuracy: 0.8547 - val_loss: 0.4972 - val_accuracy: 0.8125\n",
            "Epoch 41/80\n",
            "7/7 [==============================] - 2s 344ms/step - loss: 0.3818 - accuracy: 0.8584 - val_loss: 0.4605 - val_accuracy: 0.8300\n",
            "Epoch 42/80\n",
            "7/7 [==============================] - 2s 341ms/step - loss: 0.3377 - accuracy: 0.8775 - val_loss: 0.4324 - val_accuracy: 0.8363\n",
            "Epoch 43/80\n",
            "7/7 [==============================] - 2s 343ms/step - loss: 0.3073 - accuracy: 0.8850 - val_loss: 0.3996 - val_accuracy: 0.8462\n",
            "Epoch 44/80\n",
            "7/7 [==============================] - 2s 347ms/step - loss: 0.2684 - accuracy: 0.9019 - val_loss: 0.4031 - val_accuracy: 0.8400\n",
            "Epoch 45/80\n",
            "7/7 [==============================] - 2s 352ms/step - loss: 0.2623 - accuracy: 0.8984 - val_loss: 0.3974 - val_accuracy: 0.8625\n",
            "Epoch 46/80\n",
            "7/7 [==============================] - 2s 328ms/step - loss: 0.2948 - accuracy: 0.8934 - val_loss: 0.5307 - val_accuracy: 0.7962\n",
            "Epoch 47/80\n",
            "7/7 [==============================] - 2s 344ms/step - loss: 0.3008 - accuracy: 0.8888 - val_loss: 0.4247 - val_accuracy: 0.8350\n",
            "Epoch 48/80\n",
            "7/7 [==============================] - 2s 347ms/step - loss: 0.2768 - accuracy: 0.9038 - val_loss: 0.4104 - val_accuracy: 0.8500\n",
            "Epoch 49/80\n",
            "7/7 [==============================] - 2s 328ms/step - loss: 0.2530 - accuracy: 0.9066 - val_loss: 0.4203 - val_accuracy: 0.8325\n",
            "Epoch 50/80\n",
            "7/7 [==============================] - 2s 347ms/step - loss: 0.2199 - accuracy: 0.9228 - val_loss: 0.3494 - val_accuracy: 0.8675\n",
            "Epoch 51/80\n",
            "7/7 [==============================] - 2s 357ms/step - loss: 0.2232 - accuracy: 0.9225 - val_loss: 0.4557 - val_accuracy: 0.8313\n",
            "Epoch 52/80\n",
            "7/7 [==============================] - 2s 348ms/step - loss: 0.2180 - accuracy: 0.9219 - val_loss: 0.4170 - val_accuracy: 0.8763\n",
            "Epoch 53/80\n",
            "7/7 [==============================] - 2s 347ms/step - loss: 0.1633 - accuracy: 0.9441 - val_loss: 0.3700 - val_accuracy: 0.8725\n",
            "Epoch 54/80\n",
            "7/7 [==============================] - 2s 330ms/step - loss: 0.1585 - accuracy: 0.9463 - val_loss: 0.3225 - val_accuracy: 0.8825\n",
            "Epoch 55/80\n",
            "7/7 [==============================] - 2s 331ms/step - loss: 0.1304 - accuracy: 0.9544 - val_loss: 0.3209 - val_accuracy: 0.8925\n",
            "Epoch 56/80\n",
            "7/7 [==============================] - 3s 367ms/step - loss: 0.1245 - accuracy: 0.9566 - val_loss: 0.3834 - val_accuracy: 0.8750\n",
            "Epoch 57/80\n",
            "7/7 [==============================] - 2s 353ms/step - loss: 0.1198 - accuracy: 0.9588 - val_loss: 0.3278 - val_accuracy: 0.8900\n",
            "Epoch 58/80\n",
            "7/7 [==============================] - 2s 360ms/step - loss: 0.0984 - accuracy: 0.9628 - val_loss: 0.4155 - val_accuracy: 0.8687\n",
            "Epoch 59/80\n",
            "7/7 [==============================] - 2s 332ms/step - loss: 0.1414 - accuracy: 0.9494 - val_loss: 0.4007 - val_accuracy: 0.8662\n",
            "Epoch 60/80\n",
            "7/7 [==============================] - 2s 332ms/step - loss: 0.1281 - accuracy: 0.9566 - val_loss: 0.3198 - val_accuracy: 0.8838\n",
            "Epoch 61/80\n",
            "7/7 [==============================] - 2s 343ms/step - loss: 0.0849 - accuracy: 0.9706 - val_loss: 0.3161 - val_accuracy: 0.9013\n",
            "Epoch 62/80\n",
            "7/7 [==============================] - 2s 344ms/step - loss: 0.0886 - accuracy: 0.9694 - val_loss: 0.4508 - val_accuracy: 0.8712\n",
            "Epoch 63/80\n",
            "7/7 [==============================] - 2s 346ms/step - loss: 0.1090 - accuracy: 0.9644 - val_loss: 0.3638 - val_accuracy: 0.8825\n",
            "Epoch 64/80\n",
            "7/7 [==============================] - 2s 350ms/step - loss: 0.0824 - accuracy: 0.9703 - val_loss: 0.3410 - val_accuracy: 0.8900\n",
            "Epoch 65/80\n",
            "7/7 [==============================] - 2s 347ms/step - loss: 0.0817 - accuracy: 0.9709 - val_loss: 0.5151 - val_accuracy: 0.8500\n",
            "Epoch 66/80\n",
            "7/7 [==============================] - 2s 348ms/step - loss: 0.0959 - accuracy: 0.9697 - val_loss: 0.4637 - val_accuracy: 0.8712\n",
            "Epoch 67/80\n",
            "7/7 [==============================] - 2s 353ms/step - loss: 0.0840 - accuracy: 0.9700 - val_loss: 0.4102 - val_accuracy: 0.8775\n",
            "Epoch 68/80\n",
            "7/7 [==============================] - 2s 355ms/step - loss: 0.0754 - accuracy: 0.9744 - val_loss: 0.3512 - val_accuracy: 0.8975\n",
            "Epoch 69/80\n",
            "7/7 [==============================] - 2s 331ms/step - loss: 0.0769 - accuracy: 0.9737 - val_loss: 0.3286 - val_accuracy: 0.9062\n",
            "Epoch 70/80\n",
            "7/7 [==============================] - 2s 349ms/step - loss: 0.1223 - accuracy: 0.9625 - val_loss: 0.3575 - val_accuracy: 0.8938\n",
            "Epoch 71/80\n",
            "7/7 [==============================] - 2s 350ms/step - loss: 0.1352 - accuracy: 0.9522 - val_loss: 0.3700 - val_accuracy: 0.8700\n",
            "Epoch 72/80\n",
            "7/7 [==============================] - 2s 361ms/step - loss: 0.0715 - accuracy: 0.9787 - val_loss: 0.3050 - val_accuracy: 0.9050\n",
            "Epoch 73/80\n",
            "7/7 [==============================] - 2s 349ms/step - loss: 0.0456 - accuracy: 0.9878 - val_loss: 0.3731 - val_accuracy: 0.8975\n",
            "Epoch 74/80\n",
            "7/7 [==============================] - 2s 354ms/step - loss: 0.0345 - accuracy: 0.9903 - val_loss: 0.3429 - val_accuracy: 0.9137\n",
            "Epoch 75/80\n",
            "7/7 [==============================] - 2s 338ms/step - loss: 0.0175 - accuracy: 0.9956 - val_loss: 0.3975 - val_accuracy: 0.9137\n",
            "Epoch 76/80\n",
            "7/7 [==============================] - 2s 340ms/step - loss: 0.0149 - accuracy: 0.9972 - val_loss: 0.4206 - val_accuracy: 0.9137\n",
            "Epoch 77/80\n",
            "7/7 [==============================] - 2s 338ms/step - loss: 0.0203 - accuracy: 0.9937 - val_loss: 0.4138 - val_accuracy: 0.9137\n",
            "Epoch 78/80\n",
            "7/7 [==============================] - 2s 351ms/step - loss: 0.0172 - accuracy: 0.9956 - val_loss: 0.4566 - val_accuracy: 0.9087\n",
            "Epoch 79/80\n",
            "7/7 [==============================] - 2s 349ms/step - loss: 0.0133 - accuracy: 0.9969 - val_loss: 0.5565 - val_accuracy: 0.8963\n",
            "Epoch 80/80\n",
            "7/7 [==============================] - 2s 353ms/step - loss: 0.0238 - accuracy: 0.9909 - val_loss: 0.4197 - val_accuracy: 0.9050\n"
          ]
        }
      ]
    },
    {
      "cell_type": "code",
      "source": [
        "model.save(\"trained_model.h5\")"
      ],
      "metadata": {
        "id": "z35QhPFx7wu_"
      },
      "execution_count": null,
      "outputs": []
    },
    {
      "cell_type": "code",
      "source": [
        "from keras.models import Model\n",
        "from keras.models import load_model\n",
        "import os\n",
        "os.chdir('/content/drive/My Drive/Major Project/Feature Files')\n",
        "model = load_model(\"trained_model.h5\")\n",
        "embedding_model = Model(inputs=model.input, outputs=model.layers[-2].output)\n",
        "speech_embeddings = embedding_model.predict(x_test)\n",
        "np.shape(speech_embeddings)"
      ],
      "metadata": {
        "colab": {
          "base_uri": "https://localhost:8080/"
        },
        "id": "pY_Hoky_fYWU",
        "outputId": "edf65899-a3ba-468c-ba1e-28ddc4044774"
      },
      "execution_count": null,
      "outputs": [
        {
          "output_type": "stream",
          "name": "stdout",
          "text": [
            "25/25 [==============================] - 10s 8ms/step\n"
          ]
        },
        {
          "output_type": "execute_result",
          "data": {
            "text/plain": [
              "(800, 500)"
            ]
          },
          "metadata": {},
          "execution_count": 22
        }
      ]
    },
    {
      "cell_type": "code",
      "source": [
        "!pip install fastcluster"
      ],
      "metadata": {
        "colab": {
          "base_uri": "https://localhost:8080/"
        },
        "id": "5UcofzxWh5Zh",
        "outputId": "484983be-3cd3-468c-d0e6-52f190e4d9f1"
      },
      "execution_count": null,
      "outputs": [
        {
          "output_type": "stream",
          "name": "stdout",
          "text": [
            "Looking in indexes: https://pypi.org/simple, https://us-python.pkg.dev/colab-wheels/public/simple/\n",
            "Collecting fastcluster\n",
            "  Downloading fastcluster-1.2.6-cp39-cp39-manylinux_2_5_x86_64.manylinux1_x86_64.manylinux_2_17_x86_64.manylinux2014_x86_64.whl (193 kB)\n",
            "\u001b[2K     \u001b[90m━━━━━━━━━━━━━━━━━━━━━━━━━━━━━━━━━━━━━━━\u001b[0m \u001b[32m193.7/193.7 kB\u001b[0m \u001b[31m8.4 MB/s\u001b[0m eta \u001b[36m0:00:00\u001b[0m\n",
            "\u001b[?25hRequirement already satisfied: numpy>=1.9 in /usr/local/lib/python3.9/dist-packages (from fastcluster) (1.22.4)\n",
            "Installing collected packages: fastcluster\n",
            "Successfully installed fastcluster-1.2.6\n"
          ]
        }
      ]
    },
    {
      "cell_type": "code",
      "source": [
        "import os\n",
        "import matplotlib.pyplot as plt\n",
        "import fastcluster\n",
        "import scipy.cluster.hierarchy as sch\n",
        "import argparse\n",
        "from sklearn.cluster import KMeans\n",
        "from sklearn.model_selection import GridSearchCV\n",
        "import numpy as np\n",
        "import scipy as sp\n",
        "from sklearn.cluster import SpectralClustering\n",
        "from sklearn.model_selection import RandomizedSearchCV\n",
        "from pathlib import Path\n",
        "from pdb import set_trace as bp\n",
        "from scipy.cluster.hierarchy import fcluster\n",
        "from scipy.spatial.distance import squareform\n",
        "from scipy.special import softmax\n",
        "from scipy.linalg import eigh\n",
        "\n",
        "\n",
        "def twoGMMcalib_lin(s, niters=10):\n",
        "    \"\"\"\n",
        "    Train two-Gaussian GMM with shared variance for calibration of scores 's'\n",
        "    Returns threshold for original scores 's' that \"separates\" the two gaussians\n",
        "    and array of linearly callibrated log odds ratio scores.\n",
        "    \"\"\"\n",
        "    weights = np.array([0.5, 0.5])\n",
        "    means = np.mean(s) + np.std(s) * np.array([-1, 1])\n",
        "    var = np.var(s)\n",
        "    threshold = np.inf\n",
        "    for _ in range(niters):\n",
        "        lls = np.log(weights) - 0.5 * np.log(var) - 0.5 * (s[:, np.newaxis] - means)**2 / var\n",
        "        gammas = softmax(lls, axis=1)\n",
        "        cnts = np.sum(gammas, axis=0)\n",
        "        weights = cnts / cnts.sum()\n",
        "        means = s.dot(gammas) / cnts\n",
        "        var = ((s**2).dot(gammas) / cnts - means**2).dot(weights)\n",
        "        threshold = -0.5 * (np.log(weights**2 / var) - means**2 / var).dot([1, -1]) / (means/var).dot([1, -1])\n",
        "    return threshold, lls[:, means.argmax()] - lls[:, means.argmin()]\n",
        "\n",
        "\n",
        "def cos_similarity(x):\n",
        "    \"\"\"Compute cosine similarity matrix in CPU & memory sensitive way\n",
        "    Args:\n",
        "        x (np.ndarray): embeddings, 2D array, embeddings are in rows\n",
        "    Returns:\n",
        "        np.ndarray: cosine similarity matrix\n",
        "    \"\"\"\n",
        "\n",
        "    assert x.ndim == 2, f'x has {x.ndim} dimensions, it must be matrix'\n",
        "    x = x / (np.sqrt(np.sum(np.square(x), axis=1, keepdims=True)) + 1.0e-32)\n",
        "    # return x.dot(x.T)\n",
        "    assert np.allclose(np.ones_like(x[:, 0]), np.sum(np.square(x), axis=1))\n",
        "    max_n_elm = 200000000\n",
        "    step = max(max_n_elm // (x.shape[0] * x.shape[0]), 1)\n",
        "    retval = np.zeros(shape=(x.shape[0], x.shape[0]), dtype=np.float64)\n",
        "    x0 = np.expand_dims(x, 0)\n",
        "    x1 = np.expand_dims(x, 1)\n",
        "    for i in range(0, x.shape[1], step):\n",
        "        product = x0[:, :, i:i+step] * x1[:, :, i:i+step]\n",
        "        retval += np.sum(product, axis=2, keepdims=False)\n",
        "    assert np.all(retval >= -1.0001), retval\n",
        "    assert np.all(retval <= 1.0001), retval\n",
        "    return retval\n",
        "\n",
        "\n",
        "def AHC(x):\n",
        "\tscr_mx = cos_similarity(x)\n",
        "\tthr, _ = twoGMMcalib_lin(scr_mx.ravel())\n",
        "\tscr_mx = squareform(-scr_mx, checks=False)\n",
        "\tlin_mat = fastcluster.linkage(scr_mx, method='average', preserve_input='False')\n",
        "\tdel scr_mx\n",
        "\tadjust = abs(lin_mat[:, 2].min())\n",
        "\tlin_mat[:, 2] += adjust\n",
        "\tlabels1st = fcluster(lin_mat, -(thr - 0.015) + adjust,criterion='distance') - 1\n",
        "\treturn labels1st\n",
        "\n",
        "\n",
        "def labels_to_rttm(segments, labels, rttm_file, rttm_channel=1):\n",
        "    labels = labels+1\n",
        "    reco2segs = {}\n",
        "\n",
        "\n",
        "    with open(segments, 'r') as segments_file:\n",
        "        lines = segments_file.readlines()\n",
        "    for line, label in zip(lines, labels):\n",
        "        seg, reco, start, end = line.strip().split()\n",
        "        start, end = float(start), float(end)\n",
        "\n",
        "        try:\n",
        "            if reco in reco2segs:\n",
        "                reco2segs[reco] = \"{} {},{},{}\".format(reco2segs[reco],start,end,label)  #reco2segs[reco] + \" \" + start + \",\" + end + \",\" + label\n",
        "            else:\n",
        "                reco2segs[reco] = \"{} {},{},{}\".format(reco,start,end,label) #reco + \" \" + start + \",\" + end + \",\" + label\n",
        "        except KeyError:\n",
        "            raise RuntimeError(\"Missing label for segment {0}\".format(seg))\n",
        "\n",
        "    contiguous_segs = []\n",
        "    for reco in sorted(reco2segs):\n",
        "        segs = reco2segs[reco].strip().split()\n",
        "        new_segs = \"\"\n",
        "        for i in range(1, len(segs)-1):\n",
        "            start, end, label = segs[i].split(',')\n",
        "            next_start, next_end, next_label = segs[i+1].split(',')\n",
        "            if float(end) > float(next_start):\n",
        "                done = False\n",
        "                avg = str((float(next_start) + float(end)) / 2.0)\n",
        "                segs[i+1] = ','.join([avg, next_end, next_label])\n",
        "                new_segs += \" {},{},{}\".format(start,avg,label)   #\" \" + start + \",\" + avg + \",\" + label\n",
        "            else:\n",
        "                new_segs += \" {},{},{}\".format(start,end,label)   #\" \" + start + \",\" + end + \",\" + label\n",
        "        start, end, label = segs[-1].split(',')\n",
        "        new_segs += \" {},{},{}\".format(start,end,label)  #\" \" + start + \",\" + end + \",\" + label\n",
        "        contiguous_segs.append(reco + new_segs)\n",
        "\n",
        "    merged_segs = []\n",
        "    for reco_line in contiguous_segs:\n",
        "        segs = reco_line.strip().split()\n",
        "        reco = segs[0]\n",
        "        new_segs = \"\"\n",
        "        for i in range(1, len(segs)-1):\n",
        "            start, end, label = segs[i].split(',')\n",
        "            next_start, next_end, next_label = segs[i+1].split(',')\n",
        "            if float(end) == float(next_start) and label == next_label:\n",
        "                segs[i+1] = ','.join([start, next_end, next_label])\n",
        "            else:\n",
        "                new_segs += \" {},{},{}\".format(start,end,label)  #\" \" + start + \",\" + end + \",\" + label\n",
        "        start, end, label = segs[-1].split(',')\n",
        "        new_segs += \" {},{},{}\".format(start,end,label)  #\" \" + start + \",\" + end + \",\" + label\n",
        "        merged_segs.append(reco + new_segs)\n",
        "\n",
        "    with open(rttm_file, 'w') as rttm_writer:\n",
        "        for reco_line in merged_segs:\n",
        "            segs = reco_line.strip().split()\n",
        "            reco = segs[0]\n",
        "            for i in range(1, len(segs)):\n",
        "                start, end, label = segs[i].strip().split(',')\n",
        "                print(\"LANGUAGE {0} {1} {2:7.3f} {3:7.3f} <NA> <NA> L{4} <NA> <NA>\".format(\n",
        "                    reco, rttm_channel, float(start), float(end)-float(start), label), file=rttm_writer)\n",
        "\n",
        "\n",
        "def get_args():\n",
        "    parser = argparse.ArgumentParser()\n",
        "    parser.add_argument(\"embeddings_segments_list\") # emb_segments.list or llk_segments.list\n",
        "    parser.add_argument(\"rttm_path\") # exps/exp1/ecapa_tdnn_voxlingua_speechbrain_language_embeddings/rttm_outputs\n",
        "    parser.add_argument('mode', type=str, help='AHC,kmeans,spectral_clustering')\n",
        "    args = parser.parse_args()\n",
        "    embeddings_segments = np.genfromtxt(args.embeddings_segments_list, dtype=str)\n",
        "    return embeddings_segments, args.rttm_path, args.mode\n",
        "\n",
        "def out_filename(emb_file, rttm_path, clustering_hparams=\"\"):\n",
        "    rec_basename = os.path.splitext(os.path.basename(emb_file))[0]\n",
        "    segment_basename = os.path.basename(os.path.dirname(emb_file))\n",
        "    # bp()\n",
        "    out_file = os.path.join(rttm_path, segment_basename, f\"{clustering_hparams}\", f\"{rec_basename}.rttm\")\n",
        "    if not os.path.exists(os.path.dirname(out_file)):\n",
        "        os.makedirs(os.path.dirname(out_file))\n",
        "    return out_file\n",
        "\n",
        "\n",
        "def main():\n",
        "    embeddings_segments, rttm_path, mode = speech_embeddings,\"/content/\",\"AHC\"\n",
        "\n",
        "    clustering_algo_dict = {\"AHC\": AHC}\n",
        "\n",
        "    cluster = clustering_algo_dict[mode]\n",
        "\n",
        "\n",
        "\n",
        "    #for emb in range(0,len(embeddings_segments)):\n",
        "      #data = np.reshape(embeddings_segments[emb],(1,len(embeddings_segments[emb])))\n",
        "      #print(data.shape)\n",
        "    data = embeddings_segments\n",
        "    labels=cluster(data)\n",
        "        #out_file = out_filename(emb_file, rttm_path, mode)\n",
        "    #labels_to_rttm(segments, labels, out_file)\n",
        "    #print(f\"\\n\\n\\n\\n Clustering ({mode}) done for {emb_file}, saved to {out_file}.\\n\\n\\n\\n\")\n",
        "    print(labels)\n",
        "    return labels\n",
        "\n",
        "\n",
        "x=main()\n"
      ],
      "metadata": {
        "colab": {
          "base_uri": "https://localhost:8080/"
        },
        "id": "DEx1mHeZg8gb",
        "outputId": "163da668-d760-45aa-f391-2463a539d0c3"
      },
      "execution_count": null,
      "outputs": [
        {
          "output_type": "stream",
          "name": "stdout",
          "text": [
            "[ 0 12 12  2  0 12  2  0 12  9 12  0  2  0  9 12  2  2 12  2  2  9  0  9\n",
            "  9  9  2  0  9  0  9  2  9  2 12 12  2  2  2  9 12  9 12  9  9  0  2 12\n",
            "  9  2  2  2  2  2 12  9 12  2  9  0 12  0  0  9  0 12 12  2 12  9 12 12\n",
            "  9  0 12  9  2  2  9  0  9  2  9 12  0  2  4  0  2 10  0  9 12  0  0  0\n",
            "  2  9  0  2  9 12 10  2  0  9  9  9  0  2  9 12  2  2 12  2  0  2  9  9\n",
            "  2  9 12  2 12  0  2  0 12 12  0  9  9 12 12 12  9  9  0  9  2 12  2  0\n",
            " 12  0  9 12  9  0 12 12  9  5  9  9 12 12  2 12 11  0  2  9  2  9  9  9\n",
            "  9  9  0 12  2  9  9  0 10  2 12  0  0  0  2  2 12  9 12 10  2 12  7  9\n",
            "  0  0  0  2 12 10  9  7  9  0  0  9  9  2 12  0  0  2  9  0  9  9  9  9\n",
            "  0  2  9 10  2  9  9 12  0 12  9  0  0  0  0  2  0 12 12  2  9  9  0  2\n",
            "  9  0  2  2  9  9  9  9  2  0  2  9 10 10 12 12  0  2  9  9  9  2 12  9\n",
            " 12 10  2  0 12 12  9 11  2 12  2  2  9  4  0  9  9 12  2  9  9  0  2  0\n",
            "  0  9 12  0  2  0  0  9  0  4 12  9  9  0  9  2 12  2 12  4 12  0  0 12\n",
            "  0  0  2  9 12 10  9  2  9  2  2 12 12  9  9 12 10 12  0 12  9  2  2  2\n",
            "  0  0  2  0  2  0  2  2 12  9  2 12  9  0 12  0  2  9 12  9  0  9  9  4\n",
            "  9  9  9 12  9  0 12  9  0  9  0  9  4  0  0 12 12  2  9 12 12 12  2 12\n",
            "  2  0  2  0  0  2  9  0  0  0 12  0  0  2  2 12  2  0  9  6  0  9  9  9\n",
            "  9 10  9  2 12  9  9 12 12  0  0  4  9 12 12 12  9 12  2  2  0  9 12  9\n",
            " 12  9  0  6 12  2  2  2 12  2  9  0  0  9 12  0  2  9  0 12  0  2  0  0\n",
            "  9  0  2  9  0  9  0  2  2  0 12  9 12  2  0  9  9  0  0 12  9  9  2  2\n",
            " 10  0  9 12  0  9  0  0  0  0 12  9 12  9  9  0  1  2  9  2  9  9 12  9\n",
            " 12 12  2  2 12  0  0  0  9  9  0 12  2  2 12  2  9  9  2  0 12  0  9  0\n",
            "  9 12  9 12 12  9  2 10 12 12  0  9  9 12  2 12 12  8  2  0  9  0  2  2\n",
            "  9  2  9  9  2  2 12 10  0 12 12 12  2  9  0  9  0  2  2  2 12 12 10  9\n",
            "  9 10  9  2  2  2 12 12 12  2  2  0 10 12  2  0 12  2  9 12 12 12  9 12\n",
            "  2  0  0  0  2  0  2 12  0  0  9 12  9  2  0  2 12 12 12  0  0 12  2  9\n",
            "  9  2  2  2  9  9  9  2 12  2 12  2 12 10 12  9  6 11  2  9 12 12  0 12\n",
            "  2  0  9  9 12  0  9  0  0  2  9 12 12 10 10  2  2  2  9  0 10  9  0 10\n",
            " 12  2  0  0  2 12  0  9  2  2 12  9  4  9  9 12 12 12  2  9  0  2  2  0\n",
            "  4  0  2  5 12  0 13  0  0  9  0  9 12  9  9  0  0  3 12  9  0  9  9  0\n",
            "  2  9 12  2 10 12  6  0  9  2  2 12 10 12  9 12  9  2 12  9  9  9  2 12\n",
            "  0  0  9  0  0 12  0 12  2  0  0  2  9  0  9  0  0 12 12  0  0  0 12  9\n",
            " 10 12  2  0  2 12  2  2  2  0 12  9  2  0 12  2  9 12 12  2 12  9  2  0\n",
            "  9 12 12 12 12 10  9  0]\n"
          ]
        }
      ]
    },
    {
      "cell_type": "code",
      "source": [
        "import seaborn as sns\n",
        "import matplotlib.pyplot as plt\n",
        "arr = np.zeros((800,1))\n",
        "for i in range(0,len(x)):\n",
        "  for j in range(0,1):\n",
        "    arr[i]=x[i]\n",
        "sns.scatterplot(arr[0:255],cmap=\"coolwarm\")\n",
        "plt.show()"
      ],
      "metadata": {
        "colab": {
          "base_uri": "https://localhost:8080/",
          "height": 503
        },
        "id": "aC7fdnrz4OVm",
        "outputId": "acaaacba-d4ff-4fb1-8327-0fea282ea26e"
      },
      "execution_count": null,
      "outputs": [
        {
          "output_type": "stream",
          "name": "stderr",
          "text": [
            "/usr/local/lib/python3.9/dist-packages/seaborn/utils.py:122: UserWarning: No data for colormapping provided via 'c'. Parameters 'cmap' will be ignored\n",
            "  scout = method(scout_x, scout_y, **kws)\n",
            "/usr/local/lib/python3.9/dist-packages/seaborn/relational.py:573: UserWarning: No data for colormapping provided via 'c'. Parameters 'cmap' will be ignored\n",
            "  points = ax.scatter(x=x, y=y, **kws)\n"
          ]
        },
        {
          "output_type": "display_data",
          "data": {
            "text/plain": [
              "<Figure size 640x480 with 1 Axes>"
            ],
            "image/png": "[encoded data removed]"
          },
          "metadata": {}
        }
      ]
    },
    {
      "cell_type": "code",
      "source": [
        "len(x)"
      ],
      "metadata": {
        "colab": {
          "base_uri": "https://localhost:8080/"
        },
        "id": "9xxm5FUk4df4",
        "outputId": "5d20748e-c771-42b9-cc60-1b3f00cfb29b"
      },
      "execution_count": null,
      "outputs": [
        {
          "output_type": "execute_result",
          "data": {
            "text/plain": [
              "800"
            ]
          },
          "metadata": {},
          "execution_count": 33
        }
      ]
    },
    {
      "cell_type": "code",
      "source": [],
      "metadata": {
        "id": "NTW9srpA50j9"
      },
      "execution_count": null,
      "outputs": []
    }
  ],
  "metadata": {
    "accelerator": "GPU",
    "colab": {
      "provenance": []
    },
    "gpuClass": "standard",
    "kernelspec": {
      "display_name": "Python 3",
      "name": "python3"
    },
    "language_info": {
      "name": "python"
    }
  },
  "nbformat": 4,
  "nbformat_minor": 0
}